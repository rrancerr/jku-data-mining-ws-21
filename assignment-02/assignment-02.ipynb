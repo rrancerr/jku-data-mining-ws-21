{
 "cells": [
  {
   "cell_type": "markdown",
   "id": "0ac9b593",
   "metadata": {
    "pycharm": {
     "name": "#%% md\n"
    }
   },
   "source": [
    "# Data Mining Assignment 2\n",
    "\n",
    "## Task 1: Marketing data"
   ]
  },
  {
   "cell_type": "code",
   "execution_count": 1,
   "outputs": [
    {
     "name": "stdout",
     "output_type": "stream",
     "text": [
      "   customerNr  year_of_birth   education marital_status      income  kids  \\\n",
      "0        1826           1970  Graduation       Divorced  $84,835.00     0   \n",
      "1           1           1961  Graduation         Single  $57,091.00     0   \n",
      "2       10476           1958  Graduation        Married  $67,267.00     0   \n",
      "3        1386           1967  Graduation       Together  $32,474.00     1   \n",
      "4        5371           1989  Graduation         Single  $21,474.00     1   \n",
      "\n",
      "   teens customer_since  last_purchase_in_days  web_purchases  \\\n",
      "0      0        6/16/14                      0              4   \n",
      "1      0        6/15/14                      0              7   \n",
      "2      1        5/13/14                      0              3   \n",
      "3      1        5/11/14                      0              1   \n",
      "4      0         4/8/14                      0              3   \n",
      "\n",
      "   catalog_purchases  store_purchases  web_visits  campaign3  campaign4  \\\n",
      "0                  4                6           1          0          0   \n",
      "1                  3                7           5          0          0   \n",
      "2                  2                5           2          0          0   \n",
      "3                  0                2           7          0          0   \n",
      "4                  1                2           7          1          0   \n",
      "\n",
      "   campaign5  campaign1  campaign2 country  \n",
      "0          0          0          0      SP  \n",
      "1          0          0          1      CA  \n",
      "2          0          0          0      US  \n",
      "3          0          0          0     AUS  \n",
      "4          0          0          0      SP  \n",
      "customerNr                int64\n",
      "year_of_birth             int64\n",
      "education                object\n",
      "marital_status           object\n",
      "income                   object\n",
      "kids                      int64\n",
      "teens                     int64\n",
      "customer_since           object\n",
      "last_purchase_in_days     int64\n",
      "web_purchases             int64\n",
      "catalog_purchases         int64\n",
      "store_purchases           int64\n",
      "web_visits                int64\n",
      "campaign3                 int64\n",
      "campaign4                 int64\n",
      "campaign5                 int64\n",
      "campaign1                 int64\n",
      "campaign2                 int64\n",
      "country                  object\n",
      "dtype: object\n",
      "\n",
      "Rows=2240\n",
      "\n",
      "Columns=19\n",
      "\n",
      "Number of NaN:\n",
      "\n"
     ]
    },
    {
     "data": {
      "text/plain": "customerNr                0\nyear_of_birth             0\neducation                 0\nmarital_status            0\nincome                   24\nkids                      0\nteens                     0\ncustomer_since            0\nlast_purchase_in_days     0\nweb_purchases             0\ncatalog_purchases         0\nstore_purchases           0\nweb_visits                0\ncampaign3                 0\ncampaign4                 0\ncampaign5                 0\ncampaign1                 0\ncampaign2                 0\ncountry                   0\ndtype: int64"
     },
     "execution_count": 1,
     "metadata": {},
     "output_type": "execute_result"
    }
   ],
   "source": [
    "import datetime\n",
    "import math\n",
    "import seaborn as sb\n",
    "\n",
    "import pandas as pd\n",
    "import matplotlib.pyplot as plt\n",
    "\n",
    "# read in file\n",
    "df = pd.read_csv('data/company_data.csv')\n",
    "\n",
    "# check how the data looks\n",
    "print(df.head())\n",
    "# check data types\n",
    "print(df.dtypes)\n",
    "print('\\nRows=' + str(len(df.index)) + '\\n')\n",
    "print('Columns=' + str(len(df.columns)) + '\\n')\n",
    "print('Number of NaN:''\\n')\n",
    "df.isna().sum()"
   ],
   "metadata": {
    "collapsed": false,
    "pycharm": {
     "name": "#%%\n"
    }
   }
  },
  {
   "cell_type": "code",
   "execution_count": 2,
   "outputs": [
    {
     "data": {
      "text/plain": "99"
     },
     "execution_count": 2,
     "metadata": {},
     "output_type": "execute_result"
    }
   ],
   "source": [
    "max(df.last_purchase_in_days)"
   ],
   "metadata": {
    "collapsed": false,
    "pycharm": {
     "name": "#%%\n"
    }
   }
  },
  {
   "cell_type": "markdown",
   "source": [
    "### 1.1 The distribution of the age within each marital status"
   ],
   "metadata": {
    "collapsed": false
   }
  },
  {
   "cell_type": "code",
   "execution_count": 3,
   "outputs": [
    {
     "name": "stdout",
     "output_type": "stream",
     "text": [
      "['Divorced' 'Single' 'Married' 'Together' 'Widow' 'YOLO' 'Alone' 'Absurd']\n"
     ]
    },
    {
     "data": {
      "text/plain": "<Figure size 720x360 with 1 Axes>",
      "image/png": "[encoded data removed]"
     },
     "metadata": {
      "needs_background": "light"
     },
     "output_type": "display_data"
    }
   ],
   "source": [
    "\n",
    "\n",
    "# calculate age with respect to year of birth and add new col to dataframe\n",
    "now = datetime.datetime.now()\n",
    "current_year = now.year\n",
    "\n",
    "df['age'] = current_year - df.year_of_birth\n",
    "\n",
    "# find out the different marital statuses in the data frame\n",
    "unique_marital_status = df.marital_status.unique()\n",
    "print(unique_marital_status)\n",
    "\n",
    "# create boxplots for each\n",
    "df[['marital_status', 'age']].boxplot(by='marital_status', column='age', figsize=(10, 5))\n",
    "plt.title('Distribution of the age within each marital status')\n",
    "plt.suptitle('')\n",
    "plt.ylabel('age')\n",
    "plt.xlabel('marital status')\n",
    "plt.savefig('exports/1_1.pdf')\n",
    "plt.show()"
   ],
   "metadata": {
    "collapsed": false,
    "pycharm": {
     "name": "#%%\n"
    }
   }
  },
  {
   "cell_type": "markdown",
   "source": [
    "### 1.2 What is the distribution of the education?"
   ],
   "metadata": {
    "collapsed": false
   }
  },
  {
   "cell_type": "code",
   "execution_count": 4,
   "outputs": [
    {
     "name": "stdout",
     "output_type": "stream",
     "text": [
      "Graduation    1127\n",
      "PhD            486\n",
      "Master         370\n",
      "2n Cycle       203\n",
      "Basic           54\n",
      "Name: education, dtype: int64\n"
     ]
    },
    {
     "data": {
      "text/plain": "<Figure size 720x720 with 1 Axes>",
      "image/png": "[encoded data removed]"
     },
     "metadata": {
      "needs_background": "light"
     },
     "output_type": "display_data"
    }
   ],
   "source": [
    "edu_distr = df.education.value_counts()\n",
    "print(edu_distr)\n",
    "edu_distr.plot(kind='bar', figsize=(10, 10))\n",
    "plt.title('Distribution of education')\n",
    "plt.suptitle('')\n",
    "plt.ylabel('number of customers')\n",
    "plt.xlabel('education')\n",
    "plt.savefig('exports/1_2.pdf')"
   ],
   "metadata": {
    "collapsed": false,
    "pycharm": {
     "name": "#%%\n"
    }
   }
  },
  {
   "cell_type": "markdown",
   "source": [
    "### 1.3 Which country has the most web purchases?\n"
   ],
   "metadata": {
    "collapsed": false
   }
  },
  {
   "cell_type": "code",
   "execution_count": 5,
   "outputs": [
    {
     "name": "stdout",
     "output_type": "stream",
     "text": [
      "web_purchases    4382\n",
      "Name: SP, dtype: int64\n"
     ]
    },
    {
     "data": {
      "text/plain": "<Figure size 720x360 with 1 Axes>",
      "image/png": "[encoded data removed]"
     },
     "metadata": {
      "needs_background": "light"
     },
     "output_type": "display_data"
    }
   ],
   "source": [
    "wp_per_country = df[['web_purchases', 'country']].groupby('country').sum()\n",
    "print(wp_per_country.loc[wp_per_country['web_purchases'].idxmax()])\n",
    "wp_per_country.plot(kind='bar', figsize=(10, 5))\n",
    "plt.title('Distribution of Web Purchases per country')\n",
    "plt.suptitle('')\n",
    "plt.ylabel('number of customers')\n",
    "plt.xlabel('country')\n",
    "plt.savefig('exports/1_3.pdf')"
   ],
   "metadata": {
    "collapsed": false,
    "pycharm": {
     "name": "#%%\n"
    }
   }
  },
  {
   "cell_type": "markdown",
   "source": [
    "### 1.4 How does the average customer look like?"
   ],
   "metadata": {
    "collapsed": false
   }
  },
  {
   "cell_type": "code",
   "execution_count": 6,
   "outputs": [
    {
     "name": "stdout",
     "output_type": "stream",
     "text": [
      "Birthyear: 1969.0\n",
      "Age: 53.0\n",
      "Education: Graduation\n",
      "Marital Status: Married\n",
      "Income: 52247.25\n",
      "Kids: 0.44\n",
      "Teens: 0.51\n",
      "Customer since: 10.07.2013\n",
      "Last purchase in days: 49.11\n",
      "Web purchases: 4.08\n",
      "Catalog purchases: 2.66\n",
      "Store purchases: 5.79\n",
      "Web visits: 5.32\n",
      ">>Customers accquired through campaigns: 667\n",
      ">>Customers not accquired through campaigns: 1573\n",
      "Customer was not accquired through a campaign\n",
      "Country: SP\n"
     ]
    }
   ],
   "source": [
    "from datetime import timedelta\n",
    "\n",
    "# birthyear\n",
    "avg_year = df.year_of_birth.mean()\n",
    "print('Birthyear: ' + str(round(avg_year, 0)))\n",
    "\n",
    "# age\n",
    "avg_age = df.age.mean()\n",
    "print('Age: ' + str(round(avg_age, 0)))\n",
    "\n",
    "# education\n",
    "max_edu = edu_distr.idxmax()\n",
    "print('Education: ' + str(max_edu))\n",
    "\n",
    "# marital status\n",
    "# get max count marital status value\n",
    "ms_distr = df.marital_status.value_counts()\n",
    "max_ms = ms_distr.idxmax()\n",
    "print('Marital Status: ' + str(max_ms))\n",
    "\n",
    "# income\n",
    "# convert objects to floats\n",
    "df['income_float'] = df.income.str.replace('[\\$,]', '', regex=True).astype(float)\n",
    "# calc mean\n",
    "avg_inc = df.income_float.mean()\n",
    "print('Income: ' + str(round(avg_inc, 2)))\n",
    "\n",
    "# kids\n",
    "avg_kids = df.kids.mean()\n",
    "print('Kids: ' + str(round(avg_kids, 2)))\n",
    "\n",
    "# teens\n",
    "avg_teens = df.teens.mean()\n",
    "print('Teens: ' + str(round(avg_teens, 2)))\n",
    "\n",
    "# customer since\n",
    "# convert objects to datetime\n",
    "df['customer_since_date_obj'] = pd.to_datetime(df.customer_since)\n",
    "# calc days of customership since date\n",
    "days_cust_since_today_df = (now - df.customer_since_date_obj).dt.days\n",
    "# avg days\n",
    "avg_d_cust_since = round(days_cust_since_today_df.mean(), 0)\n",
    "# calc back to date\n",
    "avg_date_cust_since = now - timedelta(avg_d_cust_since)\n",
    "print('Customer since: ' + str(avg_date_cust_since.strftime('%d.%m.%Y')))\n",
    "\n",
    "# last purchase in days\n",
    "avg_purch_in_days = df.last_purchase_in_days.mean()\n",
    "print('Last purchase in days: ' + str(round(avg_purch_in_days, 2)))\n",
    "\n",
    "# web purchases\n",
    "avg_web_purch = df.web_purchases.mean()\n",
    "print('Web purchases: ' + str(round(avg_web_purch, 2)))\n",
    "\n",
    "# catalog purchases\n",
    "avg_cat_purch = df.catalog_purchases.mean()\n",
    "print('Catalog purchases: ' + str(round(avg_cat_purch, 2)))\n",
    "\n",
    "# store purchases\n",
    "avg_store_purch = df.store_purchases.mean()\n",
    "print('Store purchases: ' + str(round(avg_store_purch, 2)))\n",
    "\n",
    "# web visits\n",
    "avg_web_vis = df.web_visits.mean()\n",
    "print('Web visits: ' + str(round(avg_web_vis, 2)))\n",
    "\n",
    "# campaigns\n",
    "# assuming the numbers are binary indicates whether a customer was accquired or not, missing domain knowledge / data-origin here\n",
    "# prepare campaign data\n",
    "campaign_dict = {'Campaign-Nr': [1, 2, 3, 4, 5], 'successful_accquired_customers': [df.campaign1.sum(),\n",
    "                                                                                    df.campaign2.sum(),\n",
    "                                                                                    df.campaign3.sum(),\n",
    "                                                                                    df.campaign4.sum(),\n",
    "                                                                                    df.campaign5.sum()]}\n",
    "# create df\n",
    "campaign_df_sum = pd.DataFrame(data=campaign_dict)\n",
    "# find out amount of customers, accquired through campaigns\n",
    "sum_of_accquired_cust_through_camp = campaign_df_sum.successful_accquired_customers.sum()\n",
    "print('>>Customers accquired through campaigns: ' + str(sum_of_accquired_cust_through_camp))\n",
    "print('>>Customers not accquired through campaigns: ' + str((len(df.index) - sum_of_accquired_cust_through_camp)))\n",
    "print('Customer was not accquired through a campaign')\n",
    "\n",
    "# country\n",
    "country_distr = df.country.value_counts()\n",
    "print('Country: ' + country_distr.idxmax())"
   ],
   "metadata": {
    "collapsed": false,
    "pycharm": {
     "name": "#%%\n"
    }
   }
  },
  {
   "cell_type": "markdown",
   "source": [
    "### 1.5 Which previous marketing campaign was most successful?"
   ],
   "metadata": {
    "collapsed": false
   }
  },
  {
   "cell_type": "code",
   "execution_count": 7,
   "outputs": [
    {
     "name": "stdout",
     "output_type": "stream",
     "text": [
      "Best campaign was nr: 4\n",
      "   Campaign-Nr  successful_accquired_customers\n",
      "0            1                             144\n",
      "1            2                              30\n",
      "2            3                             163\n",
      "3            4                             167\n",
      "4            5                             163\n"
     ]
    },
    {
     "data": {
      "text/plain": "<Figure size 432x288 with 1 Axes>",
      "image/png": "[encoded data removed]"
     },
     "metadata": {
      "needs_background": "light"
     },
     "output_type": "display_data"
    }
   ],
   "source": [
    "max_campaign = campaign_df_sum.loc[campaign_df_sum['successful_accquired_customers'].idxmax()]\n",
    "print('Best campaign was nr: ' + str(max_campaign['Campaign-Nr']))\n",
    "plt_camp = campaign_df_sum.plot(kind='scatter', x='Campaign-Nr', y='successful_accquired_customers',\n",
    "                                ylabel='Amnt. of customers accquired')\n",
    "plt_camp.set_xticks(range(1, 6))\n",
    "print(campaign_df_sum)\n",
    "plt.title('Most successful marketing campaigns')\n",
    "plt.suptitle('')\n",
    "plt.xlabel('campaign number')\n",
    "plt.savefig('exports/1_5.pdf')\n",
    "plt.show()"
   ],
   "metadata": {
    "collapsed": false,
    "pycharm": {
     "name": "#%%\n"
    }
   }
  },
  {
   "cell_type": "markdown",
   "source": [
    "## Task 2: Monthly revenues\n"
   ],
   "metadata": {
    "collapsed": false
   }
  },
  {
   "cell_type": "code",
   "execution_count": 8,
   "outputs": [
    {
     "name": "stdout",
     "output_type": "stream",
     "text": [
      "F1: Max=11000.0; Min=9923.0; Diff=1077.0\n",
      "F2: Max=13160.0; Min=9965.0; Diff=3195.0\n",
      "F3: Max=10666.0; Min=9048.0; Diff=1618.0\n",
      "F4: Max=13000.0; Min=8617.0; Diff=4383.0\n",
      "--std--\n",
      "F1:246.23326708262195\n",
      "F2:624.528173486779\n",
      "F3:426.44555006673147\n",
      "F4:932.102683032922\n"
     ]
    }
   ],
   "source": [
    "import numpy as np\n",
    "import math\n",
    "\n",
    "mr_df = pd.read_csv('data/revenues.csv')\n",
    "# check how the data looks\n",
    "# # print(mr_df.head())\n",
    "# check data types\n",
    "# print(mr_df.dtypes)\n",
    "\n",
    "# drop branch first column and switch rows and cols\n",
    "mr_df_col_drop = mr_df.drop(columns='Branch', axis=1)\n",
    "\n",
    "# remove the 'Week'-prefix and convert it to integers\n",
    "mr_df_col_drop.columns = pd.to_numeric(mr_df_col_drop.columns.str.replace('Week ', ''))\n",
    "\n",
    "# max  and min revunue value\n",
    "max_rev = mr_df_col_drop.T.max().max()\n",
    "min_rev = mr_df_col_drop.T.min().min()\n",
    "lower_bound_chart_rev = math.floor((min_rev - 1000) / 100) * 100\n",
    "\n",
    "# boxplot\n",
    "mr_df_col_drop.index = mr_df['Branch']\n",
    "'''bplot = mr_df_col_drop.T.boxplot(figsize=(10, 5))\n",
    "bplot.set_ylabel('Revenue')\n",
    "bplot.set_xlabel('Branch')\n",
    "bplot.set_title('Distribution of revenues')\n",
    "plt.savefig('exports/2_1.pdf')\n",
    "\n",
    "# plot all branches in a single plot\n",
    "all_branches_plt = mr_df_col_drop.T.plot(\n",
    "    xlabel='Week',\n",
    "    ylabel='Revenue',\n",
    "    figsize=(10, 5),\n",
    "    xticks=np.arange(0, len(mr_df_col_drop.columns) + 1, step=5),\n",
    "    yticks=np.arange(lower_bound_chart_rev, max_rev, step=500),\n",
    "    title='All Revenues in a single plot')\n",
    "plt.savefig('exports/2_2.pdf')\n",
    "\n",
    "# sub line plots\n",
    "sep_branches_plt = mr_df_col_drop.T.plot(\n",
    "    xlabel='Week',\n",
    "    ylabel='Revenue',\n",
    "    figsize=(10, 20),\n",
    "    xticks=np.arange(0, len(mr_df_col_drop.columns) + 1, step=5),\n",
    "    yticks=np.arange(lower_bound_chart_rev, max_rev, step=500),\n",
    "    subplots=True,\n",
    "    title='Subplots'\n",
    ")\n",
    "plt.savefig('exports/2_3.pdf')\n",
    "\n",
    "# overall revenue\n",
    "mr_df_with_branchnames = mr_df_col_drop.copy()\n",
    "mr_df_with_branchnames = mr_df_with_branchnames.append(mr_df_with_branchnames.sum(numeric_only=True), ignore_index=True)\n",
    "all_revenues = mr_df_with_branchnames.iloc[[-1]].T\n",
    "all_revenues = all_revenues.rename(columns={4: 'Sum of all revenues'})\n",
    "all_revenues.plot(\n",
    "    xlabel='Week',\n",
    "    ylabel='Revenue',\n",
    "    xticks=np.arange(0, len(mr_df_col_drop.columns) + 1, step=5),\n",
    "    figsize=(10, 5),\n",
    "    title='Sum of revenues plot')\n",
    "plt.savefig('exports/2_4.pdf')\n",
    "sb.set_theme(style=\"darkgrid\")\n",
    "sb.barplot(data = mr_df_col_drop.T, ci = \"sd\").set(ylabel='Revenue')\n",
    "plt.savefig('exports/2_5.pdf')\n",
    "\n",
    "fig, axes = plt.subplots()\n",
    "sb.violinplot(data=mr_df_col_drop.T, ax=axes).set(ylabel='Revenue')\n",
    "axes.set_title('Violinplots')\n",
    "plt.savefig('exports/2_6.pdf')\n",
    "'''\n",
    "print('F1: Max=' + str(max(mr_df_col_drop.T.F1)) + '; Min=' + str(min(mr_df_col_drop.T.F1)) + '; Diff=' + str(\n",
    "    (max(mr_df_col_drop.T.F1) - min(mr_df_col_drop.T.F1))))\n",
    "print('F2: Max=' + str(max(mr_df_col_drop.T.F2)) + '; Min=' + str(min(mr_df_col_drop.T.F2)) + '; Diff=' + str(\n",
    "    (max(mr_df_col_drop.T.F2) - min(mr_df_col_drop.T.F2))))\n",
    "print('F3: Max=' + str(max(mr_df_col_drop.T.F3)) + '; Min=' + str(min(mr_df_col_drop.T.F3)) + '; Diff=' + str(\n",
    "    (max(mr_df_col_drop.T.F3) - min(mr_df_col_drop.T.F3))))\n",
    "print('F4: Max=' + str(max(mr_df_col_drop.T.F4)) + '; Min=' + str(min(mr_df_col_drop.T.F4)) + '; Diff=' + str(\n",
    "    (max(mr_df_col_drop.T.F4) - min(mr_df_col_drop.T.F4))))\n",
    "\n",
    "print('--std--')\n",
    "print('F1:' + str(mr_df_col_drop.T.F1.std()))\n",
    "print('F2:' + str(mr_df_col_drop.T.F2.std()))\n",
    "print('F3:' + str(mr_df_col_drop.T.F3.std()))\n",
    "print('F4:' + str(mr_df_col_drop.T.F4.std()))"
   ],
   "metadata": {
    "collapsed": false,
    "pycharm": {
     "name": "#%%\n"
    }
   }
  },
  {
   "cell_type": "markdown",
   "source": [
    "## Task 3: Production lines"
   ],
   "metadata": {
    "collapsed": false
   }
  },
  {
   "cell_type": "code",
   "execution_count": 9,
   "outputs": [],
   "source": [
    "pl1_df = pd.read_csv('data/production_line1.csv')  #  9.000 entries\n",
    "pl2_df = pd.read_csv('data/production_line2.csv')  #  5.000 entries\n",
    "pl3_df = pd.read_csv('data/production_line3.csv')  # 12.000 entries\n",
    "# concat to a single df\n",
    "frames = [pl1_df, pl2_df, pl3_df]\n",
    "pl_df = pd.concat(frames)"
   ],
   "metadata": {
    "collapsed": false,
    "pycharm": {
     "name": "#%%\n"
    }
   }
  },
  {
   "cell_type": "markdown",
   "source": [
    "### 3.1 Speed"
   ],
   "metadata": {
    "collapsed": false
   }
  },
  {
   "cell_type": "code",
   "execution_count": 10,
   "outputs": [
    {
     "data": {
      "text/plain": "<Figure size 720x360 with 1 Axes>",
      "image/png": "[encoded data removed]"
     },
     "metadata": {
      "needs_background": "light"
     },
     "output_type": "display_data"
    },
    {
     "name": "stdout",
     "output_type": "stream",
     "text": [
      "Mean production times per unit:\n",
      "\n",
      "line1    4.937433\n",
      "line2    5.100732\n",
      "line3    4.960518\n",
      "dtype: float64\n",
      "Lowest mean production times per unit:\n",
      "\n",
      "4.9374328310594775\n"
     ]
    }
   ],
   "source": [
    "pl_df.boxplot(figsize=(10, 5))\n",
    "plt.title('Distribution production lines')\n",
    "plt.xlabel('Production Line')\n",
    "plt.ylabel('time/unit')\n",
    "plt.savefig('exports/3_1.pdf')\n",
    "plt.show()\n",
    "print('Mean production times per unit:\\n')\n",
    "print(pl_df.mean())\n",
    "print('Lowest mean production times per unit:\\n')\n",
    "print(pl_df.mean().min())"
   ],
   "metadata": {
    "collapsed": false,
    "pycharm": {
     "name": "#%%\n"
    }
   }
  },
  {
   "cell_type": "markdown",
   "source": [
    "### 3.2 Just-in-time"
   ],
   "metadata": {
    "collapsed": false
   }
  },
  {
   "cell_type": "code",
   "execution_count": 11,
   "outputs": [
    {
     "name": "stdout",
     "output_type": "stream",
     "text": [
      "Standard deviation of production times per unit:\n",
      "\n",
      "line1    0.119258\n",
      "line2    0.180232\n",
      "line3    0.069642\n",
      "dtype: float64\n",
      "Lowest standard deviation of production times per unit:\n",
      "\n",
      "0.06964246270255614\n"
     ]
    }
   ],
   "source": [
    "print('Standard deviation of production times per unit:\\n')\n",
    "print(pl_df.std())\n",
    "print('Lowest standard deviation of production times per unit:\\n')\n",
    "print(pl_df.std().min())"
   ],
   "metadata": {
    "collapsed": false,
    "pycharm": {
     "name": "#%%\n"
    }
   }
  },
  {
   "cell_type": "markdown",
   "source": [
    "### 3.3 Boxplots vs. Violinplots"
   ],
   "metadata": {
    "collapsed": false
   }
  },
  {
   "cell_type": "code",
   "execution_count": 12,
   "outputs": [
    {
     "data": {
      "text/plain": "<Figure size 432x288 with 1 Axes>",
      "image/png": "[encoded data removed]"
     },
     "metadata": {
      "needs_background": "light"
     },
     "output_type": "display_data"
    },
    {
     "data": {
      "text/plain": "<Figure size 432x288 with 1 Axes>",
      "image/png": "[encoded data removed]"
     },
     "metadata": {
      "needs_background": "light"
     },
     "output_type": "display_data"
    }
   ],
   "source": [
    "# violinplots\n",
    "import seaborn as sns\n",
    "\n",
    "fig, axes = plt.subplots()\n",
    "sns.violinplot(data=pl_df, ax=axes)\n",
    "axes.set_title('Violinplots')\n",
    "\n",
    "axes.yaxis.grid(True)\n",
    "axes.set_ylabel('time/unit')\n",
    "axes.set_xlabel('Production Line')\n",
    "plt.savefig('exports/3_2.pdf')\n",
    "plt.show()\n",
    "\n",
    "# boxplots\n",
    "pl_df.boxplot()\n",
    "plt.title('Boxplots')\n",
    "plt.xlabel('Production Line')\n",
    "plt.ylabel('time/unit')\n",
    "plt.savefig('exports/3_3.pdf')\n",
    "plt.show()"
   ],
   "metadata": {
    "collapsed": false,
    "pycharm": {
     "name": "#%%\n"
    }
   }
  }
 ],
 "metadata": {
  "kernelspec": {
   "display_name": "Python 3 (ipykernel)",
   "language": "python",
   "name": "python3"
  },
  "language_info": {
   "codemirror_mode": {
    "name": "ipython",
    "version": 3
   },
   "file_extension": ".py",
   "mimetype": "text/x-python",
   "name": "python",
   "nbconvert_exporter": "python",
   "pygments_lexer": "ipython3",
   "version": "3.9.0"
  }
 },
 "nbformat": 4,
 "nbformat_minor": 5
}