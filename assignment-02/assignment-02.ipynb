{
 "cells": [
  {
   "cell_type": "markdown",
   "id": "0ac9b593",
   "metadata": {
    "pycharm": {
     "name": "#%% md\n"
    }
   },
   "source": [
    "# Data Mining Assignment 2\n",
    "\n",
    "## Task 1: Marketing data"
   ]
  },
  {
   "cell_type": "code",
   "execution_count": 75,
   "outputs": [
    {
     "name": "stdout",
     "output_type": "stream",
     "text": [
      "   customerNr  year_of_birth   education marital_status      income  kids  \\\n",
      "0        1826           1970  Graduation       Divorced  $84,835.00     0   \n",
      "1           1           1961  Graduation         Single  $57,091.00     0   \n",
      "2       10476           1958  Graduation        Married  $67,267.00     0   \n",
      "3        1386           1967  Graduation       Together  $32,474.00     1   \n",
      "4        5371           1989  Graduation         Single  $21,474.00     1   \n",
      "\n",
      "   teens customer_since  last_purchase_in_days  web_purchases  \\\n",
      "0      0        6/16/14                      0              4   \n",
      "1      0        6/15/14                      0              7   \n",
      "2      1        5/13/14                      0              3   \n",
      "3      1        5/11/14                      0              1   \n",
      "4      0         4/8/14                      0              3   \n",
      "\n",
      "   catalog_purchases  store_purchases  web_visits  campaign3  campaign4  \\\n",
      "0                  4                6           1          0          0   \n",
      "1                  3                7           5          0          0   \n",
      "2                  2                5           2          0          0   \n",
      "3                  0                2           7          0          0   \n",
      "4                  1                2           7          1          0   \n",
      "\n",
      "   campaign5  campaign1  campaign2 country  \n",
      "0          0          0          0      SP  \n",
      "1          0          0          1      CA  \n",
      "2          0          0          0      US  \n",
      "3          0          0          0     AUS  \n",
      "4          0          0          0      SP  \n",
      "customerNr                int64\n",
      "year_of_birth             int64\n",
      "education                object\n",
      "marital_status           object\n",
      "income                   object\n",
      "kids                      int64\n",
      "teens                     int64\n",
      "customer_since           object\n",
      "last_purchase_in_days     int64\n",
      "web_purchases             int64\n",
      "catalog_purchases         int64\n",
      "store_purchases           int64\n",
      "web_visits                int64\n",
      "campaign3                 int64\n",
      "campaign4                 int64\n",
      "campaign5                 int64\n",
      "campaign1                 int64\n",
      "campaign2                 int64\n",
      "country                  object\n",
      "dtype: object\n"
     ]
    }
   ],
   "source": [
    "import datetime\n",
    "\n",
    "import pandas as pd\n",
    "\n",
    "# read in file\n",
    "df = pd.read_csv('data/company_data.csv')\n",
    "\n",
    "# check how the data looks\n",
    "print(df.head())\n",
    "# check data types\n",
    "print(df.dtypes)"
   ],
   "metadata": {
    "collapsed": false,
    "pycharm": {
     "name": "#%%\n"
    }
   }
  },
  {
   "cell_type": "markdown",
   "source": [
    "### 1.1 The distribution of the age within each marital status"
   ],
   "metadata": {
    "collapsed": false
   }
  },
  {
   "cell_type": "code",
   "execution_count": 76,
   "outputs": [
    {
     "name": "stdout",
     "output_type": "stream",
     "text": [
      "['Divorced' 'Single' 'Married' 'Together' 'Widow' 'YOLO' 'Alone' 'Absurd']\n"
     ]
    },
    {
     "data": {
      "text/plain": "<AxesSubplot:title={'center':'age'}, xlabel='marital_status'>"
     },
     "execution_count": 76,
     "metadata": {},
     "output_type": "execute_result"
    },
    {
     "data": {
      "text/plain": "<Figure size 432x288 with 1 Axes>",
      "image/png": "[encoded data removed]"
     },
     "metadata": {
      "needs_background": "light"
     },
     "output_type": "display_data"
    }
   ],
   "source": [
    "# calculate age with respect to year of birth and add new col to dataframe\n",
    "now = datetime.datetime.now()\n",
    "current_year = now.year\n",
    "\n",
    "df['age'] = current_year - df.year_of_birth\n",
    "\n",
    "# find out the different marital statuses in the data frame\n",
    "unique_marital_status = df.marital_status.unique()\n",
    "print(unique_marital_status)\n",
    "\n",
    "# create boxplots for each\n",
    "df[['marital_status', 'age']].boxplot(by='marital_status', column='age')"
   ],
   "metadata": {
    "collapsed": false,
    "pycharm": {
     "name": "#%%\n"
    }
   }
  },
  {
   "cell_type": "markdown",
   "source": [
    "### 1.2 What is the distribution of the education?"
   ],
   "metadata": {
    "collapsed": false
   }
  },
  {
   "cell_type": "code",
   "execution_count": 77,
   "outputs": [
    {
     "name": "stdout",
     "output_type": "stream",
     "text": [
      "Graduation    1127\n",
      "PhD            486\n",
      "Master         370\n",
      "2n Cycle       203\n",
      "Basic           54\n",
      "Name: education, dtype: int64\n"
     ]
    },
    {
     "data": {
      "text/plain": "<AxesSubplot:>"
     },
     "execution_count": 77,
     "metadata": {},
     "output_type": "execute_result"
    },
    {
     "data": {
      "text/plain": "<Figure size 432x288 with 1 Axes>",
      "image/png": "[encoded data removed]"
     },
     "metadata": {
      "needs_background": "light"
     },
     "output_type": "display_data"
    }
   ],
   "source": [
    "edu_distr = df.education.value_counts()\n",
    "print(edu_distr)\n",
    "edu_distr.plot(kind='bar')"
   ],
   "metadata": {
    "collapsed": false,
    "pycharm": {
     "name": "#%%\n"
    }
   }
  },
  {
   "cell_type": "markdown",
   "source": [
    "### 1.3 Which country has the most web purchases?\n"
   ],
   "metadata": {
    "collapsed": false
   }
  },
  {
   "cell_type": "code",
   "execution_count": 78,
   "outputs": [
    {
     "name": "stdout",
     "output_type": "stream",
     "text": [
      "web_purchases    4382\n",
      "Name: SP, dtype: int64\n"
     ]
    },
    {
     "data": {
      "text/plain": "<AxesSubplot:xlabel='country'>"
     },
     "execution_count": 78,
     "metadata": {},
     "output_type": "execute_result"
    },
    {
     "data": {
      "text/plain": "<Figure size 432x288 with 1 Axes>",
      "image/png": "[encoded data removed]"
     },
     "metadata": {
      "needs_background": "light"
     },
     "output_type": "display_data"
    }
   ],
   "source": [
    "wp_per_country = df[['web_purchases', 'country']].groupby('country').sum()\n",
    "print(wp_per_country.loc[wp_per_country['web_purchases'].idxmax()])\n",
    "wp_per_country.plot(kind='bar')"
   ],
   "metadata": {
    "collapsed": false,
    "pycharm": {
     "name": "#%%\n"
    }
   }
  },
  {
   "cell_type": "markdown",
   "source": [
    "### 1.4 How does the average customer look like?"
   ],
   "metadata": {
    "collapsed": false
   }
  },
  {
   "cell_type": "code",
   "execution_count": 141,
   "outputs": [
    {
     "name": "stdout",
     "output_type": "stream",
     "text": [
      "Birthyear: 1969.0\n",
      "Age: 52.0\n",
      "Education: Graduation\n",
      "Marital Status: Married\n",
      "Income: 52247.25\n",
      "Kids: 0.44\n",
      "Teens: 0.51\n",
      "Customer since: 10.07.2013\n",
      "Last purchase in days: 49.11\n",
      "Web purchases: 4.08\n",
      "Catalog purchases: 2.66\n",
      "Store purchases: 5.79\n",
      "Web visits: 5.32\n",
      ">>Customers accquired through campaigns: 667\n",
      ">>Customers not accquired through campaigns: 1573\n",
      "Customer was not accquired through a campaign\n",
      "Country: SP\n"
     ]
    }
   ],
   "source": [
    "from datetime import timedelta\n",
    "\n",
    "# birthyear\n",
    "avg_year = df.year_of_birth.mean()\n",
    "print('Birthyear: ' + str(round(avg_year, 0)))\n",
    "\n",
    "# age\n",
    "avg_age = df.age.mean()\n",
    "print('Age: ' + str(round(avg_age, 0)))\n",
    "\n",
    "# education\n",
    "max_edu = edu_distr.idxmax()\n",
    "print('Education: ' + str(max_edu))\n",
    "\n",
    "# marital status\n",
    "# get max count marital status value\n",
    "ms_distr = df.marital_status.value_counts()\n",
    "max_ms = ms_distr.idxmax()\n",
    "print('Marital Status: ' + str(max_ms))\n",
    "\n",
    "# income\n",
    "# convert objects to floats\n",
    "df['income_float'] = df.income.str.replace('[\\$,]', '', regex=True).astype(float)\n",
    "# calc mean\n",
    "avg_inc = df.income_float.mean()\n",
    "print('Income: ' + str(round(avg_inc, 2)))\n",
    "\n",
    "# kids\n",
    "avg_kids = df.kids.mean()\n",
    "print('Kids: ' + str(round(avg_kids, 2)))\n",
    "\n",
    "# teens\n",
    "avg_teens = df.teens.mean()\n",
    "print('Teens: ' + str(round(avg_teens, 2)))\n",
    "\n",
    "# customer since\n",
    "# convert objects to datetime\n",
    "df['customer_since_date_obj'] = pd.to_datetime(df.customer_since)\n",
    "# calc days of customership since date\n",
    "days_cust_since_today_df = (now - df.customer_since_date_obj).dt.days\n",
    "# avg days\n",
    "avg_d_cust_since = round(days_cust_since_today_df.mean(), 0)\n",
    "# calc back to date\n",
    "avg_date_cust_since = now - timedelta(avg_d_cust_since)\n",
    "print('Customer since: ' + str(avg_date_cust_since.strftime('%d.%m.%Y')))\n",
    "\n",
    "# last purchase in days\n",
    "avg_purch_in_days = df.last_purchase_in_days.mean()\n",
    "print('Last purchase in days: ' + str(round(avg_purch_in_days, 2)))\n",
    "\n",
    "# web purchases\n",
    "avg_web_purch = df.web_purchases.mean()\n",
    "print('Web purchases: ' + str(round(avg_web_purch, 2)))\n",
    "\n",
    "# catalog purchases\n",
    "avg_cat_purch = df.catalog_purchases.mean()\n",
    "print('Catalog purchases: ' + str(round(avg_cat_purch, 2)))\n",
    "\n",
    "# store purchases\n",
    "avg_store_purch = df.store_purchases.mean()\n",
    "print('Store purchases: ' + str(round(avg_store_purch, 2)))\n",
    "\n",
    "# web visits\n",
    "avg_web_vis = df.web_visits.mean()\n",
    "print('Web visits: ' + str(round(avg_web_vis, 2)))\n",
    "\n",
    "# campaigns\n",
    "# assuming the numbers are binary indicates whether a customer was accquired or not, missing domain knowledge / data-origin here\n",
    "# prepare campaign data\n",
    "campaign_dict = {'Campaign-Nr': [1, 2, 3, 4, 5], 'successful_accquired_customers': [df.campaign1.sum(),\n",
    "                                                                                    df.campaign2.sum(),\n",
    "                                                                                    df.campaign3.sum(),\n",
    "                                                                                    df.campaign4.sum(),\n",
    "                                                                                    df.campaign5.sum()]}\n",
    "# create df\n",
    "campaign_df_sum = pd.DataFrame(data=campaign_dict)\n",
    "# find out amount of customers, accquired through campaigns\n",
    "sum_of_accquired_cust_through_camp = campaign_df_sum.successful_accquired_customers.sum()\n",
    "print('>>Customers accquired through campaigns: ' + str(sum_of_accquired_cust_through_camp))\n",
    "print('>>Customers not accquired through campaigns: ' + str((len(df.index) - sum_of_accquired_cust_through_camp)))\n",
    "print('Customer was not accquired through a campaign')\n",
    "\n",
    "# country\n",
    "country_distr = df.country.value_counts()\n",
    "print('Country: ' + country_distr.idxmax())"
   ],
   "metadata": {
    "collapsed": false,
    "pycharm": {
     "name": "#%%\n"
    }
   }
  },
  {
   "cell_type": "markdown",
   "source": [
    "### 1.5 Which previous marketing campaign was most successful?"
   ],
   "metadata": {
    "collapsed": false
   }
  },
  {
   "cell_type": "code",
   "execution_count": 166,
   "outputs": [
    {
     "name": "stdout",
     "output_type": "stream",
     "text": [
      "Best campaign was nr: 4\n",
      "   Campaign-Nr  successful_accquired_customers\n",
      "0            1                             144\n",
      "1            2                              30\n",
      "2            3                             163\n",
      "3            4                             167\n",
      "4            5                             163\n",
      "AxesSubplot(0.125,0.125;0.775x0.755)\n"
     ]
    },
    {
     "data": {
      "text/plain": "<Figure size 432x288 with 1 Axes>",
      "image/png": "[encoded data removed]"
     },
     "metadata": {
      "needs_background": "light"
     },
     "output_type": "display_data"
    }
   ],
   "source": [
    "max_campaign = campaign_df_sum.loc[campaign_df_sum['successful_accquired_customers'].idxmax()]\n",
    "print('Best campaign was nr: ' + str(max_campaign['Campaign-Nr']))\n",
    "plt = campaign_df_sum.plot(kind='scatter', x='Campaign-Nr', y='successful_accquired_customers',\n",
    "                           ylabel='Amnt. of customers accquired')\n",
    "plt.set_xticks(range(1, 6))\n",
    "print(campaign_df_sum)\n",
    "print(plt)\n"
   ],
   "metadata": {
    "collapsed": false,
    "pycharm": {
     "name": "#%%\n"
    }
   }
  }
 ],
 "metadata": {
  "kernelspec": {
   "display_name": "Python 3 (ipykernel)",
   "language": "python",
   "name": "python3"
  },
  "language_info": {
   "codemirror_mode": {
    "name": "ipython",
    "version": 3
   },
   "file_extension": ".py",
   "mimetype": "text/x-python",
   "name": "python",
   "nbconvert_exporter": "python",
   "pygments_lexer": "ipython3",
   "version": "3.9.0"
  }
 },
 "nbformat": 4,
 "nbformat_minor": 5
}