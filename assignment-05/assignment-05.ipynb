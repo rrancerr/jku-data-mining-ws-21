{
 "cells": [
  {
   "cell_type": "markdown",
   "source": [
    "# Data Mining Assignment 5\n",
    "\n",
    "## Task 1: Predictions for the test set\n",
    "\n",
    "### Data Understanding and Data Preparation"
   ],
   "metadata": {
    "collapsed": false,
    "pycharm": {
     "name": "#%% md\n"
    }
   }
  },
  {
   "cell_type": "code",
   "source": [
    "\n",
    "import pandas as pd\n",
    "\n",
    "# read in file with semicolon delimiter\n",
    "from matplotlib import pyplot as plt\n",
    "\n",
    "df_train_original = pd.read_csv('data/weather_train_data.csv')\n",
    "\n",
    "# general info\n",
    "print(df_train_original.head())\n",
    "print(df_train_original.dtypes)\n",
    "print('\\nRows=' + str(len(df_train_original.index)) + '\\n')\n",
    "print('Columns=' + str(len(df_train_original.columns)) + '\\n')\n",
    "\n"
   ],
   "metadata": {
    "collapsed": false,
    "pycharm": {
     "name": "#%%\n"
    }
   },
   "execution_count": 174,
   "outputs": [
    {
     "name": "stdout",
     "output_type": "stream",
     "text": [
      "         Date       Location  MinTemp  MaxTemp  Rainfall  Evaporation  \\\n",
      "0  2009-09-25    Tuggeranong      3.4     19.7       0.0          NaN   \n",
      "1  2014-02-02     Townsville     25.3     30.9      38.2         11.0   \n",
      "2  2016-07-30  NorfolkIsland     14.0     19.2       0.0          NaN   \n",
      "3  2009-06-14       Richmond      5.4     18.1       0.0          NaN   \n",
      "4  2011-01-29        Walpole     19.0     24.8       7.8          NaN   \n",
      "\n",
      "   Sunshine WindGustDir  WindGustSpeed WindDir9am  ... WindSpeed3pm  \\\n",
      "0       NaN          NW           57.0         NW  ...         24.0   \n",
      "1       3.2         ESE           44.0          E  ...         13.0   \n",
      "2       NaN         WSW           22.0         SW  ...         13.0   \n",
      "3       NaN         NNE           28.0        NaN  ...          7.0   \n",
      "4       NaN          SE           44.0          E  ...         17.0   \n",
      "\n",
      "   Humidity9am  Humidity3pm  Pressure9am  Pressure3pm  Cloud9am  Cloud3pm  \\\n",
      "0         61.0         35.0       1012.9       1005.1       NaN       NaN   \n",
      "1         74.0         89.0       1005.7       1002.9       7.0       7.0   \n",
      "2         55.0         51.0       1021.0       1017.9       8.0       NaN   \n",
      "3         90.0         69.0       1014.8       1011.6       NaN       NaN   \n",
      "4         99.0         78.0       1013.2       1011.0       NaN       NaN   \n",
      "\n",
      "   Temp9am  Temp3pm  RainToday  \n",
      "0     12.3     19.4         No  \n",
      "1     28.0     27.4        Yes  \n",
      "2     17.1     18.6         No  \n",
      "3      7.4     14.2         No  \n",
      "4     19.1     23.4        Yes  \n",
      "\n",
      "[5 rows x 22 columns]\n",
      "Date              object\n",
      "Location          object\n",
      "MinTemp          float64\n",
      "MaxTemp          float64\n",
      "Rainfall         float64\n",
      "Evaporation      float64\n",
      "Sunshine         float64\n",
      "WindGustDir       object\n",
      "WindGustSpeed    float64\n",
      "WindDir9am        object\n",
      "WindDir3pm        object\n",
      "WindSpeed9am     float64\n",
      "WindSpeed3pm     float64\n",
      "Humidity9am      float64\n",
      "Humidity3pm      float64\n",
      "Pressure9am      float64\n",
      "Pressure3pm      float64\n",
      "Cloud9am         float64\n",
      "Cloud3pm         float64\n",
      "Temp9am          float64\n",
      "Temp3pm          float64\n",
      "RainToday         object\n",
      "dtype: object\n",
      "\n",
      "Rows=113754\n",
      "\n",
      "Columns=22\n",
      "\n"
     ]
    }
   ]
  },
  {
   "cell_type": "code",
   "execution_count": 175,
   "outputs": [
    {
     "data": {
      "text/plain": "             MinTemp        MaxTemp       Rainfall   Evaporation  \\\ncount  113254.000000  113507.000000  112660.000000  65230.000000   \nmean       12.189117      23.224917       2.371915      5.473963   \nstd         6.400502       7.117415       8.536194      4.217432   \nmin        -8.500000      -4.100000       0.000000      0.000000   \n25%         7.600000      17.900000       0.000000      2.600000   \n50%        12.000000      22.600000       0.000000      4.800000   \n75%        16.800000      28.200000       0.800000      7.400000   \nmax        31.900000      48.100000     367.600000    145.000000   \n\n           Sunshine  WindGustSpeed   WindSpeed9am   WindSpeed3pm  \\\ncount  59604.000000  106361.000000  112663.000000  111674.000000   \nmean       7.619400      39.976617      14.016137      18.636164   \nstd        3.784245      13.579409       8.905721       8.795008   \nmin        0.000000       6.000000       0.000000       0.000000   \n25%        4.900000      31.000000       7.000000      13.000000   \n50%        8.500000      39.000000      13.000000      19.000000   \n75%       10.600000      48.000000      19.000000      24.000000   \nmax       14.500000     135.000000     130.000000      87.000000   \n\n         Humidity9am    Humidity3pm    Pressure9am    Pressure3pm  \\\ncount  112350.000000  110914.000000  102630.000000  102652.000000   \nmean       68.815238      51.470941    1017.658942    1015.260929   \nstd        19.072059      20.801685       7.095282       7.028610   \nmin         1.000000       0.000000     980.500000     979.000000   \n25%        57.000000      37.000000    1013.000000    1010.500000   \n50%        70.000000      52.000000    1017.600000    1015.200000   \n75%        83.000000      66.000000    1022.400000    1020.000000   \nmax       100.000000     100.000000    1040.900000    1039.600000   \n\n           Cloud9am      Cloud3pm        Temp9am        Temp3pm  \ncount  70958.000000  68213.000000  113036.000000  111619.000000  \nmean       4.436188      4.495741      16.986876      21.689802  \nstd        2.888928      2.720098       6.490933       6.936576  \nmin        0.000000      0.000000      -7.000000      -5.100000  \n25%        1.000000      2.000000      12.300000      16.600000  \n50%        5.000000      5.000000      16.700000      21.100000  \n75%        7.000000      7.000000      21.600000      26.400000  \nmax        8.000000      9.000000      40.200000      46.100000  ",
      "text/html": "<div>\n<style scoped>\n    .dataframe tbody tr th:only-of-type {\n        vertical-align: middle;\n    }\n\n    .dataframe tbody tr th {\n        vertical-align: top;\n    }\n\n    .dataframe thead th {\n        text-align: right;\n    }\n</style>\n<table border=\"1\" class=\"dataframe\">\n  <thead>\n    <tr style=\"text-align: right;\">\n      <th></th>\n      <th>MinTemp</th>\n      <th>MaxTemp</th>\n      <th>Rainfall</th>\n      <th>Evaporation</th>\n      <th>Sunshine</th>\n      <th>WindGustSpeed</th>\n      <th>WindSpeed9am</th>\n      <th>WindSpeed3pm</th>\n      <th>Humidity9am</th>\n      <th>Humidity3pm</th>\n      <th>Pressure9am</th>\n      <th>Pressure3pm</th>\n      <th>Cloud9am</th>\n      <th>Cloud3pm</th>\n      <th>Temp9am</th>\n      <th>Temp3pm</th>\n    </tr>\n  </thead>\n  <tbody>\n    <tr>\n      <th>count</th>\n      <td>113254.000000</td>\n      <td>113507.000000</td>\n      <td>112660.000000</td>\n      <td>65230.000000</td>\n      <td>59604.000000</td>\n      <td>106361.000000</td>\n      <td>112663.000000</td>\n      <td>111674.000000</td>\n      <td>112350.000000</td>\n      <td>110914.000000</td>\n      <td>102630.000000</td>\n      <td>102652.000000</td>\n      <td>70958.000000</td>\n      <td>68213.000000</td>\n      <td>113036.000000</td>\n      <td>111619.000000</td>\n    </tr>\n    <tr>\n      <th>mean</th>\n      <td>12.189117</td>\n      <td>23.224917</td>\n      <td>2.371915</td>\n      <td>5.473963</td>\n      <td>7.619400</td>\n      <td>39.976617</td>\n      <td>14.016137</td>\n      <td>18.636164</td>\n      <td>68.815238</td>\n      <td>51.470941</td>\n      <td>1017.658942</td>\n      <td>1015.260929</td>\n      <td>4.436188</td>\n      <td>4.495741</td>\n      <td>16.986876</td>\n      <td>21.689802</td>\n    </tr>\n    <tr>\n      <th>std</th>\n      <td>6.400502</td>\n      <td>7.117415</td>\n      <td>8.536194</td>\n      <td>4.217432</td>\n      <td>3.784245</td>\n      <td>13.579409</td>\n      <td>8.905721</td>\n      <td>8.795008</td>\n      <td>19.072059</td>\n      <td>20.801685</td>\n      <td>7.095282</td>\n      <td>7.028610</td>\n      <td>2.888928</td>\n      <td>2.720098</td>\n      <td>6.490933</td>\n      <td>6.936576</td>\n    </tr>\n    <tr>\n      <th>min</th>\n      <td>-8.500000</td>\n      <td>-4.100000</td>\n      <td>0.000000</td>\n      <td>0.000000</td>\n      <td>0.000000</td>\n      <td>6.000000</td>\n      <td>0.000000</td>\n      <td>0.000000</td>\n      <td>1.000000</td>\n      <td>0.000000</td>\n      <td>980.500000</td>\n      <td>979.000000</td>\n      <td>0.000000</td>\n      <td>0.000000</td>\n      <td>-7.000000</td>\n      <td>-5.100000</td>\n    </tr>\n    <tr>\n      <th>25%</th>\n      <td>7.600000</td>\n      <td>17.900000</td>\n      <td>0.000000</td>\n      <td>2.600000</td>\n      <td>4.900000</td>\n      <td>31.000000</td>\n      <td>7.000000</td>\n      <td>13.000000</td>\n      <td>57.000000</td>\n      <td>37.000000</td>\n      <td>1013.000000</td>\n      <td>1010.500000</td>\n      <td>1.000000</td>\n      <td>2.000000</td>\n      <td>12.300000</td>\n      <td>16.600000</td>\n    </tr>\n    <tr>\n      <th>50%</th>\n      <td>12.000000</td>\n      <td>22.600000</td>\n      <td>0.000000</td>\n      <td>4.800000</td>\n      <td>8.500000</td>\n      <td>39.000000</td>\n      <td>13.000000</td>\n      <td>19.000000</td>\n      <td>70.000000</td>\n      <td>52.000000</td>\n      <td>1017.600000</td>\n      <td>1015.200000</td>\n      <td>5.000000</td>\n      <td>5.000000</td>\n      <td>16.700000</td>\n      <td>21.100000</td>\n    </tr>\n    <tr>\n      <th>75%</th>\n      <td>16.800000</td>\n      <td>28.200000</td>\n      <td>0.800000</td>\n      <td>7.400000</td>\n      <td>10.600000</td>\n      <td>48.000000</td>\n      <td>19.000000</td>\n      <td>24.000000</td>\n      <td>83.000000</td>\n      <td>66.000000</td>\n      <td>1022.400000</td>\n      <td>1020.000000</td>\n      <td>7.000000</td>\n      <td>7.000000</td>\n      <td>21.600000</td>\n      <td>26.400000</td>\n    </tr>\n    <tr>\n      <th>max</th>\n      <td>31.900000</td>\n      <td>48.100000</td>\n      <td>367.600000</td>\n      <td>145.000000</td>\n      <td>14.500000</td>\n      <td>135.000000</td>\n      <td>130.000000</td>\n      <td>87.000000</td>\n      <td>100.000000</td>\n      <td>100.000000</td>\n      <td>1040.900000</td>\n      <td>1039.600000</td>\n      <td>8.000000</td>\n      <td>9.000000</td>\n      <td>40.200000</td>\n      <td>46.100000</td>\n    </tr>\n  </tbody>\n</table>\n</div>"
     },
     "execution_count": 175,
     "metadata": {},
     "output_type": "execute_result"
    }
   ],
   "source": [
    "df_train_original.describe(exclude=[object])"
   ],
   "metadata": {
    "collapsed": false,
    "pycharm": {
     "name": "#%%\n"
    }
   }
  },
  {
   "cell_type": "code",
   "execution_count": 176,
   "outputs": [
    {
     "data": {
      "text/plain": "              Date  Location WindGustDir WindDir9am WindDir3pm RainToday\ncount       113754    113754      106313     105740     110744    112660\nunique        3411        49          16         16         16         2\ntop     2016-05-12  Canberra           W          N         SE        No\nfreq            46      2744        7798       9094       8576     87356",
      "text/html": "<div>\n<style scoped>\n    .dataframe tbody tr th:only-of-type {\n        vertical-align: middle;\n    }\n\n    .dataframe tbody tr th {\n        vertical-align: top;\n    }\n\n    .dataframe thead th {\n        text-align: right;\n    }\n</style>\n<table border=\"1\" class=\"dataframe\">\n  <thead>\n    <tr style=\"text-align: right;\">\n      <th></th>\n      <th>Date</th>\n      <th>Location</th>\n      <th>WindGustDir</th>\n      <th>WindDir9am</th>\n      <th>WindDir3pm</th>\n      <th>RainToday</th>\n    </tr>\n  </thead>\n  <tbody>\n    <tr>\n      <th>count</th>\n      <td>113754</td>\n      <td>113754</td>\n      <td>106313</td>\n      <td>105740</td>\n      <td>110744</td>\n      <td>112660</td>\n    </tr>\n    <tr>\n      <th>unique</th>\n      <td>3411</td>\n      <td>49</td>\n      <td>16</td>\n      <td>16</td>\n      <td>16</td>\n      <td>2</td>\n    </tr>\n    <tr>\n      <th>top</th>\n      <td>2016-05-12</td>\n      <td>Canberra</td>\n      <td>W</td>\n      <td>N</td>\n      <td>SE</td>\n      <td>No</td>\n    </tr>\n    <tr>\n      <th>freq</th>\n      <td>46</td>\n      <td>2744</td>\n      <td>7798</td>\n      <td>9094</td>\n      <td>8576</td>\n      <td>87356</td>\n    </tr>\n  </tbody>\n</table>\n</div>"
     },
     "execution_count": 176,
     "metadata": {},
     "output_type": "execute_result"
    }
   ],
   "source": [
    "df_train_original.describe(include=[object])"
   ],
   "metadata": {
    "collapsed": false,
    "pycharm": {
     "name": "#%%\n"
    }
   }
  },
  {
   "cell_type": "code",
   "execution_count": 177,
   "outputs": [
    {
     "data": {
      "text/plain": "              Date       Location  MinTemp  MaxTemp  Rainfall  Evaporation  \\\n0       2009-09-25    Tuggeranong      3.4     19.7       0.0          NaN   \n1       2014-02-02     Townsville     25.3     30.9      38.2         11.0   \n2       2016-07-30  NorfolkIsland     14.0     19.2       0.0          NaN   \n3       2009-06-14       Richmond      5.4     18.1       0.0          NaN   \n4       2011-01-29        Walpole     19.0     24.8       7.8          NaN   \n...            ...            ...      ...      ...       ...          ...   \n113749  2015-10-16          Perth      6.8     22.5       0.0          3.8   \n113750  2011-12-06       Richmond     12.1     18.4       0.4         13.6   \n113751  2011-03-25         Sydney     17.7     26.7       0.0          8.8   \n113752  2011-08-08     SalmonGums      9.4     16.1       2.8          NaN   \n113753  2012-09-12  BadgerysCreek      5.8     24.9       0.0          NaN   \n\n        Sunshine WindGustDir  WindGustSpeed WindDir9am  ... Humidity9am  \\\n0            NaN          NW           57.0         NW  ...        61.0   \n1            3.2         ESE           44.0          E  ...        74.0   \n2            NaN         WSW           22.0         SW  ...        55.0   \n3            NaN         NNE           28.0        NaN  ...        90.0   \n4            NaN          SE           44.0          E  ...        99.0   \n...          ...         ...            ...        ...  ...         ...   \n113749      12.0          SW           35.0          S  ...        47.0   \n113750       NaN          SE           31.0        SSW  ...        71.0   \n113751       8.0           W           46.0          W  ...        50.0   \n113752       NaN           W           33.0        NNW  ...        91.0   \n113753       NaN         NNE           28.0          N  ...        76.0   \n\n        Humidity3pm  Pressure9am  Pressure3pm  Cloud9am  Cloud3pm  Temp9am  \\\n0              35.0       1012.9       1005.1       NaN       NaN     12.3   \n1              89.0       1005.7       1002.9       7.0       7.0     28.0   \n2              51.0       1021.0       1017.9       8.0       NaN     17.1   \n3              69.0       1014.8       1011.6       NaN       NaN      7.4   \n4              78.0       1013.2       1011.0       NaN       NaN     19.1   \n...             ...          ...          ...       ...       ...      ...   \n113749         40.0       1023.9       1020.6       1.0       0.0     17.2   \n113750         59.0       1020.6       1018.1       NaN       NaN     15.5   \n113751         42.0       1007.8       1008.7       NaN       NaN     20.5   \n113752         84.0          NaN          NaN       NaN       NaN     11.2   \n113753         41.0       1023.3       1014.9       NaN       NaN     14.6   \n\n        Temp3pm  RainToday  rain_prediction_correct  \n0          19.4         No                      Yes  \n1          27.4        Yes                      Yes  \n2          18.6         No                       No  \n3          14.2         No                       No  \n4          23.4        Yes                      Yes  \n...         ...        ...                      ...  \n113749     21.0         No                       No  \n113750     17.2         No                       No  \n113751     24.8         No                       No  \n113752     15.4        Yes                      Yes  \n113753     24.2         No                       No  \n\n[113754 rows x 23 columns]",
      "text/html": "<div>\n<style scoped>\n    .dataframe tbody tr th:only-of-type {\n        vertical-align: middle;\n    }\n\n    .dataframe tbody tr th {\n        vertical-align: top;\n    }\n\n    .dataframe thead th {\n        text-align: right;\n    }\n</style>\n<table border=\"1\" class=\"dataframe\">\n  <thead>\n    <tr style=\"text-align: right;\">\n      <th></th>\n      <th>Date</th>\n      <th>Location</th>\n      <th>MinTemp</th>\n      <th>MaxTemp</th>\n      <th>Rainfall</th>\n      <th>Evaporation</th>\n      <th>Sunshine</th>\n      <th>WindGustDir</th>\n      <th>WindGustSpeed</th>\n      <th>WindDir9am</th>\n      <th>...</th>\n      <th>Humidity9am</th>\n      <th>Humidity3pm</th>\n      <th>Pressure9am</th>\n      <th>Pressure3pm</th>\n      <th>Cloud9am</th>\n      <th>Cloud3pm</th>\n      <th>Temp9am</th>\n      <th>Temp3pm</th>\n      <th>RainToday</th>\n      <th>rain_prediction_correct</th>\n    </tr>\n  </thead>\n  <tbody>\n    <tr>\n      <th>0</th>\n      <td>2009-09-25</td>\n      <td>Tuggeranong</td>\n      <td>3.4</td>\n      <td>19.7</td>\n      <td>0.0</td>\n      <td>NaN</td>\n      <td>NaN</td>\n      <td>NW</td>\n      <td>57.0</td>\n      <td>NW</td>\n      <td>...</td>\n      <td>61.0</td>\n      <td>35.0</td>\n      <td>1012.9</td>\n      <td>1005.1</td>\n      <td>NaN</td>\n      <td>NaN</td>\n      <td>12.3</td>\n      <td>19.4</td>\n      <td>No</td>\n      <td>Yes</td>\n    </tr>\n    <tr>\n      <th>1</th>\n      <td>2014-02-02</td>\n      <td>Townsville</td>\n      <td>25.3</td>\n      <td>30.9</td>\n      <td>38.2</td>\n      <td>11.0</td>\n      <td>3.2</td>\n      <td>ESE</td>\n      <td>44.0</td>\n      <td>E</td>\n      <td>...</td>\n      <td>74.0</td>\n      <td>89.0</td>\n      <td>1005.7</td>\n      <td>1002.9</td>\n      <td>7.0</td>\n      <td>7.0</td>\n      <td>28.0</td>\n      <td>27.4</td>\n      <td>Yes</td>\n      <td>Yes</td>\n    </tr>\n    <tr>\n      <th>2</th>\n      <td>2016-07-30</td>\n      <td>NorfolkIsland</td>\n      <td>14.0</td>\n      <td>19.2</td>\n      <td>0.0</td>\n      <td>NaN</td>\n      <td>NaN</td>\n      <td>WSW</td>\n      <td>22.0</td>\n      <td>SW</td>\n      <td>...</td>\n      <td>55.0</td>\n      <td>51.0</td>\n      <td>1021.0</td>\n      <td>1017.9</td>\n      <td>8.0</td>\n      <td>NaN</td>\n      <td>17.1</td>\n      <td>18.6</td>\n      <td>No</td>\n      <td>No</td>\n    </tr>\n    <tr>\n      <th>3</th>\n      <td>2009-06-14</td>\n      <td>Richmond</td>\n      <td>5.4</td>\n      <td>18.1</td>\n      <td>0.0</td>\n      <td>NaN</td>\n      <td>NaN</td>\n      <td>NNE</td>\n      <td>28.0</td>\n      <td>NaN</td>\n      <td>...</td>\n      <td>90.0</td>\n      <td>69.0</td>\n      <td>1014.8</td>\n      <td>1011.6</td>\n      <td>NaN</td>\n      <td>NaN</td>\n      <td>7.4</td>\n      <td>14.2</td>\n      <td>No</td>\n      <td>No</td>\n    </tr>\n    <tr>\n      <th>4</th>\n      <td>2011-01-29</td>\n      <td>Walpole</td>\n      <td>19.0</td>\n      <td>24.8</td>\n      <td>7.8</td>\n      <td>NaN</td>\n      <td>NaN</td>\n      <td>SE</td>\n      <td>44.0</td>\n      <td>E</td>\n      <td>...</td>\n      <td>99.0</td>\n      <td>78.0</td>\n      <td>1013.2</td>\n      <td>1011.0</td>\n      <td>NaN</td>\n      <td>NaN</td>\n      <td>19.1</td>\n      <td>23.4</td>\n      <td>Yes</td>\n      <td>Yes</td>\n    </tr>\n    <tr>\n      <th>...</th>\n      <td>...</td>\n      <td>...</td>\n      <td>...</td>\n      <td>...</td>\n      <td>...</td>\n      <td>...</td>\n      <td>...</td>\n      <td>...</td>\n      <td>...</td>\n      <td>...</td>\n      <td>...</td>\n      <td>...</td>\n      <td>...</td>\n      <td>...</td>\n      <td>...</td>\n      <td>...</td>\n      <td>...</td>\n      <td>...</td>\n      <td>...</td>\n      <td>...</td>\n      <td>...</td>\n    </tr>\n    <tr>\n      <th>113749</th>\n      <td>2015-10-16</td>\n      <td>Perth</td>\n      <td>6.8</td>\n      <td>22.5</td>\n      <td>0.0</td>\n      <td>3.8</td>\n      <td>12.0</td>\n      <td>SW</td>\n      <td>35.0</td>\n      <td>S</td>\n      <td>...</td>\n      <td>47.0</td>\n      <td>40.0</td>\n      <td>1023.9</td>\n      <td>1020.6</td>\n      <td>1.0</td>\n      <td>0.0</td>\n      <td>17.2</td>\n      <td>21.0</td>\n      <td>No</td>\n      <td>No</td>\n    </tr>\n    <tr>\n      <th>113750</th>\n      <td>2011-12-06</td>\n      <td>Richmond</td>\n      <td>12.1</td>\n      <td>18.4</td>\n      <td>0.4</td>\n      <td>13.6</td>\n      <td>NaN</td>\n      <td>SE</td>\n      <td>31.0</td>\n      <td>SSW</td>\n      <td>...</td>\n      <td>71.0</td>\n      <td>59.0</td>\n      <td>1020.6</td>\n      <td>1018.1</td>\n      <td>NaN</td>\n      <td>NaN</td>\n      <td>15.5</td>\n      <td>17.2</td>\n      <td>No</td>\n      <td>No</td>\n    </tr>\n    <tr>\n      <th>113751</th>\n      <td>2011-03-25</td>\n      <td>Sydney</td>\n      <td>17.7</td>\n      <td>26.7</td>\n      <td>0.0</td>\n      <td>8.8</td>\n      <td>8.0</td>\n      <td>W</td>\n      <td>46.0</td>\n      <td>W</td>\n      <td>...</td>\n      <td>50.0</td>\n      <td>42.0</td>\n      <td>1007.8</td>\n      <td>1008.7</td>\n      <td>NaN</td>\n      <td>NaN</td>\n      <td>20.5</td>\n      <td>24.8</td>\n      <td>No</td>\n      <td>No</td>\n    </tr>\n    <tr>\n      <th>113752</th>\n      <td>2011-08-08</td>\n      <td>SalmonGums</td>\n      <td>9.4</td>\n      <td>16.1</td>\n      <td>2.8</td>\n      <td>NaN</td>\n      <td>NaN</td>\n      <td>W</td>\n      <td>33.0</td>\n      <td>NNW</td>\n      <td>...</td>\n      <td>91.0</td>\n      <td>84.0</td>\n      <td>NaN</td>\n      <td>NaN</td>\n      <td>NaN</td>\n      <td>NaN</td>\n      <td>11.2</td>\n      <td>15.4</td>\n      <td>Yes</td>\n      <td>Yes</td>\n    </tr>\n    <tr>\n      <th>113753</th>\n      <td>2012-09-12</td>\n      <td>BadgerysCreek</td>\n      <td>5.8</td>\n      <td>24.9</td>\n      <td>0.0</td>\n      <td>NaN</td>\n      <td>NaN</td>\n      <td>NNE</td>\n      <td>28.0</td>\n      <td>N</td>\n      <td>...</td>\n      <td>76.0</td>\n      <td>41.0</td>\n      <td>1023.3</td>\n      <td>1014.9</td>\n      <td>NaN</td>\n      <td>NaN</td>\n      <td>14.6</td>\n      <td>24.2</td>\n      <td>No</td>\n      <td>No</td>\n    </tr>\n  </tbody>\n</table>\n<p>113754 rows × 23 columns</p>\n</div>"
     },
     "execution_count": 177,
     "metadata": {},
     "output_type": "execute_result"
    }
   ],
   "source": [
    "# merge predicted labels column\n",
    "df_train_label_predictions = pd.read_csv('data/weather_train_label.csv', header=None)\n",
    "df_train_label_predictions.columns = ['rain_prediction_correct']\n",
    "df_train_original['rain_prediction_correct'] = df_train_label_predictions.iloc[:, 0]\n",
    "df = df_train_original.copy()\n",
    "df_train_original"
   ],
   "metadata": {
    "collapsed": false,
    "pycharm": {
     "name": "#%%\n"
    }
   }
  },
  {
   "cell_type": "code",
   "execution_count": 178,
   "outputs": [
    {
     "name": "stdout",
     "output_type": "stream",
     "text": [
      "<class 'pandas.core.frame.DataFrame'>\n",
      "RangeIndex: 113754 entries, 0 to 113753\n",
      "Data columns (total 23 columns):\n",
      " #   Column                   Non-Null Count   Dtype  \n",
      "---  ------                   --------------   -----  \n",
      " 0   Date                     113754 non-null  object \n",
      " 1   Location                 113754 non-null  object \n",
      " 2   MinTemp                  113254 non-null  float64\n",
      " 3   MaxTemp                  113507 non-null  float64\n",
      " 4   Rainfall                 112660 non-null  float64\n",
      " 5   Evaporation              65230 non-null   float64\n",
      " 6   Sunshine                 59604 non-null   float64\n",
      " 7   WindGustDir              106313 non-null  object \n",
      " 8   WindGustSpeed            106361 non-null  float64\n",
      " 9   WindDir9am               105740 non-null  object \n",
      " 10  WindDir3pm               110744 non-null  object \n",
      " 11  WindSpeed9am             112663 non-null  float64\n",
      " 12  WindSpeed3pm             111674 non-null  float64\n",
      " 13  Humidity9am              112350 non-null  float64\n",
      " 14  Humidity3pm              110914 non-null  float64\n",
      " 15  Pressure9am              102630 non-null  float64\n",
      " 16  Pressure3pm              102652 non-null  float64\n",
      " 17  Cloud9am                 70958 non-null   float64\n",
      " 18  Cloud3pm                 68213 non-null   float64\n",
      " 19  Temp9am                  113036 non-null  float64\n",
      " 20  Temp3pm                  111619 non-null  float64\n",
      " 21  RainToday                112660 non-null  object \n",
      " 22  rain_prediction_correct  113754 non-null  object \n",
      "dtypes: float64(16), object(7)\n",
      "memory usage: 20.0+ MB\n"
     ]
    }
   ],
   "source": [
    "df.info()"
   ],
   "metadata": {
    "collapsed": false,
    "pycharm": {
     "name": "#%%\n"
    }
   }
  },
  {
   "cell_type": "markdown",
   "source": [],
   "metadata": {
    "collapsed": false
   }
  },
  {
   "cell_type": "code",
   "execution_count": 179,
   "outputs": [
    {
     "data": {
      "text/plain": "              Date     Location  MinTemp  MaxTemp  Rainfall  Evaporation  \\\n5903    2007-11-01     Canberra      8.0     24.3       0.0          3.4   \n78109   2007-11-02     Canberra     14.0     26.9       3.6          4.4   \n80649   2007-11-03     Canberra     13.7     23.4       3.6          5.8   \n10407   2007-11-04     Canberra     13.3     15.5      39.8          7.2   \n106464  2007-11-05     Canberra      7.6     16.1       2.8          5.6   \n...            ...          ...      ...      ...       ...          ...   \n79406   2017-06-25   Townsville     16.5     25.8       0.0          NaN   \n112828  2017-06-25   WaggaWagga     -0.1     12.7       0.0          NaN   \n12946   2017-06-25      Walpole      9.3     15.4       7.4          NaN   \n54631   2017-06-25     Watsonia      7.9     13.0       0.0          2.8   \n4647    2017-06-25  Williamtown      6.8     19.6       0.0          NaN   \n\n        Sunshine WindGustDir  WindGustSpeed WindDir9am  ... Humidity9am  \\\n5903         6.3          NW           30.0         SW  ...        68.0   \n78109        9.7         ENE           39.0          E  ...        80.0   \n80649        3.3          NW           85.0          N  ...        82.0   \n10407        9.1          NW           54.0        WNW  ...        62.0   \n106464      10.6         SSE           50.0        SSE  ...        68.0   \n...          ...         ...            ...        ...  ...         ...   \n79406        NaN         ESE           31.0         SE  ...        61.0   \n112828       NaN         SSW           19.0        SSW  ...        92.0   \n12946        NaN         SSW           20.0        WNW  ...       100.0   \n54631        3.8         NNW           39.0          N  ...        68.0   \n4647         NaN          NW           43.0        WNW  ...        71.0   \n\n        Humidity3pm  Pressure9am  Pressure3pm  Cloud9am  Cloud3pm  Temp9am  \\\n5903           29.0       1019.7       1015.0       7.0       7.0     14.4   \n78109          36.0       1012.4       1008.4       5.0       3.0     17.5   \n80649          69.0       1009.5       1007.2       8.0       7.0     15.4   \n10407          56.0       1005.5       1007.0       2.0       7.0     13.5   \n106464         49.0       1018.3       1018.5       7.0       7.0     11.1   \n...             ...          ...          ...       ...       ...      ...   \n79406          53.0       1018.1       1015.7       8.0       8.0     22.4   \n112828         54.0       1020.8       1018.5       8.0       8.0      4.0   \n12946          70.0       1028.7       1026.7       NaN       NaN      9.7   \n54631          69.0       1017.6       1015.3       7.0       7.0      9.0   \n4647           43.0       1019.1       1015.6       4.0       NaN     12.4   \n\n        Temp3pm  RainToday  rain_prediction_correct  \n5903       23.6         No                      Yes  \n78109      25.7        Yes                      Yes  \n80649      20.2        Yes                      Yes  \n10407      14.1        Yes                      Yes  \n106464     15.4        Yes                       No  \n...         ...        ...                      ...  \n79406      24.6         No                       No  \n112828     10.7         No                       No  \n12946      14.6        Yes                       No  \n54631      11.7         No                       No  \n4647       19.4         No                       No  \n\n[113754 rows x 23 columns]",
      "text/html": "<div>\n<style scoped>\n    .dataframe tbody tr th:only-of-type {\n        vertical-align: middle;\n    }\n\n    .dataframe tbody tr th {\n        vertical-align: top;\n    }\n\n    .dataframe thead th {\n        text-align: right;\n    }\n</style>\n<table border=\"1\" class=\"dataframe\">\n  <thead>\n    <tr style=\"text-align: right;\">\n      <th></th>\n      <th>Date</th>\n      <th>Location</th>\n      <th>MinTemp</th>\n      <th>MaxTemp</th>\n      <th>Rainfall</th>\n      <th>Evaporation</th>\n      <th>Sunshine</th>\n      <th>WindGustDir</th>\n      <th>WindGustSpeed</th>\n      <th>WindDir9am</th>\n      <th>...</th>\n      <th>Humidity9am</th>\n      <th>Humidity3pm</th>\n      <th>Pressure9am</th>\n      <th>Pressure3pm</th>\n      <th>Cloud9am</th>\n      <th>Cloud3pm</th>\n      <th>Temp9am</th>\n      <th>Temp3pm</th>\n      <th>RainToday</th>\n      <th>rain_prediction_correct</th>\n    </tr>\n  </thead>\n  <tbody>\n    <tr>\n      <th>5903</th>\n      <td>2007-11-01</td>\n      <td>Canberra</td>\n      <td>8.0</td>\n      <td>24.3</td>\n      <td>0.0</td>\n      <td>3.4</td>\n      <td>6.3</td>\n      <td>NW</td>\n      <td>30.0</td>\n      <td>SW</td>\n      <td>...</td>\n      <td>68.0</td>\n      <td>29.0</td>\n      <td>1019.7</td>\n      <td>1015.0</td>\n      <td>7.0</td>\n      <td>7.0</td>\n      <td>14.4</td>\n      <td>23.6</td>\n      <td>No</td>\n      <td>Yes</td>\n    </tr>\n    <tr>\n      <th>78109</th>\n      <td>2007-11-02</td>\n      <td>Canberra</td>\n      <td>14.0</td>\n      <td>26.9</td>\n      <td>3.6</td>\n      <td>4.4</td>\n      <td>9.7</td>\n      <td>ENE</td>\n      <td>39.0</td>\n      <td>E</td>\n      <td>...</td>\n      <td>80.0</td>\n      <td>36.0</td>\n      <td>1012.4</td>\n      <td>1008.4</td>\n      <td>5.0</td>\n      <td>3.0</td>\n      <td>17.5</td>\n      <td>25.7</td>\n      <td>Yes</td>\n      <td>Yes</td>\n    </tr>\n    <tr>\n      <th>80649</th>\n      <td>2007-11-03</td>\n      <td>Canberra</td>\n      <td>13.7</td>\n      <td>23.4</td>\n      <td>3.6</td>\n      <td>5.8</td>\n      <td>3.3</td>\n      <td>NW</td>\n      <td>85.0</td>\n      <td>N</td>\n      <td>...</td>\n      <td>82.0</td>\n      <td>69.0</td>\n      <td>1009.5</td>\n      <td>1007.2</td>\n      <td>8.0</td>\n      <td>7.0</td>\n      <td>15.4</td>\n      <td>20.2</td>\n      <td>Yes</td>\n      <td>Yes</td>\n    </tr>\n    <tr>\n      <th>10407</th>\n      <td>2007-11-04</td>\n      <td>Canberra</td>\n      <td>13.3</td>\n      <td>15.5</td>\n      <td>39.8</td>\n      <td>7.2</td>\n      <td>9.1</td>\n      <td>NW</td>\n      <td>54.0</td>\n      <td>WNW</td>\n      <td>...</td>\n      <td>62.0</td>\n      <td>56.0</td>\n      <td>1005.5</td>\n      <td>1007.0</td>\n      <td>2.0</td>\n      <td>7.0</td>\n      <td>13.5</td>\n      <td>14.1</td>\n      <td>Yes</td>\n      <td>Yes</td>\n    </tr>\n    <tr>\n      <th>106464</th>\n      <td>2007-11-05</td>\n      <td>Canberra</td>\n      <td>7.6</td>\n      <td>16.1</td>\n      <td>2.8</td>\n      <td>5.6</td>\n      <td>10.6</td>\n      <td>SSE</td>\n      <td>50.0</td>\n      <td>SSE</td>\n      <td>...</td>\n      <td>68.0</td>\n      <td>49.0</td>\n      <td>1018.3</td>\n      <td>1018.5</td>\n      <td>7.0</td>\n      <td>7.0</td>\n      <td>11.1</td>\n      <td>15.4</td>\n      <td>Yes</td>\n      <td>No</td>\n    </tr>\n    <tr>\n      <th>...</th>\n      <td>...</td>\n      <td>...</td>\n      <td>...</td>\n      <td>...</td>\n      <td>...</td>\n      <td>...</td>\n      <td>...</td>\n      <td>...</td>\n      <td>...</td>\n      <td>...</td>\n      <td>...</td>\n      <td>...</td>\n      <td>...</td>\n      <td>...</td>\n      <td>...</td>\n      <td>...</td>\n      <td>...</td>\n      <td>...</td>\n      <td>...</td>\n      <td>...</td>\n      <td>...</td>\n    </tr>\n    <tr>\n      <th>79406</th>\n      <td>2017-06-25</td>\n      <td>Townsville</td>\n      <td>16.5</td>\n      <td>25.8</td>\n      <td>0.0</td>\n      <td>NaN</td>\n      <td>NaN</td>\n      <td>ESE</td>\n      <td>31.0</td>\n      <td>SE</td>\n      <td>...</td>\n      <td>61.0</td>\n      <td>53.0</td>\n      <td>1018.1</td>\n      <td>1015.7</td>\n      <td>8.0</td>\n      <td>8.0</td>\n      <td>22.4</td>\n      <td>24.6</td>\n      <td>No</td>\n      <td>No</td>\n    </tr>\n    <tr>\n      <th>112828</th>\n      <td>2017-06-25</td>\n      <td>WaggaWagga</td>\n      <td>-0.1</td>\n      <td>12.7</td>\n      <td>0.0</td>\n      <td>NaN</td>\n      <td>NaN</td>\n      <td>SSW</td>\n      <td>19.0</td>\n      <td>SSW</td>\n      <td>...</td>\n      <td>92.0</td>\n      <td>54.0</td>\n      <td>1020.8</td>\n      <td>1018.5</td>\n      <td>8.0</td>\n      <td>8.0</td>\n      <td>4.0</td>\n      <td>10.7</td>\n      <td>No</td>\n      <td>No</td>\n    </tr>\n    <tr>\n      <th>12946</th>\n      <td>2017-06-25</td>\n      <td>Walpole</td>\n      <td>9.3</td>\n      <td>15.4</td>\n      <td>7.4</td>\n      <td>NaN</td>\n      <td>NaN</td>\n      <td>SSW</td>\n      <td>20.0</td>\n      <td>WNW</td>\n      <td>...</td>\n      <td>100.0</td>\n      <td>70.0</td>\n      <td>1028.7</td>\n      <td>1026.7</td>\n      <td>NaN</td>\n      <td>NaN</td>\n      <td>9.7</td>\n      <td>14.6</td>\n      <td>Yes</td>\n      <td>No</td>\n    </tr>\n    <tr>\n      <th>54631</th>\n      <td>2017-06-25</td>\n      <td>Watsonia</td>\n      <td>7.9</td>\n      <td>13.0</td>\n      <td>0.0</td>\n      <td>2.8</td>\n      <td>3.8</td>\n      <td>NNW</td>\n      <td>39.0</td>\n      <td>N</td>\n      <td>...</td>\n      <td>68.0</td>\n      <td>69.0</td>\n      <td>1017.6</td>\n      <td>1015.3</td>\n      <td>7.0</td>\n      <td>7.0</td>\n      <td>9.0</td>\n      <td>11.7</td>\n      <td>No</td>\n      <td>No</td>\n    </tr>\n    <tr>\n      <th>4647</th>\n      <td>2017-06-25</td>\n      <td>Williamtown</td>\n      <td>6.8</td>\n      <td>19.6</td>\n      <td>0.0</td>\n      <td>NaN</td>\n      <td>NaN</td>\n      <td>NW</td>\n      <td>43.0</td>\n      <td>WNW</td>\n      <td>...</td>\n      <td>71.0</td>\n      <td>43.0</td>\n      <td>1019.1</td>\n      <td>1015.6</td>\n      <td>4.0</td>\n      <td>NaN</td>\n      <td>12.4</td>\n      <td>19.4</td>\n      <td>No</td>\n      <td>No</td>\n    </tr>\n  </tbody>\n</table>\n<p>113754 rows × 23 columns</p>\n</div>"
     },
     "execution_count": 179,
     "metadata": {},
     "output_type": "execute_result"
    }
   ],
   "source": [
    "# sort by date\n",
    "df = df.sort_values(by=['Date', 'Location'])\n",
    "df\n"
   ],
   "metadata": {
    "collapsed": false,
    "pycharm": {
     "name": "#%%\n"
    }
   }
  },
  {
   "cell_type": "code",
   "execution_count": 180,
   "outputs": [
    {
     "name": "stdout",
     "output_type": "stream",
     "text": [
      "Number of Categorical Features: 7\n",
      "Categorical Features:  ['Date', 'Location', 'WindGustDir', 'WindDir9am', 'WindDir3pm', 'RainToday', 'rain_prediction_correct']\n"
     ]
    }
   ],
   "source": [
    "categorical_features = [column_name for column_name in df.columns if df[column_name].dtype == 'O']\n",
    "print(\"Number of Categorical Features: {}\".format(len(categorical_features)))\n",
    "print(\"Categorical Features: \", categorical_features)"
   ],
   "metadata": {
    "collapsed": false,
    "pycharm": {
     "name": "#%%\n"
    }
   }
  },
  {
   "cell_type": "code",
   "execution_count": 181,
   "outputs": [
    {
     "name": "stdout",
     "output_type": "stream",
     "text": [
      "Number of Numerical Features: 16\n",
      "Numerical Features:  ['MinTemp', 'MaxTemp', 'Rainfall', 'Evaporation', 'Sunshine', 'WindGustSpeed', 'WindSpeed9am', 'WindSpeed3pm', 'Humidity9am', 'Humidity3pm', 'Pressure9am', 'Pressure3pm', 'Cloud9am', 'Cloud3pm', 'Temp9am', 'Temp3pm']\n"
     ]
    }
   ],
   "source": [
    "numerical_features = [column_name for column_name in df.columns if df[column_name].dtype != 'O']\n",
    "print(\"Number of Numerical Features: {}\".format(len(numerical_features)))\n",
    "print(\"Numerical Features: \", numerical_features)"
   ],
   "metadata": {
    "collapsed": false,
    "pycharm": {
     "name": "#%%\n"
    }
   }
  },
  {
   "cell_type": "code",
   "execution_count": 182,
   "outputs": [
    {
     "name": "stdout",
     "output_type": "stream",
     "text": [
      "Cardinality(no. of unique values) of Date are: 3411\n",
      "Cardinality(no. of unique values) of Location are: 49\n",
      "Cardinality(no. of unique values) of WindGustDir are: 17\n",
      "Cardinality(no. of unique values) of WindDir9am are: 17\n",
      "Cardinality(no. of unique values) of WindDir3pm are: 17\n",
      "Cardinality(no. of unique values) of RainToday are: 3\n",
      "Cardinality(no. of unique values) of rain_prediction_correct are: 2\n"
     ]
    }
   ],
   "source": [
    "for each_feature in categorical_features:\n",
    "    unique_values = len(df[each_feature].unique())\n",
    "    print(\"Cardinality(no. of unique values) of {} are: {}\".format(each_feature, unique_values))"
   ],
   "metadata": {
    "collapsed": false,
    "pycharm": {
     "name": "#%%\n"
    }
   }
  },
  {
   "cell_type": "code",
   "execution_count": 183,
   "outputs": [
    {
     "data": {
      "text/plain": "           Location  MinTemp  MaxTemp  Rainfall  Evaporation  Sunshine  \\\n5903       Canberra      8.0     24.3       0.0          3.4       6.3   \n78109      Canberra     14.0     26.9       3.6          4.4       9.7   \n80649      Canberra     13.7     23.4       3.6          5.8       3.3   \n10407      Canberra     13.3     15.5      39.8          7.2       9.1   \n106464     Canberra      7.6     16.1       2.8          5.6      10.6   \n...             ...      ...      ...       ...          ...       ...   \n79406    Townsville     16.5     25.8       0.0          NaN       NaN   \n112828   WaggaWagga     -0.1     12.7       0.0          NaN       NaN   \n12946       Walpole      9.3     15.4       7.4          NaN       NaN   \n54631      Watsonia      7.9     13.0       0.0          2.8       3.8   \n4647    Williamtown      6.8     19.6       0.0          NaN       NaN   \n\n       WindGustDir  WindGustSpeed WindDir9am WindDir3pm  ...  Pressure3pm  \\\n5903            NW           30.0         SW         NW  ...       1015.0   \n78109          ENE           39.0          E          W  ...       1008.4   \n80649           NW           85.0          N        NNE  ...       1007.2   \n10407           NW           54.0        WNW          W  ...       1007.0   \n106464         SSE           50.0        SSE        ESE  ...       1018.5   \n...            ...            ...        ...        ...  ...          ...   \n79406          ESE           31.0         SE        ENE  ...       1015.7   \n112828         SSW           19.0        SSW        SSE  ...       1018.5   \n12946          SSW           20.0        WNW        SSW  ...       1026.7   \n54631          NNW           39.0          N          N  ...       1015.3   \n4647            NW           43.0        WNW        WNW  ...       1015.6   \n\n        Cloud9am  Cloud3pm  Temp9am  Temp3pm  RainToday  \\\n5903         7.0       7.0     14.4     23.6         No   \n78109        5.0       3.0     17.5     25.7        Yes   \n80649        8.0       7.0     15.4     20.2        Yes   \n10407        2.0       7.0     13.5     14.1        Yes   \n106464       7.0       7.0     11.1     15.4        Yes   \n...          ...       ...      ...      ...        ...   \n79406        8.0       8.0     22.4     24.6         No   \n112828       8.0       8.0      4.0     10.7         No   \n12946        NaN       NaN      9.7     14.6        Yes   \n54631        7.0       7.0      9.0     11.7         No   \n4647         4.0       NaN     12.4     19.4         No   \n\n        rain_prediction_correct  year  month  day  \n5903                        Yes  2007     11    1  \n78109                       Yes  2007     11    2  \n80649                       Yes  2007     11    3  \n10407                       Yes  2007     11    4  \n106464                       No  2007     11    5  \n...                         ...   ...    ...  ...  \n79406                        No  2017      6   25  \n112828                       No  2017      6   25  \n12946                        No  2017      6   25  \n54631                        No  2017      6   25  \n4647                         No  2017      6   25  \n\n[113754 rows x 25 columns]",
      "text/html": "<div>\n<style scoped>\n    .dataframe tbody tr th:only-of-type {\n        vertical-align: middle;\n    }\n\n    .dataframe tbody tr th {\n        vertical-align: top;\n    }\n\n    .dataframe thead th {\n        text-align: right;\n    }\n</style>\n<table border=\"1\" class=\"dataframe\">\n  <thead>\n    <tr style=\"text-align: right;\">\n      <th></th>\n      <th>Location</th>\n      <th>MinTemp</th>\n      <th>MaxTemp</th>\n      <th>Rainfall</th>\n      <th>Evaporation</th>\n      <th>Sunshine</th>\n      <th>WindGustDir</th>\n      <th>WindGustSpeed</th>\n      <th>WindDir9am</th>\n      <th>WindDir3pm</th>\n      <th>...</th>\n      <th>Pressure3pm</th>\n      <th>Cloud9am</th>\n      <th>Cloud3pm</th>\n      <th>Temp9am</th>\n      <th>Temp3pm</th>\n      <th>RainToday</th>\n      <th>rain_prediction_correct</th>\n      <th>year</th>\n      <th>month</th>\n      <th>day</th>\n    </tr>\n  </thead>\n  <tbody>\n    <tr>\n      <th>5903</th>\n      <td>Canberra</td>\n      <td>8.0</td>\n      <td>24.3</td>\n      <td>0.0</td>\n      <td>3.4</td>\n      <td>6.3</td>\n      <td>NW</td>\n      <td>30.0</td>\n      <td>SW</td>\n      <td>NW</td>\n      <td>...</td>\n      <td>1015.0</td>\n      <td>7.0</td>\n      <td>7.0</td>\n      <td>14.4</td>\n      <td>23.6</td>\n      <td>No</td>\n      <td>Yes</td>\n      <td>2007</td>\n      <td>11</td>\n      <td>1</td>\n    </tr>\n    <tr>\n      <th>78109</th>\n      <td>Canberra</td>\n      <td>14.0</td>\n      <td>26.9</td>\n      <td>3.6</td>\n      <td>4.4</td>\n      <td>9.7</td>\n      <td>ENE</td>\n      <td>39.0</td>\n      <td>E</td>\n      <td>W</td>\n      <td>...</td>\n      <td>1008.4</td>\n      <td>5.0</td>\n      <td>3.0</td>\n      <td>17.5</td>\n      <td>25.7</td>\n      <td>Yes</td>\n      <td>Yes</td>\n      <td>2007</td>\n      <td>11</td>\n      <td>2</td>\n    </tr>\n    <tr>\n      <th>80649</th>\n      <td>Canberra</td>\n      <td>13.7</td>\n      <td>23.4</td>\n      <td>3.6</td>\n      <td>5.8</td>\n      <td>3.3</td>\n      <td>NW</td>\n      <td>85.0</td>\n      <td>N</td>\n      <td>NNE</td>\n      <td>...</td>\n      <td>1007.2</td>\n      <td>8.0</td>\n      <td>7.0</td>\n      <td>15.4</td>\n      <td>20.2</td>\n      <td>Yes</td>\n      <td>Yes</td>\n      <td>2007</td>\n      <td>11</td>\n      <td>3</td>\n    </tr>\n    <tr>\n      <th>10407</th>\n      <td>Canberra</td>\n      <td>13.3</td>\n      <td>15.5</td>\n      <td>39.8</td>\n      <td>7.2</td>\n      <td>9.1</td>\n      <td>NW</td>\n      <td>54.0</td>\n      <td>WNW</td>\n      <td>W</td>\n      <td>...</td>\n      <td>1007.0</td>\n      <td>2.0</td>\n      <td>7.0</td>\n      <td>13.5</td>\n      <td>14.1</td>\n      <td>Yes</td>\n      <td>Yes</td>\n      <td>2007</td>\n      <td>11</td>\n      <td>4</td>\n    </tr>\n    <tr>\n      <th>106464</th>\n      <td>Canberra</td>\n      <td>7.6</td>\n      <td>16.1</td>\n      <td>2.8</td>\n      <td>5.6</td>\n      <td>10.6</td>\n      <td>SSE</td>\n      <td>50.0</td>\n      <td>SSE</td>\n      <td>ESE</td>\n      <td>...</td>\n      <td>1018.5</td>\n      <td>7.0</td>\n      <td>7.0</td>\n      <td>11.1</td>\n      <td>15.4</td>\n      <td>Yes</td>\n      <td>No</td>\n      <td>2007</td>\n      <td>11</td>\n      <td>5</td>\n    </tr>\n    <tr>\n      <th>...</th>\n      <td>...</td>\n      <td>...</td>\n      <td>...</td>\n      <td>...</td>\n      <td>...</td>\n      <td>...</td>\n      <td>...</td>\n      <td>...</td>\n      <td>...</td>\n      <td>...</td>\n      <td>...</td>\n      <td>...</td>\n      <td>...</td>\n      <td>...</td>\n      <td>...</td>\n      <td>...</td>\n      <td>...</td>\n      <td>...</td>\n      <td>...</td>\n      <td>...</td>\n      <td>...</td>\n    </tr>\n    <tr>\n      <th>79406</th>\n      <td>Townsville</td>\n      <td>16.5</td>\n      <td>25.8</td>\n      <td>0.0</td>\n      <td>NaN</td>\n      <td>NaN</td>\n      <td>ESE</td>\n      <td>31.0</td>\n      <td>SE</td>\n      <td>ENE</td>\n      <td>...</td>\n      <td>1015.7</td>\n      <td>8.0</td>\n      <td>8.0</td>\n      <td>22.4</td>\n      <td>24.6</td>\n      <td>No</td>\n      <td>No</td>\n      <td>2017</td>\n      <td>6</td>\n      <td>25</td>\n    </tr>\n    <tr>\n      <th>112828</th>\n      <td>WaggaWagga</td>\n      <td>-0.1</td>\n      <td>12.7</td>\n      <td>0.0</td>\n      <td>NaN</td>\n      <td>NaN</td>\n      <td>SSW</td>\n      <td>19.0</td>\n      <td>SSW</td>\n      <td>SSE</td>\n      <td>...</td>\n      <td>1018.5</td>\n      <td>8.0</td>\n      <td>8.0</td>\n      <td>4.0</td>\n      <td>10.7</td>\n      <td>No</td>\n      <td>No</td>\n      <td>2017</td>\n      <td>6</td>\n      <td>25</td>\n    </tr>\n    <tr>\n      <th>12946</th>\n      <td>Walpole</td>\n      <td>9.3</td>\n      <td>15.4</td>\n      <td>7.4</td>\n      <td>NaN</td>\n      <td>NaN</td>\n      <td>SSW</td>\n      <td>20.0</td>\n      <td>WNW</td>\n      <td>SSW</td>\n      <td>...</td>\n      <td>1026.7</td>\n      <td>NaN</td>\n      <td>NaN</td>\n      <td>9.7</td>\n      <td>14.6</td>\n      <td>Yes</td>\n      <td>No</td>\n      <td>2017</td>\n      <td>6</td>\n      <td>25</td>\n    </tr>\n    <tr>\n      <th>54631</th>\n      <td>Watsonia</td>\n      <td>7.9</td>\n      <td>13.0</td>\n      <td>0.0</td>\n      <td>2.8</td>\n      <td>3.8</td>\n      <td>NNW</td>\n      <td>39.0</td>\n      <td>N</td>\n      <td>N</td>\n      <td>...</td>\n      <td>1015.3</td>\n      <td>7.0</td>\n      <td>7.0</td>\n      <td>9.0</td>\n      <td>11.7</td>\n      <td>No</td>\n      <td>No</td>\n      <td>2017</td>\n      <td>6</td>\n      <td>25</td>\n    </tr>\n    <tr>\n      <th>4647</th>\n      <td>Williamtown</td>\n      <td>6.8</td>\n      <td>19.6</td>\n      <td>0.0</td>\n      <td>NaN</td>\n      <td>NaN</td>\n      <td>NW</td>\n      <td>43.0</td>\n      <td>WNW</td>\n      <td>WNW</td>\n      <td>...</td>\n      <td>1015.6</td>\n      <td>4.0</td>\n      <td>NaN</td>\n      <td>12.4</td>\n      <td>19.4</td>\n      <td>No</td>\n      <td>No</td>\n      <td>2017</td>\n      <td>6</td>\n      <td>25</td>\n    </tr>\n  </tbody>\n</table>\n<p>113754 rows × 25 columns</p>\n</div>"
     },
     "execution_count": 183,
     "metadata": {},
     "output_type": "execute_result"
    }
   ],
   "source": [
    "# rearrange date\n",
    "df['Date'] = pd.to_datetime(df['Date'])\n",
    "df['year'] = df['Date'].dt.year\n",
    "df['month'] = df['Date'].dt.month\n",
    "df['day'] = df['Date'].dt.day\n",
    "df.drop('Date', axis=1, inplace=True)\n",
    "df"
   ],
   "metadata": {
    "collapsed": false,
    "pycharm": {
     "name": "#%%\n"
    }
   }
  },
  {
   "cell_type": "code",
   "execution_count": 184,
   "outputs": [
    {
     "name": "stdout",
     "output_type": "stream",
     "text": [
      "Number of NaN:\n",
      "\n"
     ]
    },
    {
     "data": {
      "text/plain": "Location                       0\nMinTemp                      500\nMaxTemp                      247\nRainfall                    1094\nEvaporation                48524\nSunshine                   54150\nWindGustDir                 7441\nWindGustSpeed               7393\nWindDir9am                  8014\nWindDir3pm                  3010\nWindSpeed9am                1091\nWindSpeed3pm                2080\nHumidity9am                 1404\nHumidity3pm                 2840\nPressure9am                11124\nPressure3pm                11102\nCloud9am                   42796\nCloud3pm                   45541\nTemp9am                      718\nTemp3pm                     2135\nRainToday                   1094\nrain_prediction_correct        0\nyear                           0\nmonth                          0\nday                            0\ndtype: int64"
     },
     "execution_count": 184,
     "metadata": {},
     "output_type": "execute_result"
    }
   ],
   "source": [
    "# check null values\n",
    "print('Number of NaN:''\\n')\n",
    "df.isna().sum()\n"
   ],
   "metadata": {
    "collapsed": false,
    "pycharm": {
     "name": "#%%\n"
    }
   }
  },
  {
   "cell_type": "code",
   "execution_count": 185,
   "outputs": [
    {
     "data": {
      "text/plain": "                         nulls\nWindDir9am                8014\nWindGustDir               7441\nWindDir3pm                3010\nRainToday                 1094\nLocation                     0\nrain_prediction_correct      0",
      "text/html": "<div>\n<style scoped>\n    .dataframe tbody tr th:only-of-type {\n        vertical-align: middle;\n    }\n\n    .dataframe tbody tr th {\n        vertical-align: top;\n    }\n\n    .dataframe thead th {\n        text-align: right;\n    }\n</style>\n<table border=\"1\" class=\"dataframe\">\n  <thead>\n    <tr style=\"text-align: right;\">\n      <th></th>\n      <th>nulls</th>\n    </tr>\n  </thead>\n  <tbody>\n    <tr>\n      <th>WindDir9am</th>\n      <td>8014</td>\n    </tr>\n    <tr>\n      <th>WindGustDir</th>\n      <td>7441</td>\n    </tr>\n    <tr>\n      <th>WindDir3pm</th>\n      <td>3010</td>\n    </tr>\n    <tr>\n      <th>RainToday</th>\n      <td>1094</td>\n    </tr>\n    <tr>\n      <th>Location</th>\n      <td>0</td>\n    </tr>\n    <tr>\n      <th>rain_prediction_correct</th>\n      <td>0</td>\n    </tr>\n  </tbody>\n</table>\n</div>"
     },
     "execution_count": 185,
     "metadata": {},
     "output_type": "execute_result"
    }
   ],
   "source": [
    "categorical_features = [column_name for column_name in df.columns if df[column_name].dtype == 'O']\n",
    "cat_null_df = df[categorical_features].isnull().sum().to_frame('nulls').sort_values(by='nulls', ascending=False)\n",
    "cat_null_df"
   ],
   "metadata": {
    "collapsed": false,
    "pycharm": {
     "name": "#%%\n"
    }
   }
  },
  {
   "cell_type": "code",
   "execution_count": 186,
   "outputs": [
    {
     "data": {
      "text/plain": "<Figure size 720x720 with 1 Axes>",
      "image/png": "[encoded data removed]"
     },
     "metadata": {
      "needs_background": "light"
     },
     "output_type": "display_data"
    }
   ],
   "source": [
    "cat_null_df.plot(kind='bar', figsize=(10, 10))\n",
    "plt.title('Amount of Null values per categorical column')\n",
    "plt.suptitle('')\n",
    "plt.xlabel('categorical column')\n",
    "plt.ylabel('Count of NULL-Values')\n",
    "plt.savefig('exports/01-null-values-per-col-cat.png')"
   ],
   "metadata": {
    "collapsed": false,
    "pycharm": {
     "name": "#%%\n"
    }
   }
  },
  {
   "cell_type": "code",
   "execution_count": 187,
   "outputs": [
    {
     "data": {
      "text/plain": "               nulls\nSunshine       54150\nEvaporation    48524\nCloud3pm       45541\nCloud9am       42796\nPressure9am    11124\nPressure3pm    11102\nWindGustSpeed   7393\nHumidity3pm     2840\nTemp3pm         2135\nWindSpeed3pm    2080\nHumidity9am     1404\nRainfall        1094\nWindSpeed9am    1091\nTemp9am          718\nMinTemp          500\nMaxTemp          247\nyear               0\nmonth              0\nday                0",
      "text/html": "<div>\n<style scoped>\n    .dataframe tbody tr th:only-of-type {\n        vertical-align: middle;\n    }\n\n    .dataframe tbody tr th {\n        vertical-align: top;\n    }\n\n    .dataframe thead th {\n        text-align: right;\n    }\n</style>\n<table border=\"1\" class=\"dataframe\">\n  <thead>\n    <tr style=\"text-align: right;\">\n      <th></th>\n      <th>nulls</th>\n    </tr>\n  </thead>\n  <tbody>\n    <tr>\n      <th>Sunshine</th>\n      <td>54150</td>\n    </tr>\n    <tr>\n      <th>Evaporation</th>\n      <td>48524</td>\n    </tr>\n    <tr>\n      <th>Cloud3pm</th>\n      <td>45541</td>\n    </tr>\n    <tr>\n      <th>Cloud9am</th>\n      <td>42796</td>\n    </tr>\n    <tr>\n      <th>Pressure9am</th>\n      <td>11124</td>\n    </tr>\n    <tr>\n      <th>Pressure3pm</th>\n      <td>11102</td>\n    </tr>\n    <tr>\n      <th>WindGustSpeed</th>\n      <td>7393</td>\n    </tr>\n    <tr>\n      <th>Humidity3pm</th>\n      <td>2840</td>\n    </tr>\n    <tr>\n      <th>Temp3pm</th>\n      <td>2135</td>\n    </tr>\n    <tr>\n      <th>WindSpeed3pm</th>\n      <td>2080</td>\n    </tr>\n    <tr>\n      <th>Humidity9am</th>\n      <td>1404</td>\n    </tr>\n    <tr>\n      <th>Rainfall</th>\n      <td>1094</td>\n    </tr>\n    <tr>\n      <th>WindSpeed9am</th>\n      <td>1091</td>\n    </tr>\n    <tr>\n      <th>Temp9am</th>\n      <td>718</td>\n    </tr>\n    <tr>\n      <th>MinTemp</th>\n      <td>500</td>\n    </tr>\n    <tr>\n      <th>MaxTemp</th>\n      <td>247</td>\n    </tr>\n    <tr>\n      <th>year</th>\n      <td>0</td>\n    </tr>\n    <tr>\n      <th>month</th>\n      <td>0</td>\n    </tr>\n    <tr>\n      <th>day</th>\n      <td>0</td>\n    </tr>\n  </tbody>\n</table>\n</div>"
     },
     "execution_count": 187,
     "metadata": {},
     "output_type": "execute_result"
    }
   ],
   "source": [
    "numerical_features = [column_name for column_name in df.columns if df[column_name].dtype != 'O']\n",
    "num_null_df = df[numerical_features].isnull().sum().to_frame('nulls').sort_values(by='nulls', ascending=False)\n",
    "num_null_df"
   ],
   "metadata": {
    "collapsed": false,
    "pycharm": {
     "name": "#%%\n"
    }
   }
  },
  {
   "cell_type": "code",
   "execution_count": 188,
   "outputs": [
    {
     "data": {
      "text/plain": "<Figure size 720x720 with 1 Axes>",
      "image/png": "[encoded data removed]"
     },
     "metadata": {
      "needs_background": "light"
     },
     "output_type": "display_data"
    }
   ],
   "source": [
    "num_null_df.plot(kind='bar', figsize=(10, 10))\n",
    "plt.title('Amount of Null values per numerical column')\n",
    "plt.suptitle('')\n",
    "plt.xlabel('numerical column')\n",
    "plt.ylabel('Count of NULL-Values')\n",
    "plt.savefig('exports/02-null-values-per-col-num.png')"
   ],
   "metadata": {
    "collapsed": false,
    "pycharm": {
     "name": "#%%\n"
    }
   }
  },
  {
   "cell_type": "code",
   "execution_count": null,
   "outputs": [],
   "source": [],
   "metadata": {
    "collapsed": false,
    "pycharm": {
     "name": "#%%\n"
    }
   }
  }
 ],
 "metadata": {
  "kernelspec": {
   "display_name": "Python 3 (ipykernel)",
   "language": "python",
   "name": "python3"
  },
  "language_info": {
   "codemirror_mode": {
    "name": "ipython",
    "version": 3
   },
   "file_extension": ".py",
   "mimetype": "text/x-python",
   "name": "python",
   "nbconvert_exporter": "python",
   "pygments_lexer": "ipython3",
   "version": "3.9.0"
  }
 },
 "nbformat": 4,
 "nbformat_minor": 5
}