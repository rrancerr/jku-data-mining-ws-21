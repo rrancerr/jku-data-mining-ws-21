{
 "cells": [
  {
   "cell_type": "markdown",
   "id": "0ac9b593",
   "metadata": {
    "pycharm": {
     "name": "#%% md\n"
    }
   },
   "source": [
    "# Data Mining Assignment 3\n",
    "\n",
    "## Task 1: Labor Negotiations"
   ]
  },
  {
   "cell_type": "code",
   "execution_count": 194,
   "outputs": [
    {
     "name": "stdout",
     "output_type": "stream",
     "text": [
      "   profession  duration  wage1  wage2  wage3 cola  hours pension  stby_pay  \\\n",
      "0           1       2.0   2.47    NaN   2.46  NaN   41.0    none       2.0   \n",
      "1           2       1.0   1.99   3.04    NaN   tc   36.0    none       NaN   \n",
      "2           3       1.0   2.97    NaN   5.02   tc   40.0     NaN       NaN   \n",
      "3           4       1.0  -4.51   3.98    NaN  NaN   39.0     NaN       NaN   \n",
      "4           5       2.0  -4.51   3.96    NaN   tc   38.0    none       NaN   \n",
      "\n",
      "   shift_diff educ_allow  holidays       vacation lngtrm_disabil dntl_ins  \\\n",
      "0         4.0        NaN      12.0  below average            NaN      NaN   \n",
      "1         4.0         no      13.0  below average            NaN      NaN   \n",
      "2        25.0      maybe      10.0  below average            NaN     half   \n",
      "3         NaN        NaN       9.0        average            NaN      NaN   \n",
      "4         NaN        NaN       NaN        average            NaN     half   \n",
      "\n",
      "  breavement Empl.hplan consent  \n",
      "0        NaN       half      ??  \n",
      "1        NaN       half    good  \n",
      "2        NaN        NaN      ??  \n",
      "3        yes       half    good  \n",
      "4        yes       none     bad  \n",
      "profession          int64\n",
      "duration          float64\n",
      "wage1             float64\n",
      "wage2             float64\n",
      "wage3             float64\n",
      "cola               object\n",
      "hours             float64\n",
      "pension            object\n",
      "stby_pay          float64\n",
      "shift_diff        float64\n",
      "educ_allow         object\n",
      "holidays          float64\n",
      "vacation           object\n",
      "lngtrm_disabil     object\n",
      "dntl_ins           object\n",
      "breavement         object\n",
      "Empl.hplan         object\n",
      "consent            object\n",
      "dtype: object\n",
      "\n",
      "Rows=600\n",
      "\n",
      "Columns=18\n",
      "\n",
      "Number of NaN:\n",
      "\n",
      "     profession  duration  wage1  wage2  wage3  cola  hours     pension  \\\n",
      "0             1       2.0   2.47    NaN   2.46   NaN   41.0        none   \n",
      "1             2       1.0   1.99   3.04    NaN    tc   36.0        none   \n",
      "2             3       1.0   2.97    NaN   5.02    tc   40.0         NaN   \n",
      "3             4       1.0  -4.51   3.98    NaN   NaN   39.0         NaN   \n",
      "4             5       2.0  -4.51   3.96    NaN    tc   38.0        none   \n",
      "..          ...       ...    ...    ...    ...   ...    ...         ...   \n",
      "595         596       3.0   3.02   5.78    NaN  none   40.0         NaN   \n",
      "596         597       2.0   1.96   4.02    NaN   tcf   39.0  empl_contr   \n",
      "597         598       2.0  -5.04    NaN   1.96  none    9.0         NaN   \n",
      "598         599       2.0    NaN   4.03   5.11   tcf   36.0        none   \n",
      "599         600       2.0   3.54   2.52   2.07  none    NaN         NaN   \n",
      "\n",
      "     stby_pay  shift_diff educ_allow  holidays       vacation lngtrm_disabil  \\\n",
      "0         2.0         4.0        NaN      12.0  below average            NaN   \n",
      "1         NaN         4.0         no      13.0  below average            NaN   \n",
      "2         NaN        25.0      maybe      10.0  below average            NaN   \n",
      "3         NaN         NaN        NaN       9.0        average            NaN   \n",
      "4         NaN         NaN        NaN       NaN        average            NaN   \n",
      "..        ...         ...        ...       ...            ...            ...   \n",
      "595       NaN         6.0        NaN      12.0       generous            yes   \n",
      "596       NaN         NaN         no       3.0            NaN            yes   \n",
      "597       NaN         4.0         no      10.0        average            NaN   \n",
      "598       NaN         NaN         no       5.0  below average            NaN   \n",
      "599       NaN        25.0         no      11.0        average            yes   \n",
      "\n",
      "    dntl_ins breavement Empl.hplan consent  \n",
      "0        NaN        NaN       half      ??  \n",
      "1        NaN        NaN       half    good  \n",
      "2       half        NaN        NaN      ??  \n",
      "3        NaN        yes       half    good  \n",
      "4       half        yes       none     bad  \n",
      "..       ...        ...        ...     ...  \n",
      "595      NaN        NaN       full     bad  \n",
      "596     full        NaN       none    good  \n",
      "597     none        NaN        NaN    good  \n",
      "598     half        NaN        NaN    good  \n",
      "599     full        yes        NaN    good  \n",
      "\n",
      "[600 rows x 18 columns]\n"
     ]
    },
    {
     "name": "stderr",
     "output_type": "stream",
     "text": [
      "c:\\users\\stadl\\pycharmprojects\\data-mining-ws-21\\venv\\lib\\site-packages\\IPython\\core\\interactiveshell.py:3444: FutureWarning: In a future version of pandas all arguments of read_csv except for the argument 'filepath_or_buffer' will be keyword-only\n",
      "  exec(code_obj, self.user_global_ns, self.user_ns)\n"
     ]
    }
   ],
   "source": [
    "import numpy as np\n",
    "import pandas as pd\n",
    "import matplotlib.pyplot as plt\n",
    "\n",
    "# read in file with semicolon delimiter\n",
    "df = pd.read_csv('data/labor_negotiationsStudents.csv', ';')\n",
    "\n",
    "# check how the data looks\n",
    "print(df.head())\n",
    "# check data types\n",
    "print(df.dtypes)\n",
    "print('\\nRows=' + str(len(df.index)) + '\\n')\n",
    "print('Columns=' + str(len(df.columns)) + '\\n')\n",
    "print('Number of NaN:''\\n')\n",
    "df.isna().sum()\n",
    "print(df)"
   ],
   "metadata": {
    "collapsed": false,
    "pycharm": {
     "name": "#%%\n"
    }
   }
  },
  {
   "cell_type": "markdown",
   "source": [
    "## profession"
   ],
   "metadata": {
    "collapsed": false,
    "pycharm": {
     "name": "#%% md\n"
    }
   },
   "outputs": [],
   "execution_count": 32
  },
  {
   "cell_type": "code",
   "execution_count": 195,
   "outputs": [
    {
     "name": "stdout",
     "output_type": "stream",
     "text": [
      "Amount of NULL values\n",
      "\n",
      "False\n",
      "0\n",
      "0\n"
     ]
    },
    {
     "data": {
      "text/plain": "<Figure size 720x360 with 1 Axes>",
      "image/png": "[encoded data removed]"
     },
     "metadata": {
      "needs_background": "light"
     },
     "output_type": "display_data"
    }
   ],
   "source": [
    "# Consistency\n",
    "# Accuraccy\n",
    "# Completeness\n",
    "# Noise\n",
    "# Interpretability\n",
    "\n",
    "# get duplicates\n",
    "pd.concat(g for _, g in df.groupby(\"profession\") if len(g) > 1)\n",
    "# remove them\n",
    "df = df[~df.index.duplicated(keep='first')]\n",
    "\n",
    "# profession is actually an ID so rename it\n",
    "df = df.rename(columns={'profession': 'ID'})\n",
    "\n",
    "s = pd.Series(df['ID'])\n",
    "for x in s:\n",
    "    # check if all values are integers\n",
    "    if type(x) is not type(1):\n",
    "        print(x)\n",
    "    # check if all values are in valid range\n",
    "    if x > 600 or x < 1:\n",
    "        print(x)\n",
    "\n",
    "# check if a value is missing\n",
    "print('Amount of NULL values\\n')\n",
    "print(s.isnull().values.any())\n",
    "print(s.isna().sum())\n",
    "print(s.isnull().sum())\n",
    "\n",
    "# check noise\n",
    "df.boxplot(\n",
    "    column=['ID'],\n",
    "    figsize=(10, 5))\n",
    "plt.title('Noise ID')\n",
    "plt.savefig('exports/01_id_noise.pdf')\n",
    "plt.show()"
   ],
   "metadata": {
    "collapsed": false,
    "pycharm": {
     "name": "#%%\n"
    }
   }
  },
  {
   "cell_type": "markdown",
   "source": [
    "## duration"
   ],
   "metadata": {
    "collapsed": false
   }
  },
  {
   "cell_type": "code",
   "execution_count": 196,
   "outputs": [
    {
     "name": "stdout",
     "output_type": "stream",
     "text": [
      "Amount of NULL values\n",
      "\n",
      "True\n",
      "11\n",
      "11\n",
      "2.0882852292020373\n",
      "False\n",
      "0\n",
      "0\n"
     ]
    },
    {
     "data": {
      "text/plain": "<Figure size 720x360 with 1 Axes>",
      "image/png": "[encoded data removed]"
     },
     "metadata": {
      "needs_background": "light"
     },
     "output_type": "display_data"
    }
   ],
   "source": [
    "# Consistency\n",
    "# Accuraccy\n",
    "# Completeness\n",
    "# Noise\n",
    "# Interpretability\n",
    "\n",
    "s = pd.Series(df['duration'])\n",
    "for x in s:\n",
    "    # check if all values are float\n",
    "    if type(x) is not type(1.0):\n",
    "        print('Invalid Type: ' + str(x))\n",
    "    # check if all values are in valid range\n",
    "    if x > 7 or x < 1:\n",
    "        print('Out of range: ' + str(x))\n",
    "\n",
    "# check if a value is missing\n",
    "print('Amount of NULL values\\n')\n",
    "print(s.isnull().values.any())\n",
    "print(s.isna().sum())\n",
    "print(s.isnull().sum())\n",
    "print(s.mean())\n",
    "# replace 11 NaN-Values with mean value\n",
    "df.duration.fillna(s.mean(), inplace=True)\n",
    "print(s.isnull().values.any())\n",
    "print(s.isna().sum())\n",
    "print(s.isnull().sum())\n",
    "\n",
    "# check noise\n",
    "df.boxplot(\n",
    "    column=['duration'],\n",
    "    figsize=(10, 5))\n",
    "plt.title('Noise duration')\n",
    "plt.savefig('exports/02_duration_noise.pdf')\n",
    "plt.show()"
   ],
   "metadata": {
    "collapsed": false,
    "pycharm": {
     "name": "#%%\n"
    }
   }
  },
  {
   "cell_type": "markdown",
   "source": [
    "## wages"
   ],
   "metadata": {
    "collapsed": false
   }
  },
  {
   "cell_type": "code",
   "execution_count": 197,
   "outputs": [
    {
     "data": {
      "text/plain": "<Figure size 720x360 with 1 Axes>",
      "image/png": "[encoded data removed]"
     },
     "metadata": {
      "needs_background": "light"
     },
     "output_type": "display_data"
    }
   ],
   "source": [
    "df.boxplot(column=['wage1', 'wage2', 'wage3'],\n",
    "           figsize=(10, 5))\n",
    "plt.title('Noise wage before cleaning')\n",
    "plt.savefig('exports/03_wages_with_orig_noise.pdf')\n",
    "plt.show()"
   ],
   "metadata": {
    "collapsed": false,
    "pycharm": {
     "name": "#%%\n"
    }
   }
  },
  {
   "cell_type": "markdown",
   "source": [
    "## wage1"
   ],
   "metadata": {
    "collapsed": false
   }
  },
  {
   "cell_type": "code",
   "execution_count": 198,
   "outputs": [
    {
     "name": "stdout",
     "output_type": "stream",
     "text": [
      "Acceptable range: [2.0 - 7.0]\n",
      "\n",
      "Zeros: 0\n",
      "\n",
      "Negative: 73\n",
      "\n",
      "Negative out of range if would be positive: 0\n",
      "\n",
      "Positive out of range: 46\n",
      "\n",
      "Min: -6.43\n",
      "\n",
      "---- converted to positive ----\n",
      "\n",
      "Negative: 0\n",
      "\n",
      "---- rounded up to 2.0 ----\n",
      "\n",
      "Amnt. of values below 2.0: 0\n",
      "\n",
      "Min: 2.0\n",
      "\n",
      "Amount of NULL values\n",
      "\n",
      "Null values exist: True\n",
      "Amount of NaN/NULL values: 22/22\n",
      "Mean:3.6332525951557093\n",
      "---- NULL values after cleaning ----\n",
      "\n",
      "Null values exist: False\n",
      "Amount of NaN/NULL values: 0/0\n",
      "Mean: 3.633252595155709\n"
     ]
    },
    {
     "data": {
      "text/plain": "<Figure size 720x360 with 1 Axes>",
      "image/png": "[encoded data removed]"
     },
     "metadata": {
      "needs_background": "light"
     },
     "output_type": "display_data"
    }
   ],
   "source": [
    "# Consistency\n",
    "# Accuraccy\n",
    "# Completeness\n",
    "# Noise\n",
    "# Interpretability\n",
    "\n",
    "\n",
    "s = pd.Series(df['wage1'])\n",
    "count_neg = 0\n",
    "count_zero = 0\n",
    "count_pos_out_of_range = 0\n",
    "count_neg_out_of_range = 0\n",
    "for x in s:\n",
    "    # check if all values are float\n",
    "    if type(x) is not type(1.0):\n",
    "        print('Invalid Type: ' + str(x))\n",
    "    # check if positive but not in range\n",
    "    if 2.0 > x > 0:\n",
    "        count_pos_out_of_range += 1\n",
    "    # check if negative and if would be positive are out of range\n",
    "    if 0 > x > -2.0 or x < -7.0:\n",
    "        count_neg_out_of_range += 1\n",
    "    # check if is 0\n",
    "    if x == 0:\n",
    "        count_zero += 1\n",
    "    if x < 0:\n",
    "        count_neg += 1\n",
    "\n",
    "print('Acceptable range: [2.0 - 7.0]\\n')\n",
    "print('Zeros: ' + str(count_zero) + '\\n')\n",
    "print('Negative: ' + str(count_neg) + '\\n')\n",
    "print('Negative out of range if would be positive: ' + str(count_neg_out_of_range) + '\\n')\n",
    "print('Positive out of range: ' + str(count_pos_out_of_range) + '\\n')\n",
    "print('Min: ' + str(df.wage1.min()) + '\\n')\n",
    "\n",
    "# making negative to positive\n",
    "df.wage1 = df.wage1.abs()\n",
    "\n",
    "print('---- converted to positive ----\\n')\n",
    "print('Negative: ' + str(df.wage1.lt(0).sum()) + '\\n')\n",
    "\n",
    "# round all values beneath 2.0 up to 2.0\n",
    "df.loc[df.wage1 < 2.0, 'wage1'] = 2.0\n",
    "print('---- rounded up to 2.0 ----\\n')\n",
    "print('Amnt. of values below 2.0: ' + str(df.wage1.lt(2.0).sum()) + '\\n')\n",
    "print('Min: ' + str(df.wage1.min()) + '\\n')\n",
    "\n",
    "# check if a value is missing\n",
    "print('Amount of NULL values\\n')\n",
    "print('Null values exist: ' + str(s.isnull().values.any()))\n",
    "print('Amount of NaN/NULL values: ' + str(s.isna().sum()) + '/' + str(s.isnull().sum()))\n",
    "print('Mean:' + str(s.mean()))\n",
    "# # replace 11 NaN-Values with mean value\n",
    "df.wage1.fillna(s.mean(), inplace=True)\n",
    "print('---- NULL values after cleaning ----\\n')\n",
    "print('Null values exist: ' + str(s.isnull().values.any()))\n",
    "print('Amount of NaN/NULL values: ' + str(s.isna().sum()) + '/' + str(s.isnull().sum()))\n",
    "print('Mean: ' + str(s.mean()))\n",
    "# check noise\n",
    "df.boxplot(\n",
    "    column=['wage1'],\n",
    "    figsize=(10, 5))\n",
    "plt.title('Noise Wage 1')\n",
    "plt.savefig('exports/04_wage1_noise.pdf')\n",
    "plt.show()"
   ],
   "metadata": {
    "collapsed": false,
    "pycharm": {
     "name": "#%%\n"
    }
   }
  },
  {
   "cell_type": "markdown",
   "source": [
    "## wage2"
   ],
   "metadata": {
    "collapsed": false
   }
  },
  {
   "cell_type": "code",
   "execution_count": 199,
   "outputs": [
    {
     "name": "stdout",
     "output_type": "stream",
     "text": [
      "Acceptable range: [2.0 - 7.0]\n",
      "\n",
      "Zeros: 0\n",
      "Negative: 0\n",
      "Negative out of range if would be positive: 0\n",
      "Positive in range 0 to 2.0: 13\n",
      "Positive in range > 7.0: 43\n",
      "Min: 1.96\n",
      "Max: 37.04\n",
      "---- rounded up to 2.0 ----\n",
      "\n",
      "Amnt. of values below 2.0: 0\n",
      "\n",
      "Min: 2.0\n",
      "\n",
      "Amount of NULL values\n",
      "\n",
      "Null values exist: True\n",
      "Amount of NaN/NULL values: 129/129\n",
      "---- NULL values after cleaning ----\n",
      "\n",
      "Null values exist: True\n",
      "Amount of NaN/NULL values: 172/172\n",
      "Mean: 4.006728971962617\n"
     ]
    },
    {
     "data": {
      "text/plain": "<Figure size 720x360 with 1 Axes>",
      "image/png": "[encoded data removed]"
     },
     "metadata": {
      "needs_background": "light"
     },
     "output_type": "display_data"
    },
    {
     "data": {
      "text/plain": "<Figure size 720x360 with 1 Axes>",
      "image/png": "[encoded data removed]"
     },
     "metadata": {
      "needs_background": "light"
     },
     "output_type": "display_data"
    }
   ],
   "source": [
    "# Consistency\n",
    "# Accuraccy\n",
    "# Completeness\n",
    "# Noise\n",
    "# Interpretability\n",
    "\n",
    "s = pd.Series(df['wage2'])\n",
    "count_neg = 0\n",
    "count_zero = 0\n",
    "count_pos_out_of_range = 0\n",
    "count_neg_out_of_range = 0\n",
    "count_pos_out_of_range_upper = 0\n",
    "\n",
    "for x in s:\n",
    "    # check if all values are float\n",
    "    if type(x) is not type(1.0):\n",
    "        print('Invalid Type: ' + str(x))\n",
    "    # check if positive but not in range\n",
    "    if 2.0 > x > 0:\n",
    "        count_pos_out_of_range += 1\n",
    "    # check if negative and if would be positive are out of range\n",
    "    if 0 > x > -2.0 or x < -7.0:\n",
    "        count_neg_out_of_range += 1\n",
    "    # check if is 0\n",
    "    if x == 0:\n",
    "        count_zero += 1\n",
    "    if x < 0:\n",
    "        count_neg += 1\n",
    "    if x > 7.0:\n",
    "        count_pos_out_of_range_upper += 1\n",
    "\n",
    "print('Acceptable range: [2.0 - 7.0]\\n')\n",
    "print('Zeros: ' + str(count_zero))\n",
    "print('Negative: ' + str(count_neg))\n",
    "print('Negative out of range if would be positive: ' + str(count_neg_out_of_range))\n",
    "print('Positive in range 0 to 2.0: ' + str(count_pos_out_of_range))\n",
    "print('Positive in range > 7.0: ' + str(count_pos_out_of_range_upper))\n",
    "print('Min: ' + str(df.wage2.min()))\n",
    "print('Max: ' + str(df.wage2.max()))\n",
    "\n",
    "# round all values beneath 2.0 up to 2.0\n",
    "df.loc[df.wage2 < 2.0, 'wage2'] = 2.0\n",
    "print('---- rounded up to 2.0 ----\\n')\n",
    "print('Amnt. of values below 2.0: ' + str(df.wage2.lt(2.0).sum()) + '\\n')\n",
    "print('Min: ' + str(df.wage2.min()) + '\\n')\n",
    "\n",
    "# check if a value is missing\n",
    "print('Amount of NULL values\\n')\n",
    "print('Null values exist: ' + str(s.isnull().values.any()))\n",
    "print('Amount of NaN/NULL values: ' + str(s.isna().sum()) + '/' + str(s.isnull().sum()))\n",
    "# replace values greater than 7.0  with NaN\n",
    "df.loc[df.wage2 > 7.0, 'wage2'] = np.nan\n",
    "\n",
    "print('---- NULL values after cleaning ----\\n')\n",
    "print('Null values exist: ' + str(s.isnull().values.any()))\n",
    "print('Amount of NaN/NULL values: ' + str(s.isna().sum()) + '/' + str(s.isnull().sum()))\n",
    "print('Mean: ' + str(s.mean()))\n",
    "\n",
    "# check noise\n",
    "df.boxplot(\n",
    "    column=['wage2'],\n",
    "    figsize=(10, 5))\n",
    "plt.title('Noise Wage 2 BEFORE cleaning')\n",
    "plt.savefig('exports/05_01_wage2_noise.pdf')\n",
    "plt.show()\n",
    "\n",
    "Q1 = df.wage2.quantile(0.25)\n",
    "Q3 = df.wage2.quantile(0.75)\n",
    "IQR = Q3 - Q1  #IQR is interquartile range.\n",
    "iqr_filter = (df.wage2 >= Q1 - 1.5 * IQR) & (df.wage2 <= Q3 + 1.5 * IQR)\n",
    "df = df.loc[iqr_filter]\n",
    "# check noise\n",
    "df.boxplot(\n",
    "    column=['wage2'],\n",
    "    figsize=(10, 5))\n",
    "plt.title('Noise Wage 2 AFTER cleaning')\n",
    "plt.savefig('exports/05_02_wage2_noise.pdf')\n",
    "plt.show()"
   ],
   "metadata": {
    "collapsed": false,
    "pycharm": {
     "name": "#%%\n"
    }
   }
  },
  {
   "cell_type": "markdown",
   "source": [
    "## wage3"
   ],
   "metadata": {
    "collapsed": false
   }
  },
  {
   "cell_type": "code",
   "execution_count": 200,
   "outputs": [
    {
     "name": "stdout",
     "output_type": "stream",
     "text": [
      "Acceptable range: [2.0 - 7.0]\n",
      "\n",
      "Zeros: 0\n",
      "Negative: 10\n",
      "Negative out of range if would be positive: 0\n",
      "Positive in range 0 to 2.0: 8\n",
      "Positive in range > 7.0: 43\n",
      "Min: -5.03\n",
      "Max: 5.14\n",
      "Amount of NULL values\n",
      "\n",
      "Null values exist: True\n",
      "Amount of NaN/NULL values: 302/302\n",
      "Amount of NULL values\n",
      "\n",
      "Null values exist: True\n",
      "Amount of NaN/NULL values: 312/312\n",
      "Min: 1.97\n",
      "Max: 5.14\n",
      "Min: 2.0\n",
      "Max: 5.14\n"
     ]
    },
    {
     "data": {
      "text/plain": "<Figure size 720x360 with 1 Axes>",
      "image/png": "[encoded data removed]"
     },
     "metadata": {
      "needs_background": "light"
     },
     "output_type": "display_data"
    }
   ],
   "source": [
    "# Consistency\n",
    "# Accuraccy\n",
    "# Completeness\n",
    "# Noise\n",
    "# Interpretability\n",
    "#\n",
    "s = pd.Series(df['wage3'])\n",
    "count_neg = 0\n",
    "count_zero = 0\n",
    "count_pos_out_of_range = 0\n",
    "count_neg_out_of_range = 0\n",
    "for x in s:\n",
    "    # check if all values are float\n",
    "    if type(x) is not type(1.0):\n",
    "        print('Invalid Type: ' + str(x))\n",
    "    # check if positive but not in range\n",
    "    if 2.0 > x > 0:\n",
    "        count_pos_out_of_range += 1\n",
    "    # check if negative and if would be positive are out of range\n",
    "    if 0 > x > -2.0 or x < -7.0:\n",
    "        count_neg_out_of_range += 1\n",
    "    # check if is 0\n",
    "    if x == 0:\n",
    "        count_zero += 1\n",
    "    if x < 0:\n",
    "        count_neg += 1\n",
    "\n",
    "print('Acceptable range: [2.0 - 7.0]\\n')\n",
    "print('Zeros: ' + str(count_zero))\n",
    "print('Negative: ' + str(count_neg))\n",
    "print('Negative out of range if would be positive: ' + str(count_neg_out_of_range))\n",
    "print('Positive in range 0 to 2.0: ' + str(count_pos_out_of_range))\n",
    "print('Positive in range > 7.0: ' + str(count_pos_out_of_range_upper))\n",
    "print('Min: ' + str(df.wage3.min()))\n",
    "print('Max: ' + str(df.wage3.max()))\n",
    "\n",
    "# making negative to positive\n",
    "# df.wage3 = df.wage3.abs()\n",
    "#\n",
    "# print('---- converted to positive ----\\n')\n",
    "# print('Negative: ' + str(df.wage3.lt(0).sum()) + '\\n')\n",
    "\n",
    "\n",
    "# check if a value is missing\n",
    "print('Amount of NULL values\\n')\n",
    "print('Null values exist: ' + str(s.isnull().values.any()))\n",
    "print('Amount of NaN/NULL values: ' + str(s.isna().sum()) + '/' + str(s.isnull().sum()))\n",
    "# remove values < 0.0\n",
    "df.loc[df.wage3 < 0.0, 'wage3'] = np.nan\n",
    "print('Amount of NULL values\\n')\n",
    "print('Null values exist: ' + str(s.isnull().values.any()))\n",
    "print('Amount of NaN/NULL values: ' + str(s.isna().sum()) + '/' + str(s.isnull().sum()))\n",
    "print('Min: ' + str(df.wage3.min()))\n",
    "print('Max: ' + str(df.wage3.max()))\n",
    "df.loc[df.wage3 < 2.0, 'wage3'] = 2.0\n",
    "print('Min: ' + str(df.wage3.min()))\n",
    "print('Max: ' + str(df.wage3.max()))\n",
    "\n",
    "# check noise\n",
    "df.boxplot(\n",
    "    column=['wage3'],\n",
    "    figsize=(10, 5))\n",
    "plt.title('Noise Wage 3')\n",
    "plt.savefig('exports/06_wage3_noise.pdf')\n",
    "plt.show()\n"
   ],
   "metadata": {
    "collapsed": false,
    "pycharm": {
     "name": "#%%\n"
    }
   }
  }
 ],
 "metadata": {
  "kernelspec": {
   "display_name": "Python 3 (ipykernel)",
   "language": "python",
   "name": "python3"
  },
  "language_info": {
   "codemirror_mode": {
    "name": "ipython",
    "version": 3
   },
   "file_extension": ".py",
   "mimetype": "text/x-python",
   "name": "python",
   "nbconvert_exporter": "python",
   "pygments_lexer": "ipython3",
   "version": "3.9.0"
  }
 },
 "nbformat": 4,
 "nbformat_minor": 5
}