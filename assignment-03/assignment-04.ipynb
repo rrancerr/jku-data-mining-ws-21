{
 "cells": [
  {
   "cell_type": "markdown",
   "id": "0ac9b593",
   "metadata": {
    "pycharm": {
     "name": "#%% md\n"
    }
   },
   "source": [
    "# Data Mining Assignment 3\n",
    "\n",
    "## Task 1: Labor Negotiations"
   ]
  },
  {
   "cell_type": "code",
   "execution_count": 748,
   "outputs": [
    {
     "name": "stdout",
     "output_type": "stream",
     "text": [
      "   profession  duration  wage1  wage2  wage3 cola  hours pension  stby_pay  \\\n",
      "0           1       2.0   2.47    NaN   2.46  NaN   41.0    none       2.0   \n",
      "1           2       1.0   1.99   3.04    NaN   tc   36.0    none       NaN   \n",
      "2           3       1.0   2.97    NaN   5.02   tc   40.0     NaN       NaN   \n",
      "3           4       1.0  -4.51   3.98    NaN  NaN   39.0     NaN       NaN   \n",
      "4           5       2.0  -4.51   3.96    NaN   tc   38.0    none       NaN   \n",
      "\n",
      "   shift_diff educ_allow  holidays       vacation lngtrm_disabil dntl_ins  \\\n",
      "0         4.0        NaN      12.0  below average            NaN      NaN   \n",
      "1         4.0         no      13.0  below average            NaN      NaN   \n",
      "2        25.0      maybe      10.0  below average            NaN     half   \n",
      "3         NaN        NaN       9.0        average            NaN      NaN   \n",
      "4         NaN        NaN       NaN        average            NaN     half   \n",
      "\n",
      "  breavement Empl.hplan consent  \n",
      "0        NaN       half      ??  \n",
      "1        NaN       half    good  \n",
      "2        NaN        NaN      ??  \n",
      "3        yes       half    good  \n",
      "4        yes       none     bad  \n",
      "profession          int64\n",
      "duration          float64\n",
      "wage1             float64\n",
      "wage2             float64\n",
      "wage3             float64\n",
      "cola               object\n",
      "hours             float64\n",
      "pension            object\n",
      "stby_pay          float64\n",
      "shift_diff        float64\n",
      "educ_allow         object\n",
      "holidays          float64\n",
      "vacation           object\n",
      "lngtrm_disabil     object\n",
      "dntl_ins           object\n",
      "breavement         object\n",
      "Empl.hplan         object\n",
      "consent            object\n",
      "dtype: object\n",
      "\n",
      "Rows=600\n",
      "\n",
      "Columns=18\n",
      "\n",
      "Number of NaN:\n",
      "\n",
      "     profession  duration  wage1  wage2  wage3  cola  hours     pension  \\\n",
      "0             1       2.0   2.47    NaN   2.46   NaN   41.0        none   \n",
      "1             2       1.0   1.99   3.04    NaN    tc   36.0        none   \n",
      "2             3       1.0   2.97    NaN   5.02    tc   40.0         NaN   \n",
      "3             4       1.0  -4.51   3.98    NaN   NaN   39.0         NaN   \n",
      "4             5       2.0  -4.51   3.96    NaN    tc   38.0        none   \n",
      "..          ...       ...    ...    ...    ...   ...    ...         ...   \n",
      "595         596       3.0   3.02   5.78    NaN  none   40.0         NaN   \n",
      "596         597       2.0   1.96   4.02    NaN   tcf   39.0  empl_contr   \n",
      "597         598       2.0  -5.04    NaN   1.96  none    9.0         NaN   \n",
      "598         599       2.0    NaN   4.03   5.11   tcf   36.0        none   \n",
      "599         600       2.0   3.54   2.52   2.07  none    NaN         NaN   \n",
      "\n",
      "     stby_pay  shift_diff educ_allow  holidays       vacation lngtrm_disabil  \\\n",
      "0         2.0         4.0        NaN      12.0  below average            NaN   \n",
      "1         NaN         4.0         no      13.0  below average            NaN   \n",
      "2         NaN        25.0      maybe      10.0  below average            NaN   \n",
      "3         NaN         NaN        NaN       9.0        average            NaN   \n",
      "4         NaN         NaN        NaN       NaN        average            NaN   \n",
      "..        ...         ...        ...       ...            ...            ...   \n",
      "595       NaN         6.0        NaN      12.0       generous            yes   \n",
      "596       NaN         NaN         no       3.0            NaN            yes   \n",
      "597       NaN         4.0         no      10.0        average            NaN   \n",
      "598       NaN         NaN         no       5.0  below average            NaN   \n",
      "599       NaN        25.0         no      11.0        average            yes   \n",
      "\n",
      "    dntl_ins breavement Empl.hplan consent  \n",
      "0        NaN        NaN       half      ??  \n",
      "1        NaN        NaN       half    good  \n",
      "2       half        NaN        NaN      ??  \n",
      "3        NaN        yes       half    good  \n",
      "4       half        yes       none     bad  \n",
      "..       ...        ...        ...     ...  \n",
      "595      NaN        NaN       full     bad  \n",
      "596     full        NaN       none    good  \n",
      "597     none        NaN        NaN    good  \n",
      "598     half        NaN        NaN    good  \n",
      "599     full        yes        NaN    good  \n",
      "\n",
      "[600 rows x 18 columns]\n"
     ]
    },
    {
     "name": "stderr",
     "output_type": "stream",
     "text": [
      "c:\\users\\stadl\\pycharmprojects\\data-mining-ws-21\\venv\\lib\\site-packages\\IPython\\core\\interactiveshell.py:3444: FutureWarning: In a future version of pandas all arguments of read_csv except for the argument 'filepath_or_buffer' will be keyword-only\n",
      "  exec(code_obj, self.user_global_ns, self.user_ns)\n"
     ]
    }
   ],
   "source": [
    "import numpy as np\n",
    "import pandas as pd\n",
    "import matplotlib.pyplot as plt\n",
    "\n",
    "# read in file with semicolon delimiter\n",
    "df = pd.read_csv('data/labor_negotiationsStudents.csv', ';')\n",
    "\n",
    "# check how the data looks\n",
    "print(df.head())\n",
    "# check data types\n",
    "print(df.dtypes)\n",
    "print('\\nRows=' + str(len(df.index)) + '\\n')\n",
    "print('Columns=' + str(len(df.columns)) + '\\n')\n",
    "print('Number of NaN:''\\n')\n",
    "df.isna().sum()\n",
    "print(df)"
   ],
   "metadata": {
    "collapsed": false,
    "pycharm": {
     "name": "#%%\n"
    }
   }
  },
  {
   "cell_type": "markdown",
   "source": [
    "## profession"
   ],
   "metadata": {
    "collapsed": false,
    "pycharm": {
     "name": "#%% md\n"
    }
   },
   "outputs": [],
   "execution_count": 32
  },
  {
   "cell_type": "code",
   "execution_count": 749,
   "outputs": [
    {
     "name": "stdout",
     "output_type": "stream",
     "text": [
      "Amount of NULL values\n",
      "\n",
      "False\n",
      "0\n",
      "0\n"
     ]
    },
    {
     "data": {
      "text/plain": "<Figure size 720x360 with 1 Axes>",
      "image/png": "[encoded data removed]"
     },
     "metadata": {
      "needs_background": "light"
     },
     "output_type": "display_data"
    }
   ],
   "source": [
    "# Consistency\n",
    "# Accuraccy\n",
    "# Completeness\n",
    "# Noise\n",
    "# Interpretability\n",
    "\n",
    "# get duplicates\n",
    "pd.concat(g for _, g in df.groupby(\"profession\") if len(g) > 1)\n",
    "# remove them\n",
    "df = df[~df.index.duplicated(keep='first')]\n",
    "\n",
    "# profession is actually an ID so rename it\n",
    "df = df.rename(columns={'profession': 'ID'})\n",
    "\n",
    "s = pd.Series(df['ID'])\n",
    "for x in s:\n",
    "    # check if all values are integers\n",
    "    if type(x) is not type(1):\n",
    "        print(x)\n",
    "    # check if all values are in valid range\n",
    "    if x > 600 or x < 1:\n",
    "        print(x)\n",
    "\n",
    "# check if a value is missing\n",
    "print('Amount of NULL values\\n')\n",
    "print(s.isnull().values.any())\n",
    "print(s.isna().sum())\n",
    "print(s.isnull().sum())\n",
    "\n",
    "# check noise\n",
    "df.boxplot(\n",
    "    column=['ID'],\n",
    "    figsize=(10, 5))\n",
    "plt.title('Noise ID')\n",
    "plt.savefig('exports/01_id_noise.png')\n",
    "plt.show()"
   ],
   "metadata": {
    "collapsed": false,
    "pycharm": {
     "name": "#%%\n"
    }
   }
  },
  {
   "cell_type": "markdown",
   "source": [
    "## duration"
   ],
   "metadata": {
    "collapsed": false
   }
  },
  {
   "cell_type": "code",
   "execution_count": 750,
   "outputs": [
    {
     "name": "stdout",
     "output_type": "stream",
     "text": [
      "Amount of NULL values\n",
      "\n",
      "True\n",
      "11\n",
      "11\n",
      "2.0882852292020373\n",
      "False\n",
      "0\n",
      "0\n"
     ]
    },
    {
     "data": {
      "text/plain": "<Figure size 720x360 with 1 Axes>",
      "image/png": "[encoded data removed]"
     },
     "metadata": {
      "needs_background": "light"
     },
     "output_type": "display_data"
    }
   ],
   "source": [
    "# Consistency\n",
    "# Accuraccy\n",
    "# Completeness\n",
    "# Noise\n",
    "# Interpretability\n",
    "\n",
    "s = pd.Series(df['duration'])\n",
    "for x in s:\n",
    "    # check if all values are float\n",
    "    if type(x) is not type(1.0):\n",
    "        print('Invalid Type: ' + str(x))\n",
    "    # check if all values are in valid range\n",
    "    if x > 7 or x < 1:\n",
    "        print('Out of range: ' + str(x))\n",
    "\n",
    "# check if a value is missing\n",
    "print('Amount of NULL values\\n')\n",
    "print(s.isnull().values.any())\n",
    "print(s.isna().sum())\n",
    "print(s.isnull().sum())\n",
    "print(s.mean())\n",
    "# replace 11 NaN-Values with mean value\n",
    "df.duration.fillna(s.mean(), inplace=True)\n",
    "print(s.isnull().values.any())\n",
    "print(s.isna().sum())\n",
    "print(s.isnull().sum())\n",
    "\n",
    "# check noise\n",
    "df.boxplot(\n",
    "    column=['duration'],\n",
    "    figsize=(10, 5))\n",
    "plt.title('Noise duration')\n",
    "plt.savefig('exports/02_duration_noise.png')\n",
    "plt.show()"
   ],
   "metadata": {
    "collapsed": false,
    "pycharm": {
     "name": "#%%\n"
    }
   }
  },
  {
   "cell_type": "markdown",
   "source": [
    "## wages"
   ],
   "metadata": {
    "collapsed": false
   }
  },
  {
   "cell_type": "code",
   "execution_count": 751,
   "outputs": [
    {
     "data": {
      "text/plain": "<Figure size 720x360 with 1 Axes>",
      "image/png": "[encoded data removed]"
     },
     "metadata": {
      "needs_background": "light"
     },
     "output_type": "display_data"
    }
   ],
   "source": [
    "df.boxplot(column=['wage1', 'wage2', 'wage3'],\n",
    "           figsize=(10, 5))\n",
    "plt.title('Noise wage before cleaning')\n",
    "plt.savefig('exports/03_wages_with_orig_noise.png')\n",
    "plt.show()"
   ],
   "metadata": {
    "collapsed": false,
    "pycharm": {
     "name": "#%%\n"
    }
   }
  },
  {
   "cell_type": "markdown",
   "source": [
    "## wage1"
   ],
   "metadata": {
    "collapsed": false
   }
  },
  {
   "cell_type": "code",
   "execution_count": 752,
   "outputs": [
    {
     "name": "stdout",
     "output_type": "stream",
     "text": [
      "Acceptable range: [2.0 - 7.0]\n",
      "\n",
      "Zeros: 0\n",
      "\n",
      "Negative: 73\n",
      "\n",
      "Negative out of range if would be positive: 0\n",
      "\n",
      "Positive out of range: 46\n",
      "\n",
      "Min: -6.43\n",
      "\n",
      "---- converted to positive ----\n",
      "\n",
      "Negative: 0\n",
      "\n",
      "---- rounded up to 2.0 ----\n",
      "\n",
      "Amnt. of values below 2.0: 0\n",
      "\n",
      "Min: 2.0\n",
      "\n",
      "Amount of NULL values\n",
      "\n",
      "Null values exist: True\n",
      "Amount of NaN/NULL values: 22/22\n",
      "Mean:3.6332525951557093\n",
      "---- NULL values after cleaning ----\n",
      "\n",
      "Null values exist: False\n",
      "Amount of NaN/NULL values: 0/0\n",
      "Mean: 3.633252595155709\n"
     ]
    },
    {
     "data": {
      "text/plain": "<Figure size 720x360 with 1 Axes>",
      "image/png": "[encoded data removed]"
     },
     "metadata": {
      "needs_background": "light"
     },
     "output_type": "display_data"
    }
   ],
   "source": [
    "# Consistency\n",
    "# Accuraccy\n",
    "# Completeness\n",
    "# Noise\n",
    "# Interpretability\n",
    "\n",
    "\n",
    "s = pd.Series(df['wage1'])\n",
    "count_neg = 0\n",
    "count_zero = 0\n",
    "count_pos_out_of_range = 0\n",
    "count_neg_out_of_range = 0\n",
    "for x in s:\n",
    "    # check if all values are float\n",
    "    if type(x) is not type(1.0):\n",
    "        print('Invalid Type: ' + str(x))\n",
    "    # check if positive but not in range\n",
    "    if 2.0 > x > 0:\n",
    "        count_pos_out_of_range += 1\n",
    "    # check if negative and if would be positive are out of range\n",
    "    if 0 > x > -2.0 or x < -7.0:\n",
    "        count_neg_out_of_range += 1\n",
    "    # check if is 0\n",
    "    if x == 0:\n",
    "        count_zero += 1\n",
    "    if x < 0:\n",
    "        count_neg += 1\n",
    "\n",
    "print('Acceptable range: [2.0 - 7.0]\\n')\n",
    "print('Zeros: ' + str(count_zero) + '\\n')\n",
    "print('Negative: ' + str(count_neg) + '\\n')\n",
    "print('Negative out of range if would be positive: ' + str(count_neg_out_of_range) + '\\n')\n",
    "print('Positive out of range: ' + str(count_pos_out_of_range) + '\\n')\n",
    "print('Min: ' + str(df.wage1.min()) + '\\n')\n",
    "\n",
    "# making negative to positive\n",
    "df.wage1 = df.wage1.abs()\n",
    "\n",
    "print('---- converted to positive ----\\n')\n",
    "print('Negative: ' + str(df.wage1.lt(0).sum()) + '\\n')\n",
    "\n",
    "# round all values beneath 2.0 up to 2.0\n",
    "df.loc[df.wage1 < 2.0, 'wage1'] = 2.0\n",
    "print('---- rounded up to 2.0 ----\\n')\n",
    "print('Amnt. of values below 2.0: ' + str(df.wage1.lt(2.0).sum()) + '\\n')\n",
    "print('Min: ' + str(df.wage1.min()) + '\\n')\n",
    "\n",
    "# check if a value is missing\n",
    "print('Amount of NULL values\\n')\n",
    "print('Null values exist: ' + str(s.isnull().values.any()))\n",
    "print('Amount of NaN/NULL values: ' + str(s.isna().sum()) + '/' + str(s.isnull().sum()))\n",
    "print('Mean:' + str(s.mean()))\n",
    "# # replace 11 NaN-Values with mean value\n",
    "df.wage1.fillna(s.mean(), inplace=True)\n",
    "print('---- NULL values after cleaning ----\\n')\n",
    "print('Null values exist: ' + str(s.isnull().values.any()))\n",
    "print('Amount of NaN/NULL values: ' + str(s.isna().sum()) + '/' + str(s.isnull().sum()))\n",
    "print('Mean: ' + str(s.mean()))\n",
    "# check noise\n",
    "df.boxplot(\n",
    "    column=['wage1'],\n",
    "    figsize=(10, 5))\n",
    "plt.title('Noise Wage 1')\n",
    "plt.savefig('exports/04_wage1_noise.png')\n",
    "plt.show()"
   ],
   "metadata": {
    "collapsed": false,
    "pycharm": {
     "name": "#%%\n"
    }
   }
  },
  {
   "cell_type": "markdown",
   "source": [
    "## wage2"
   ],
   "metadata": {
    "collapsed": false
   }
  },
  {
   "cell_type": "code",
   "execution_count": 753,
   "outputs": [
    {
     "name": "stdout",
     "output_type": "stream",
     "text": [
      "Acceptable range: [2.0 - 7.0]\n",
      "\n",
      "Zeros: 0\n",
      "Negative: 0\n",
      "Negative out of range if would be positive: 0\n",
      "Positive in range 0 to 2.0: 13\n",
      "Positive in range > 7.0: 43\n",
      "Min: 1.96\n",
      "Max: 37.04\n",
      "---- rounded up to 2.0 ----\n",
      "\n",
      "Amnt. of values below 2.0: 0\n",
      "\n",
      "Min: 2.0\n",
      "\n",
      "Amount of NULL values\n",
      "\n",
      "Null values exist: True\n",
      "Amount of NaN/NULL values: 129/129\n",
      "---- NULL values after cleaning ----\n",
      "\n",
      "Null values exist: True\n",
      "Amount of NaN/NULL values: 172/172\n",
      "Mean: 4.006728971962617\n"
     ]
    },
    {
     "data": {
      "text/plain": "<Figure size 720x360 with 1 Axes>",
      "image/png": "[encoded data removed]"
     },
     "metadata": {
      "needs_background": "light"
     },
     "output_type": "display_data"
    },
    {
     "data": {
      "text/plain": "<Figure size 720x360 with 1 Axes>",
      "image/png": "[encoded data removed]"
     },
     "metadata": {
      "needs_background": "light"
     },
     "output_type": "display_data"
    }
   ],
   "source": [
    "# Consistency\n",
    "# Accuraccy\n",
    "# Completeness\n",
    "# Noise\n",
    "# Interpretability\n",
    "\n",
    "s = pd.Series(df['wage2'])\n",
    "count_neg = 0\n",
    "count_zero = 0\n",
    "count_pos_out_of_range = 0\n",
    "count_neg_out_of_range = 0\n",
    "count_pos_out_of_range_upper = 0\n",
    "\n",
    "for x in s:\n",
    "    # check if all values are float\n",
    "    if type(x) is not type(1.0):\n",
    "        print('Invalid Type: ' + str(x))\n",
    "    # check if positive but not in range\n",
    "    if 2.0 > x > 0:\n",
    "        count_pos_out_of_range += 1\n",
    "    # check if negative and if would be positive are out of range\n",
    "    if 0 > x > -2.0 or x < -7.0:\n",
    "        count_neg_out_of_range += 1\n",
    "    # check if is 0\n",
    "    if x == 0:\n",
    "        count_zero += 1\n",
    "    if x < 0:\n",
    "        count_neg += 1\n",
    "    if x > 7.0:\n",
    "        count_pos_out_of_range_upper += 1\n",
    "\n",
    "print('Acceptable range: [2.0 - 7.0]\\n')\n",
    "print('Zeros: ' + str(count_zero))\n",
    "print('Negative: ' + str(count_neg))\n",
    "print('Negative out of range if would be positive: ' + str(count_neg_out_of_range))\n",
    "print('Positive in range 0 to 2.0: ' + str(count_pos_out_of_range))\n",
    "print('Positive in range > 7.0: ' + str(count_pos_out_of_range_upper))\n",
    "print('Min: ' + str(df.wage2.min()))\n",
    "print('Max: ' + str(df.wage2.max()))\n",
    "\n",
    "# round all values beneath 2.0 up to 2.0\n",
    "df.loc[df.wage2 < 2.0, 'wage2'] = 2.0\n",
    "print('---- rounded up to 2.0 ----\\n')\n",
    "print('Amnt. of values below 2.0: ' + str(df.wage2.lt(2.0).sum()) + '\\n')\n",
    "print('Min: ' + str(df.wage2.min()) + '\\n')\n",
    "\n",
    "# check if a value is missing\n",
    "print('Amount of NULL values\\n')\n",
    "print('Null values exist: ' + str(s.isnull().values.any()))\n",
    "print('Amount of NaN/NULL values: ' + str(s.isna().sum()) + '/' + str(s.isnull().sum()))\n",
    "# replace values greater than 7.0  with NaN\n",
    "df.loc[df.wage2 > 7.0, 'wage2'] = np.nan\n",
    "\n",
    "print('---- NULL values after cleaning ----\\n')\n",
    "print('Null values exist: ' + str(s.isnull().values.any()))\n",
    "print('Amount of NaN/NULL values: ' + str(s.isna().sum()) + '/' + str(s.isnull().sum()))\n",
    "print('Mean: ' + str(s.mean()))\n",
    "\n",
    "# check noise\n",
    "df.boxplot(\n",
    "    column=['wage2'],\n",
    "    figsize=(10, 5))\n",
    "plt.title('Noise Wage 2 BEFORE cleaning')\n",
    "plt.savefig('exports/05_01_wage2_noise.png')\n",
    "plt.show()\n",
    "\n",
    "Q1 = df.wage2.quantile(0.25)\n",
    "Q3 = df.wage2.quantile(0.75)\n",
    "IQR = Q3 - Q1  #IQR is interquartile range.\n",
    "iqr_filter = (df.wage2 >= Q1 - 1.5 * IQR) & (df.wage2 <= Q3 + 1.5 * IQR)\n",
    "df = df.loc[iqr_filter]\n",
    "# check noise\n",
    "df.boxplot(\n",
    "    column=['wage2'],\n",
    "    figsize=(10, 5))\n",
    "plt.title('Noise Wage 2 AFTER cleaning')\n",
    "plt.savefig('exports/05_02_wage2_noise.png')\n",
    "plt.show()"
   ],
   "metadata": {
    "collapsed": false,
    "pycharm": {
     "name": "#%%\n"
    }
   }
  },
  {
   "cell_type": "markdown",
   "source": [
    "## wage3"
   ],
   "metadata": {
    "collapsed": false
   }
  },
  {
   "cell_type": "code",
   "execution_count": 754,
   "outputs": [
    {
     "name": "stdout",
     "output_type": "stream",
     "text": [
      "Acceptable range: [2.0 - 7.0]\n",
      "\n",
      "Zeros: 0\n",
      "Negative: 10\n",
      "Negative out of range if would be positive: 0\n",
      "Positive in range 0 to 2.0: 8\n",
      "Positive in range > 7.0: 43\n",
      "Min: -5.03\n",
      "Max: 5.14\n",
      "Amount of NULL values\n",
      "\n",
      "Null values exist: True\n",
      "Amount of NaN/NULL values: 302/302\n",
      "Amount of NULL values\n",
      "\n",
      "Null values exist: True\n",
      "Amount of NaN/NULL values: 312/312\n",
      "Min: 1.97\n",
      "Max: 5.14\n",
      "Min: 2.0\n",
      "Max: 5.14\n"
     ]
    },
    {
     "data": {
      "text/plain": "<Figure size 720x360 with 1 Axes>",
      "image/png": "[encoded data removed]"
     },
     "metadata": {
      "needs_background": "light"
     },
     "output_type": "display_data"
    }
   ],
   "source": [
    "# Consistency\n",
    "# Accuraccy\n",
    "# Completeness\n",
    "# Noise\n",
    "# Interpretability\n",
    "#\n",
    "s = pd.Series(df['wage3'])\n",
    "count_neg = 0\n",
    "count_zero = 0\n",
    "count_pos_out_of_range = 0\n",
    "count_neg_out_of_range = 0\n",
    "for x in s:\n",
    "    # check if all values are float\n",
    "    if type(x) is not type(1.0):\n",
    "        print('Invalid Type: ' + str(x))\n",
    "    # check if positive but not in range\n",
    "    if 2.0 > x > 0:\n",
    "        count_pos_out_of_range += 1\n",
    "    # check if negative and if would be positive are out of range\n",
    "    if 0 > x > -2.0 or x < -7.0:\n",
    "        count_neg_out_of_range += 1\n",
    "    # check if is 0\n",
    "    if x == 0:\n",
    "        count_zero += 1\n",
    "    if x < 0:\n",
    "        count_neg += 1\n",
    "\n",
    "print('Acceptable range: [2.0 - 7.0]\\n')\n",
    "print('Zeros: ' + str(count_zero))\n",
    "print('Negative: ' + str(count_neg))\n",
    "print('Negative out of range if would be positive: ' + str(count_neg_out_of_range))\n",
    "print('Positive in range 0 to 2.0: ' + str(count_pos_out_of_range))\n",
    "print('Positive in range > 7.0: ' + str(count_pos_out_of_range_upper))\n",
    "print('Min: ' + str(df.wage3.min()))\n",
    "print('Max: ' + str(df.wage3.max()))\n",
    "\n",
    "# making negative to positive\n",
    "# df.wage3 = df.wage3.abs()\n",
    "#\n",
    "# print('---- converted to positive ----\\n')\n",
    "# print('Negative: ' + str(df.wage3.lt(0).sum()) + '\\n')\n",
    "\n",
    "\n",
    "# check if a value is missing\n",
    "print('Amount of NULL values\\n')\n",
    "print('Null values exist: ' + str(s.isnull().values.any()))\n",
    "print('Amount of NaN/NULL values: ' + str(s.isna().sum()) + '/' + str(s.isnull().sum()))\n",
    "# remove values < 0.0\n",
    "df.loc[df.wage3 < 0.0, 'wage3'] = np.nan\n",
    "print('Amount of NULL values\\n')\n",
    "print('Null values exist: ' + str(s.isnull().values.any()))\n",
    "print('Amount of NaN/NULL values: ' + str(s.isna().sum()) + '/' + str(s.isnull().sum()))\n",
    "print('Min: ' + str(df.wage3.min()))\n",
    "print('Max: ' + str(df.wage3.max()))\n",
    "df.loc[df.wage3 < 2.0, 'wage3'] = 2.0\n",
    "print('Min: ' + str(df.wage3.min()))\n",
    "print('Max: ' + str(df.wage3.max()))\n",
    "\n",
    "# check noise\n",
    "df.boxplot(\n",
    "    column=['wage3'],\n",
    "    figsize=(10, 5))\n",
    "plt.title('Noise Wage 3')\n",
    "plt.savefig('exports/06_wage3_noise.png')\n",
    "plt.show()"
   ],
   "metadata": {
    "collapsed": false,
    "pycharm": {
     "name": "#%%\n"
    }
   }
  },
  {
   "cell_type": "markdown",
   "source": [
    "## cola"
   ],
   "metadata": {
    "collapsed": false
   }
  },
  {
   "cell_type": "code",
   "execution_count": 755,
   "outputs": [
    {
     "name": "stdout",
     "output_type": "stream",
     "text": [
      "others: 183\n",
      "Amount of NaN/NULL values: 183/183\n",
      "Amount of NaN/NULL values: 0/0\n"
     ]
    },
    {
     "data": {
      "text/plain": "       ID\ncola     \nnone  314\ntc     64\ntcf    42",
      "text/html": "<div>\n<style scoped>\n    .dataframe tbody tr th:only-of-type {\n        vertical-align: middle;\n    }\n\n    .dataframe tbody tr th {\n        vertical-align: top;\n    }\n\n    .dataframe thead th {\n        text-align: right;\n    }\n</style>\n<table border=\"1\" class=\"dataframe\">\n  <thead>\n    <tr style=\"text-align: right;\">\n      <th></th>\n      <th>ID</th>\n    </tr>\n    <tr>\n      <th>cola</th>\n      <th></th>\n    </tr>\n  </thead>\n  <tbody>\n    <tr>\n      <th>none</th>\n      <td>314</td>\n    </tr>\n    <tr>\n      <th>tc</th>\n      <td>64</td>\n    </tr>\n    <tr>\n      <th>tcf</th>\n      <td>42</td>\n    </tr>\n  </tbody>\n</table>\n</div>"
     },
     "execution_count": 755,
     "metadata": {},
     "output_type": "execute_result"
    }
   ],
   "source": [
    "# Consistency\n",
    "# Accuraccy\n",
    "# Completeness\n",
    "# Noise\n",
    "# Interpretability\n",
    "\n",
    "# 5   cola : cost of living allowance\n",
    "# [none, tcf, tc]\n",
    "s = pd.Series(df['cola'])\n",
    "others_counter = 0\n",
    "for x in s:\n",
    "    # check if all values are float\n",
    "    if x == 'none' or x == 'tcf' or x == 'tc':\n",
    "        pass\n",
    "    else:\n",
    "        others_counter += 1\n",
    "print('others: ' + str(others_counter))\n",
    "print('Amount of NaN/NULL values: ' + str(s.isna().sum()) + '/' + str(s.isnull().sum()))\n",
    "# replace NaN values with 'none'\n",
    "df.cola.fillna('none', inplace=True)\n",
    "print('Amount of NaN/NULL values: ' + str(s.isna().sum()) + '/' + str(s.isnull().sum()))\n",
    "df[['ID', 'cola']].groupby('cola').count()"
   ],
   "metadata": {
    "collapsed": false,
    "pycharm": {
     "name": "#%%\n"
    }
   }
  },
  {
   "cell_type": "markdown",
   "source": [
    "## hours"
   ],
   "metadata": {
    "collapsed": false
   }
  },
  {
   "cell_type": "code",
   "execution_count": 756,
   "outputs": [
    {
     "name": "stdout",
     "output_type": "stream",
     "text": [
      "Min: 9.0\n",
      "Max: 63.0\n",
      "Outside of range: 97\n"
     ]
    },
    {
     "data": {
      "text/plain": "<Figure size 720x360 with 1 Axes>",
      "image/png": "[encoded data removed]"
     },
     "metadata": {
      "needs_background": "light"
     },
     "output_type": "display_data"
    },
    {
     "name": "stdout",
     "output_type": "stream",
     "text": [
      "Amount of NULL values\n",
      "Null values exist: True\n",
      "Amount of NaN/NULL values: 34/34\n",
      "Min: 35.0\n",
      "Max: 40.0\n",
      "Amount of NaN/NULL values: 131/131\n",
      "Mean: 37.951557093425606\n",
      "Amount of NaN/NULL values: 0/0\n"
     ]
    },
    {
     "data": {
      "text/plain": "<Figure size 720x360 with 1 Axes>",
      "image/png": "[encoded data removed]"
     },
     "metadata": {
      "needs_background": "light"
     },
     "output_type": "display_data"
    }
   ],
   "source": [
    "# Consistency\n",
    "# Accuraccy\n",
    "# Completeness\n",
    "# Noise\n",
    "# Interpretability\n",
    "#\n",
    "# hours.hrs : number of working hours during week\n",
    "# [35 .. 40]\n",
    "s = pd.Series(df.hours)\n",
    "counter = 0\n",
    "for x in s:\n",
    "    # check if all values are float\n",
    "    # if type(x) is not type(1):\n",
    "    #     print('Invalid Type: ' + str(x))\n",
    "    # check if positive but not in range\n",
    "    if x > 40 or x < 35:\n",
    "        counter += 1\n",
    "\n",
    "print('Min: ' + str(df.hours.min()))\n",
    "print('Max: ' + str(df.hours.max()))\n",
    "print('Outside of range: ' + str(counter))\n",
    "\n",
    "# check noise\n",
    "df.boxplot(\n",
    "    column=['hours'],\n",
    "    figsize=(10, 5))\n",
    "plt.title('Noise hours BEFORE cleaning')\n",
    "plt.savefig('exports/07_01_hours_noise.png')\n",
    "plt.show()\n",
    "\n",
    "# check if a value is missing\n",
    "print('Amount of NULL values')\n",
    "print('Null values exist: ' + str(s.isnull().values.any()))\n",
    "print('Amount of NaN/NULL values: ' + str(s.isna().sum()) + '/' + str(s.isnull().sum()))\n",
    "\n",
    "# remove useless values < 35 and > 40\n",
    "df.loc[df.hours < 35, 'hours'] = np.nan\n",
    "df.loc[df.hours > 40, 'hours'] = np.nan\n",
    "print('Min: ' + str(df.hours.min()))\n",
    "print('Max: ' + str(df.hours.max()))\n",
    "print('Amount of NaN/NULL values: ' + str(s.isna().sum()) + '/' + str(s.isnull().sum()))\n",
    "# replace nan values with mean\n",
    "print('Mean: ' + str(df.hours.mean()))\n",
    "df.hours.fillna(df.hours.mean(), inplace=True)\n",
    "print('Amount of NaN/NULL values: ' + str(s.isna().sum()) + '/' + str(s.isnull().sum()))\n",
    "\n",
    "# check noise\n",
    "df.boxplot(\n",
    "    column=['hours'],\n",
    "    figsize=(10, 5))\n",
    "plt.title('Noise hours AFTER cleaning')\n",
    "plt.savefig('exports/07_02_hours_noise.png')\n",
    "plt.show()"
   ],
   "metadata": {
    "collapsed": false,
    "pycharm": {
     "name": "#%%\n"
    }
   }
  },
  {
   "cell_type": "markdown",
   "source": [
    "## pension"
   ],
   "metadata": {
    "collapsed": false
   }
  },
  {
   "cell_type": "code",
   "execution_count": 757,
   "outputs": [
    {
     "name": "stdout",
     "output_type": "stream",
     "text": [
      "others: 217\n",
      "sp: 29\n",
      "            ID\n",
      "pension       \n",
      "empl_contr  76\n",
      "none        69\n",
      "ret_allw    29\n",
      "self payed  29\n",
      "Amount of NaN/NULL values: 217/217\n",
      "Amount of NaN/NULL values: 0/0\n"
     ]
    },
    {
     "data": {
      "text/plain": "             ID\npension        \nempl_contr   76\nnone        286\nret_allw     29\nself payed   29",
      "text/html": "<div>\n<style scoped>\n    .dataframe tbody tr th:only-of-type {\n        vertical-align: middle;\n    }\n\n    .dataframe tbody tr th {\n        vertical-align: top;\n    }\n\n    .dataframe thead th {\n        text-align: right;\n    }\n</style>\n<table border=\"1\" class=\"dataframe\">\n  <thead>\n    <tr style=\"text-align: right;\">\n      <th></th>\n      <th>ID</th>\n    </tr>\n    <tr>\n      <th>pension</th>\n      <th></th>\n    </tr>\n  </thead>\n  <tbody>\n    <tr>\n      <th>empl_contr</th>\n      <td>76</td>\n    </tr>\n    <tr>\n      <th>none</th>\n      <td>286</td>\n    </tr>\n    <tr>\n      <th>ret_allw</th>\n      <td>29</td>\n    </tr>\n    <tr>\n      <th>self payed</th>\n      <td>29</td>\n    </tr>\n  </tbody>\n</table>\n</div>"
     },
     "execution_count": 757,
     "metadata": {},
     "output_type": "execute_result"
    }
   ],
   "source": [
    "# pension : employer contributions to pension plan\n",
    "# [none, ret_allw, empl_contr]\n",
    "\n",
    "# Consistency\n",
    "# Accuraccy\n",
    "# Completeness\n",
    "# Noise\n",
    "# Interpretability\n",
    "\n",
    "s = pd.Series(df['pension'])\n",
    "others_counter = 0\n",
    "sp_counter = 0\n",
    "for x in s:\n",
    "    # check if all values are float\n",
    "    if x == 'none' or x == 'ret_allw' or x == 'empl_contr':\n",
    "        pass\n",
    "    elif x == 'self payed':\n",
    "        sp_counter += 1\n",
    "    else:\n",
    "        others_counter += 1\n",
    "print('others: ' + str(others_counter))\n",
    "print('sp: ' + str(sp_counter))\n",
    "print(df[['ID', 'pension']].groupby('pension').count())\n",
    "print('Amount of NaN/NULL values: ' + str(s.isna().sum()) + '/' + str(s.isnull().sum()))\n",
    "# replace NaN values with 'none'\n",
    "df.pension.fillna('none', inplace=True)\n",
    "print('Amount of NaN/NULL values: ' + str(s.isna().sum()) + '/' + str(s.isnull().sum()))\n",
    "df[['ID', 'pension']].groupby('pension').count()\n"
   ],
   "metadata": {
    "collapsed": false,
    "pycharm": {
     "name": "#%%\n"
    }
   }
  },
  {
   "cell_type": "markdown",
   "source": [
    "## standby pay"
   ],
   "metadata": {
    "collapsed": false
   }
  },
  {
   "cell_type": "code",
   "execution_count": 758,
   "outputs": [
    {
     "name": "stdout",
     "output_type": "stream",
     "text": [
      "Min: -12.0\n",
      "Max: 29.0\n",
      "Mean: 6.991379310344827\n",
      "Negative: 34\n",
      "lower out of bounds: 21\n",
      "Amount of NULL values\n",
      "Null values exist: True\n",
      "Amount of NaN/NULL values: 304/304\n",
      "Amount of NULL values\n",
      "Null values exist: True\n",
      "Amount of NaN/NULL values: 359/359\n"
     ]
    },
    {
     "data": {
      "text/plain": "<Figure size 720x360 with 1 Axes>",
      "image/png": "[encoded data removed]"
     },
     "metadata": {
      "needs_background": "light"
     },
     "output_type": "display_data"
    },
    {
     "data": {
      "text/plain": "61"
     },
     "execution_count": 758,
     "metadata": {},
     "output_type": "execute_result"
    }
   ],
   "source": [
    "# stby_pay : standby pay = Bereitschaftsdienstvergütung\n",
    "# [2 .. 25]\n",
    "s = pd.Series(df.stby_pay)\n",
    "counter = 0\n",
    "for x in s:\n",
    "    # check if all values are float\n",
    "    if type(x) is not type(1.0):\n",
    "        print('Invalid Type: ' + str(x))\n",
    "    elif 25 < x:\n",
    "        counter += 1\n",
    "\n",
    "print('Min: ' + str(df.stby_pay.min()))\n",
    "print('Max: ' + str(df.stby_pay.max()))\n",
    "print('Mean: ' + str(df.stby_pay.mean()))\n",
    "print('Negative: ' + str(df.stby_pay.lt(0).sum()))\n",
    "print('lower out of bounds: ' + str(counter))\n",
    "\n",
    "# check if a value is missing\n",
    "print('Amount of NULL values')\n",
    "print('Null values exist: ' + str(s.isnull().values.any()))\n",
    "print('Amount of NaN/NULL values: ' + str(s.isna().sum()) + '/' + str(s.isnull().sum()))\n",
    "\n",
    "df.loc[df.stby_pay < 2.0, 'stby_pay'] = np.nan\n",
    "df.loc[df.stby_pay > 25.0, 'stby_pay'] = np.nan\n",
    "\n",
    "print('Amount of NULL values')\n",
    "print('Null values exist: ' + str(s.isnull().values.any()))\n",
    "print('Amount of NaN/NULL values: ' + str(s.isna().sum()) + '/' + str(s.isnull().sum()))\n",
    "\n",
    "# check noise\n",
    "df.boxplot(\n",
    "    column=['stby_pay'],\n",
    "    figsize=(10, 5))\n",
    "plt.title('Noise stby_pay')\n",
    "plt.savefig('exports/08_stby_pay_noise.png')\n",
    "plt.show()\n",
    "\n",
    "df.stby_pay.count()"
   ],
   "metadata": {
    "collapsed": false,
    "pycharm": {
     "name": "#%%\n"
    }
   }
  },
  {
   "cell_type": "markdown",
   "source": [
    "## shift differencial"
   ],
   "metadata": {
    "collapsed": false
   }
  },
  {
   "cell_type": "code",
   "execution_count": 759,
   "outputs": [
    {
     "name": "stdout",
     "output_type": "stream",
     "text": [
      "Min: 0.0\n",
      "Max: 25.0\n",
      "Mean: 4.680672268907563\n",
      "Negative: 0\n",
      "lower out of bounds: 8\n",
      "Amount of NULL values\n",
      "Null values exist: True\n",
      "Amount of NaN/NULL values: 182/182\n",
      "Amount of NULL values\n",
      "Null values exist: True\n",
      "Amount of NaN/NULL values: 190/190\n"
     ]
    },
    {
     "data": {
      "text/plain": "<Figure size 720x360 with 1 Axes>",
      "image/png": "[encoded data removed]"
     },
     "metadata": {
      "needs_background": "light"
     },
     "output_type": "display_data"
    },
    {
     "data": {
      "text/plain": "<Figure size 720x360 with 1 Axes>",
      "image/png": "[encoded data removed]"
     },
     "metadata": {
      "needs_background": "light"
     },
     "output_type": "display_data"
    },
    {
     "data": {
      "text/plain": "188"
     },
     "execution_count": 759,
     "metadata": {},
     "output_type": "execute_result"
    }
   ],
   "source": [
    "# shift_diff : shift differencial : supplement for work on II and III shift\n",
    "# [1 .. 25]\n",
    "\n",
    "s = pd.Series(df.shift_diff)\n",
    "counter = 0\n",
    "for x in s:\n",
    "    # check if all values are float\n",
    "    if type(x) is not type(1.0):\n",
    "        print('Invalid Type: ' + str(x))\n",
    "    elif 1 > x:\n",
    "        counter += 1\n",
    "\n",
    "print('Min: ' + str(df.shift_diff.min()))\n",
    "print('Max: ' + str(df.shift_diff.max()))\n",
    "print('Mean: ' + str(df.shift_diff.mean()))\n",
    "print('Negative: ' + str(df.shift_diff.lt(0).sum()))\n",
    "print('lower out of bounds: ' + str(counter))\n",
    "\n",
    "# check if a value is missing\n",
    "print('Amount of NULL values')\n",
    "print('Null values exist: ' + str(s.isnull().values.any()))\n",
    "print('Amount of NaN/NULL values: ' + str(s.isna().sum()) + '/' + str(s.isnull().sum()))\n",
    "\n",
    "df.loc[df.shift_diff < 1.0, 'shift_diff'] = np.nan\n",
    "print('Amount of NULL values')\n",
    "print('Null values exist: ' + str(s.isnull().values.any()))\n",
    "print('Amount of NaN/NULL values: ' + str(s.isna().sum()) + '/' + str(s.isnull().sum()))\n",
    "\n",
    "# check noise\n",
    "df.boxplot(\n",
    "    column=['shift_diff'],\n",
    "    figsize=(10, 5))\n",
    "plt.title('Noise shift_diff BEFORE cleaning')\n",
    "plt.savefig('exports/09_01_shift_diff_noise.png')\n",
    "plt.show()\n",
    "\n",
    "#remove noise first iteration\n",
    "Q1 = df.shift_diff.quantile(0.25)\n",
    "Q3 = df.shift_diff.quantile(0.75)\n",
    "IQR = Q3 - Q1  #IQR is interquartile range.\n",
    "iqr_filter = (df.shift_diff >= Q1 - 1.5 * IQR) & (df.shift_diff <= Q3 + 1.5 * IQR)\n",
    "df = df.loc[iqr_filter]\n",
    "\n",
    "#remove noise second iteration\n",
    "Q1 = df.shift_diff.quantile(0.25)\n",
    "Q3 = df.shift_diff.quantile(0.75)\n",
    "IQR = Q3 - Q1  #IQR is interquartile range.\n",
    "iqr_filter = (df.shift_diff >= Q1 - 1.5 * IQR) & (df.shift_diff <= Q3 + 1.5 * IQR)\n",
    "df = df.loc[iqr_filter]\n",
    "\n",
    "# check noise\n",
    "df.boxplot(\n",
    "    column=['shift_diff'],\n",
    "    figsize=(10, 5))\n",
    "plt.title('Noise shift_diff AFTER cleaning')\n",
    "plt.savefig('exports/09_02_shift_diff_noise.png')\n",
    "plt.show()\n",
    "\n",
    "df.shift_diff.count()\n",
    "\n",
    "# Consistency\n",
    "# Accuraccy\n",
    "# Completeness\n",
    "# Noise\n",
    "# Interpretability\n"
   ],
   "metadata": {
    "collapsed": false,
    "pycharm": {
     "name": "#%%\n"
    }
   }
  },
  {
   "cell_type": "markdown",
   "source": [
    "## education allowance"
   ],
   "metadata": {
    "collapsed": false
   }
  },
  {
   "cell_type": "code",
   "execution_count": 760,
   "outputs": [
    {
     "name": "stdout",
     "output_type": "stream",
     "text": [
      "others: 17\n",
      "            ID\n",
      "educ_allow    \n",
      "maybe       17\n",
      "no          54\n",
      "yes         37\n",
      "Amount of NaN/NULL values: 80/80\n",
      "Amount of NaN/NULL values: 0/0\n",
      "             ID\n",
      "educ_allow     \n",
      "no          151\n",
      "yes          37\n"
     ]
    }
   ],
   "source": [
    "# educ_allw.boolean : education allowance\n",
    "# [yes no]\n",
    "s = pd.Series(df['educ_allow'])\n",
    "others_counter = 0\n",
    "sp_counter = 0\n",
    "for x in s:\n",
    "    if x == 'yes' or x == 'no':\n",
    "        pass\n",
    "    elif x == 'maybe':\n",
    "        others_counter += 1\n",
    "print('others: ' + str(others_counter))\n",
    "print(df[['ID', 'educ_allow']].groupby('educ_allow').count())\n",
    "print('Amount of NaN/NULL values: ' + str(s.isna().sum()) + '/' + str(s.isnull().sum()))\n",
    "# replace maybe values with NaN\n",
    "df.loc[df.educ_allow == 'maybe', 'educ_allow'] = np.nan\n",
    "df.educ_allow.fillna('no', inplace=True)\n",
    "print('Amount of NaN/NULL values: ' + str(s.isna().sum()) + '/' + str(s.isnull().sum()))\n",
    "print(df[['ID', 'educ_allow']].groupby('educ_allow').count())"
   ],
   "metadata": {
    "collapsed": false,
    "pycharm": {
     "name": "#%%\n"
    }
   }
  },
  {
   "cell_type": "markdown",
   "source": [
    "## holidays"
   ],
   "metadata": {
    "collapsed": false
   }
  },
  {
   "cell_type": "code",
   "execution_count": 761,
   "outputs": [
    {
     "name": "stdout",
     "output_type": "stream",
     "text": [
      "Min: 3.0\n",
      "Max: 21.0\n",
      "Mean: 10.938202247191011\n",
      "Negative: 0\n",
      "lower out of bounds: 18\n",
      "Amount of NULL values\n",
      "Null values exist: True\n",
      "Amount of NaN/NULL values: 10/10\n",
      "Amount of NULL values\n",
      "Null values exist: True\n",
      "Amount of NaN/NULL values: 28/28\n"
     ]
    },
    {
     "data": {
      "text/plain": "<Figure size 720x360 with 1 Axes>",
      "image/png": "[encoded data removed]"
     },
     "metadata": {
      "needs_background": "light"
     },
     "output_type": "display_data"
    }
   ],
   "source": [
    "# holidays : number of statutory holidays\n",
    "# [9 .. 15]\n",
    "# Consistency\n",
    "# Accuraccy\n",
    "# Completeness\n",
    "# Noise\n",
    "# Interpretability\n",
    "s = pd.Series(df.holidays)\n",
    "counter = 0\n",
    "for x in s:\n",
    "    # check if all values are float\n",
    "    if type(x) is not type(1.0):\n",
    "        print('Invalid Type: ' + str(x))\n",
    "    elif x < 9 or x > 15:\n",
    "        counter += 1\n",
    "\n",
    "print('Min: ' + str(df.holidays.min()))\n",
    "print('Max: ' + str(df.holidays.max()))\n",
    "print('Mean: ' + str(df.holidays.mean()))\n",
    "print('Negative: ' + str(df.holidays.lt(0).sum()))\n",
    "print('lower out of bounds: ' + str(counter))\n",
    "\n",
    "# check if a value is missing\n",
    "print('Amount of NULL values')\n",
    "print('Null values exist: ' + str(s.isnull().values.any()))\n",
    "print('Amount of NaN/NULL values: ' + str(s.isna().sum()) + '/' + str(s.isnull().sum()))\n",
    "\n",
    "df.loc[df.holidays < 9.0, 'holidays'] = np.nan\n",
    "df.loc[df.holidays > 15.0, 'holidays'] = np.nan\n",
    "print('Amount of NULL values')\n",
    "print('Null values exist: ' + str(s.isnull().values.any()))\n",
    "print('Amount of NaN/NULL values: ' + str(s.isna().sum()) + '/' + str(s.isnull().sum()))\n",
    "\n",
    "# replace null with mean value\n",
    "df.holidays.fillna(df.holidays.mean(), inplace=True)\n",
    "\n",
    "# check noise\n",
    "df.boxplot(\n",
    "    column=['holidays'],\n",
    "    figsize=(10, 5))\n",
    "plt.title('Noise holidays')\n",
    "plt.savefig('exports/10_holidays_noise.png')\n",
    "plt.show()"
   ],
   "metadata": {
    "collapsed": false,
    "pycharm": {
     "name": "#%%\n"
    }
   }
  },
  {
   "cell_type": "markdown",
   "source": [
    "## vacation"
   ],
   "metadata": {
    "collapsed": false
   }
  },
  {
   "cell_type": "code",
   "execution_count": 762,
   "outputs": [
    {
     "name": "stdout",
     "output_type": "stream",
     "text": [
      "others: 188\n",
      "               ID\n",
      "vacation         \n",
      "average        57\n",
      "below average  64\n",
      "generous       54\n",
      "Amount of NaN/NULL values: 13/13\n",
      "Amount of NaN/NULL values: 0/0\n",
      "          ID\n",
      "vacation    \n",
      "avg       57\n",
      "ba        64\n",
      "gnr       54\n"
     ]
    }
   ],
   "source": [
    "# vacation : number of paid vacation days\n",
    "# [ba, avg, gnr]\n",
    "\n",
    "# Consistency\n",
    "# Accuraccy\n",
    "# Completeness\n",
    "# Noise\n",
    "# Interpretability\n",
    "\n",
    "s = pd.Series(df['vacation'])\n",
    "others_counter = 0\n",
    "sp_counter = 0\n",
    "for x in s:\n",
    "    if x == 'ba' or x == 'avg' or x == 'gnr':\n",
    "        pass\n",
    "    else:\n",
    "        others_counter += 1\n",
    "print('others: ' + str(others_counter))\n",
    "print(df[['ID', 'vacation']].groupby('vacation').count())\n",
    "print('Amount of NaN/NULL values: ' + str(s.isna().sum()) + '/' + str(s.isnull().sum()))\n",
    "# remove null values\n",
    "df = df[df.vacation.notna()]\n",
    "\n",
    "# rename the outcomes\n",
    "df.loc[df.vacation == 'average', 'vacation'] = 'avg'\n",
    "df.loc[df.vacation == 'below average', 'vacation'] = 'ba'\n",
    "df.loc[df.vacation == 'generous', 'vacation'] = 'gnr'\n",
    "\n",
    "s = pd.Series(df['vacation'])\n",
    "print('Amount of NaN/NULL values: ' + str(s.isna().sum()) + '/' + str(s.isnull().sum()))\n",
    "\n",
    "print(df[['ID', 'vacation']].groupby('vacation').count())"
   ],
   "metadata": {
    "collapsed": false,
    "pycharm": {
     "name": "#%%\n"
    }
   }
  },
  {
   "cell_type": "markdown",
   "source": [
    "## longterm disability"
   ],
   "metadata": {
    "collapsed": false
   }
  },
  {
   "cell_type": "code",
   "execution_count": 763,
   "outputs": [
    {
     "name": "stdout",
     "output_type": "stream",
     "text": [
      "others: 113\n",
      "                ID\n",
      "lngtrm_disabil    \n",
      "no              14\n",
      "yes             48\n",
      "Amount of NaN/NULL values: 113/113\n",
      "Amount of NaN/NULL values: 0/0\n",
      "                 ID\n",
      "lngtrm_disabil     \n",
      "no              127\n",
      "yes              48\n"
     ]
    }
   ],
   "source": [
    "# lngtrm_disabil.boolean :\n",
    "# employer's help during employee longterm disability [yes , no]\n",
    "\n",
    "# Consistency\n",
    "# Accuraccy\n",
    "# Completeness\n",
    "# Noise\n",
    "# Interpretability\n",
    "\n",
    "s = pd.Series(df['lngtrm_disabil'])\n",
    "others_counter = 0\n",
    "sp_counter = 0\n",
    "for x in s:\n",
    "    if x == 'yes' or x == 'no':\n",
    "        pass\n",
    "    else:\n",
    "        others_counter += 1\n",
    "print('others: ' + str(others_counter))\n",
    "print(df[['ID', 'lngtrm_disabil']].groupby('lngtrm_disabil').count())\n",
    "print('Amount of NaN/NULL values: ' + str(s.isna().sum()) + '/' + str(s.isnull().sum()))\n",
    "# replace Nan values with yes since they hold the majority\n",
    "df.lngtrm_disabil.fillna('no', inplace=True)\n",
    "print('Amount of NaN/NULL values: ' + str(df.lngtrm_disabil.isna().sum()) + '/' + str(df.lngtrm_disabil.isnull().sum()))\n",
    "print(df[['ID', 'lngtrm_disabil']].groupby('lngtrm_disabil').count())"
   ],
   "metadata": {
    "collapsed": false,
    "pycharm": {
     "name": "#%%\n"
    }
   }
  },
  {
   "cell_type": "markdown",
   "source": [
    "## dental plan"
   ],
   "metadata": {
    "collapsed": false
   }
  },
  {
   "cell_type": "code",
   "execution_count": 764,
   "outputs": [
    {
     "name": "stdout",
     "output_type": "stream",
     "text": [
      "others: 76\n",
      "          ID\n",
      "dntl_ins    \n",
      "full      29\n",
      "half      44\n",
      "none      26\n",
      "Amount of NaN/NULL values: 76/76\n",
      "Amount of NaN/NULL values: 0/0\n",
      "           ID\n",
      "dntl_ins     \n",
      "full       29\n",
      "half       44\n",
      "none      102\n"
     ]
    }
   ],
   "source": [
    "# dntl_ins : employers contribution towards the dental plan\n",
    "# [none, half, full]\n",
    "s = pd.Series(df['dntl_ins'])\n",
    "others_counter = 0\n",
    "sp_counter = 0\n",
    "for x in s:\n",
    "    if x == 'none' or x == 'half' or x == 'full':\n",
    "        pass\n",
    "    else:\n",
    "        others_counter += 1\n",
    "print('others: ' + str(others_counter))\n",
    "print(df[['ID', 'dntl_ins']].groupby('dntl_ins').count())\n",
    "print('Amount of NaN/NULL values: ' + str(s.isna().sum()) + '/' + str(s.isnull().sum()))\n",
    "# replace Nan values with none\n",
    "df.dntl_ins.fillna('none', inplace=True)\n",
    "print('Amount of NaN/NULL values: ' + str(df.dntl_ins.isna().sum()) + '/' + str(df.dntl_ins.isnull().sum()))\n",
    "print(df[['ID', 'dntl_ins']].groupby('dntl_ins').count())"
   ],
   "metadata": {
    "collapsed": false,
    "pycharm": {
     "name": "#%%\n"
    }
   }
  },
  {
   "cell_type": "markdown",
   "source": [
    "## bereavement"
   ],
   "metadata": {
    "collapsed": false
   }
  },
  {
   "cell_type": "code",
   "execution_count": 765,
   "outputs": [
    {
     "name": "stdout",
     "output_type": "stream",
     "text": [
      "others: 99\n",
      "             ID\n",
      "bereavement    \n",
      "maybe         3\n",
      "no            7\n",
      "yes          69\n",
      "Amount of NaN/NULL values: 96/96\n",
      "Amount of NaN/NULL values: 0/0\n",
      "              ID\n",
      "bereavement     \n",
      "no           106\n",
      "yes           69\n"
     ]
    }
   ],
   "source": [
    "# Consistency\n",
    "# Accuraccy\n",
    "# Completeness\n",
    "# Noise\n",
    "# Interpretability\n",
    "\n",
    "\n",
    "# bereavement.boolean : employer's financial contribution towards the covering the costs of bereavement\n",
    "# [yes , no]\n",
    "# get rid of typo in col name\n",
    "df = df.rename(columns={'breavement': 'bereavement'})\n",
    "s = pd.Series(df['bereavement'])\n",
    "others_counter = 0\n",
    "sp_counter = 0\n",
    "for x in s:\n",
    "    if x == 'yes' or x == 'no':\n",
    "        pass\n",
    "    else:\n",
    "        others_counter += 1\n",
    "print('others: ' + str(others_counter))\n",
    "print(df[['ID', 'bereavement']].groupby('bereavement').count())\n",
    "print('Amount of NaN/NULL values: ' + str(s.isna().sum()) + '/' + str(s.isnull().sum()))\n",
    "# remove maybe values\n",
    "df.loc[df.bereavement == 'maybe', 'bereavement'] = np.nan\n",
    "# replace Nan values with no\n",
    "df.bereavement.fillna('no', inplace=True)\n",
    "print('Amount of NaN/NULL values: ' + str(df.bereavement.isna().sum()) + '/' + str(df.bereavement.isnull().sum()))\n",
    "print(df[['ID', 'bereavement']].groupby('bereavement').count())"
   ],
   "metadata": {
    "collapsed": false,
    "pycharm": {
     "name": "#%%\n"
    }
   }
  },
  {
   "cell_type": "markdown",
   "source": [
    "## health plan"
   ],
   "metadata": {
    "collapsed": false
   }
  },
  {
   "cell_type": "code",
   "execution_count": 766,
   "outputs": [
    {
     "name": "stdout",
     "output_type": "stream",
     "text": [
      "others: 74\n",
      "            ID\n",
      "empl_hplan    \n",
      ".5          13\n",
      "full        46\n",
      "half        30\n",
      "none        25\n",
      "Amount of NaN/NULL values: 61/61\n",
      "Amount of NaN/NULL values: 0/0\n",
      "            ID\n",
      "empl_hplan    \n",
      "full        46\n",
      "half        43\n",
      "none        86\n"
     ]
    }
   ],
   "source": [
    "# Consistency\n",
    "# Accuraccy\n",
    "# Completeness\n",
    "# Noise\n",
    "# Interpretability\n",
    "\n",
    "# empl_hplan : employer's contribution towards the health plan\n",
    "# [none, half, full]\n",
    "\n",
    "# renaming\n",
    "df = df.rename(columns={'Empl.hplan': 'empl_hplan'})\n",
    "\n",
    "s = pd.Series(df['empl_hplan'])\n",
    "others_counter = 0\n",
    "sp_counter = 0\n",
    "for x in s:\n",
    "    if x == 'none' or x == 'half' or x == 'full':\n",
    "        pass\n",
    "    else:\n",
    "        others_counter += 1\n",
    "print('others: ' + str(others_counter))\n",
    "print(df[['ID', 'empl_hplan']].groupby('empl_hplan').count())\n",
    "print('Amount of NaN/NULL values: ' + str(s.isna().sum()) + '/' + str(s.isnull().sum()))\n",
    "\n",
    "#replace .5 with half\n",
    "df.loc[df.empl_hplan == '.5', 'empl_hplan'] = 'half'\n",
    "\n",
    "# replace null with none\n",
    "df.empl_hplan.fillna('none', inplace=True)\n",
    "\n",
    "print('Amount of NaN/NULL values: ' + str(s.isna().sum()) + '/' + str(s.isnull().sum()))\n",
    "print(df[['ID', 'empl_hplan']].groupby('empl_hplan').count())"
   ],
   "metadata": {
    "collapsed": false,
    "pycharm": {
     "name": "#%%\n"
    }
   }
  },
  {
   "cell_type": "markdown",
   "source": [
    "## consent"
   ],
   "metadata": {
    "collapsed": false
   }
  },
  {
   "cell_type": "code",
   "execution_count": 767,
   "outputs": [
    {
     "name": "stdout",
     "output_type": "stream",
     "text": [
      "others: 0\n",
      "          ID\n",
      "consent     \n",
      "??        11\n",
      "bad       56\n",
      "good     108\n",
      "Amount of NaN/NULL values: 0/0\n",
      "          ID\n",
      "consent     \n",
      "bad       56\n",
      "good     108\n",
      "Amount of NaN/NULL values: 11/11\n"
     ]
    },
    {
     "data": {
      "text/plain": "      ID  duration  wage1  wage2  wage3  cola      hours     pension  \\\n1      2  1.000000   2.00   3.04    NaN    tc  36.000000        none   \n6      7  3.000000   4.47   4.54    NaN  none  39.000000        none   \n8      9  2.000000   2.13   2.00    NaN  none  40.000000        none   \n17    18  3.000000   2.50   3.03    NaN  none  35.000000    ret_allw   \n20    21  1.000000   4.01   3.97   2.09  none  39.000000  empl_contr   \n..   ...       ...    ...    ...    ...   ...        ...         ...   \n584  585  1.000000   2.49   4.49    NaN    tc  37.000000        none   \n586  587  3.000000   4.34   3.97    NaN    tc  37.951557        none   \n590  591  2.088285   2.96   3.99    NaN  none  38.000000        none   \n591  592  2.000000   4.03   4.47    NaN  none  36.000000        none   \n593  594  2.088285   2.99   4.81   2.03   tcf  36.000000        none   \n\n     stby_pay  shift_diff educ_allow  holidays vacation lngtrm_disabil  \\\n1         NaN         4.0         no      13.0       ba             no   \n6         NaN         3.0        yes      14.0       ba             no   \n8         NaN         3.0        yes      14.0       ba             no   \n17        NaN         3.0         no       9.0      gnr             no   \n20       13.0         5.0         no      10.0       ba            yes   \n..        ...         ...        ...       ...      ...            ...   \n584       NaN         5.0        yes      11.0      avg             no   \n586       NaN         4.0         no      12.0       ba             no   \n590       NaN         2.0         no       9.0       ba             no   \n591       NaN         4.0         no      12.0      gnr             no   \n593       NaN         2.0         no      12.0       ba            yes   \n\n    dntl_ins bereavement empl_hplan consent  \n1       none          no       half    good  \n6       none          no       half     bad  \n8       none          no       none    good  \n17      half          no       none    good  \n20      none          no       full     NaN  \n..       ...         ...        ...     ...  \n584     full         yes       none     bad  \n586     half          no       half     bad  \n590     none         yes       full    good  \n591     none         yes       none    good  \n593     none          no       half     NaN  \n\n[175 rows x 18 columns]",
      "text/html": "<div>\n<style scoped>\n    .dataframe tbody tr th:only-of-type {\n        vertical-align: middle;\n    }\n\n    .dataframe tbody tr th {\n        vertical-align: top;\n    }\n\n    .dataframe thead th {\n        text-align: right;\n    }\n</style>\n<table border=\"1\" class=\"dataframe\">\n  <thead>\n    <tr style=\"text-align: right;\">\n      <th></th>\n      <th>ID</th>\n      <th>duration</th>\n      <th>wage1</th>\n      <th>wage2</th>\n      <th>wage3</th>\n      <th>cola</th>\n      <th>hours</th>\n      <th>pension</th>\n      <th>stby_pay</th>\n      <th>shift_diff</th>\n      <th>educ_allow</th>\n      <th>holidays</th>\n      <th>vacation</th>\n      <th>lngtrm_disabil</th>\n      <th>dntl_ins</th>\n      <th>bereavement</th>\n      <th>empl_hplan</th>\n      <th>consent</th>\n    </tr>\n  </thead>\n  <tbody>\n    <tr>\n      <th>1</th>\n      <td>2</td>\n      <td>1.000000</td>\n      <td>2.00</td>\n      <td>3.04</td>\n      <td>NaN</td>\n      <td>tc</td>\n      <td>36.000000</td>\n      <td>none</td>\n      <td>NaN</td>\n      <td>4.0</td>\n      <td>no</td>\n      <td>13.0</td>\n      <td>ba</td>\n      <td>no</td>\n      <td>none</td>\n      <td>no</td>\n      <td>half</td>\n      <td>good</td>\n    </tr>\n    <tr>\n      <th>6</th>\n      <td>7</td>\n      <td>3.000000</td>\n      <td>4.47</td>\n      <td>4.54</td>\n      <td>NaN</td>\n      <td>none</td>\n      <td>39.000000</td>\n      <td>none</td>\n      <td>NaN</td>\n      <td>3.0</td>\n      <td>yes</td>\n      <td>14.0</td>\n      <td>ba</td>\n      <td>no</td>\n      <td>none</td>\n      <td>no</td>\n      <td>half</td>\n      <td>bad</td>\n    </tr>\n    <tr>\n      <th>8</th>\n      <td>9</td>\n      <td>2.000000</td>\n      <td>2.13</td>\n      <td>2.00</td>\n      <td>NaN</td>\n      <td>none</td>\n      <td>40.000000</td>\n      <td>none</td>\n      <td>NaN</td>\n      <td>3.0</td>\n      <td>yes</td>\n      <td>14.0</td>\n      <td>ba</td>\n      <td>no</td>\n      <td>none</td>\n      <td>no</td>\n      <td>none</td>\n      <td>good</td>\n    </tr>\n    <tr>\n      <th>17</th>\n      <td>18</td>\n      <td>3.000000</td>\n      <td>2.50</td>\n      <td>3.03</td>\n      <td>NaN</td>\n      <td>none</td>\n      <td>35.000000</td>\n      <td>ret_allw</td>\n      <td>NaN</td>\n      <td>3.0</td>\n      <td>no</td>\n      <td>9.0</td>\n      <td>gnr</td>\n      <td>no</td>\n      <td>half</td>\n      <td>no</td>\n      <td>none</td>\n      <td>good</td>\n    </tr>\n    <tr>\n      <th>20</th>\n      <td>21</td>\n      <td>1.000000</td>\n      <td>4.01</td>\n      <td>3.97</td>\n      <td>2.09</td>\n      <td>none</td>\n      <td>39.000000</td>\n      <td>empl_contr</td>\n      <td>13.0</td>\n      <td>5.0</td>\n      <td>no</td>\n      <td>10.0</td>\n      <td>ba</td>\n      <td>yes</td>\n      <td>none</td>\n      <td>no</td>\n      <td>full</td>\n      <td>NaN</td>\n    </tr>\n    <tr>\n      <th>...</th>\n      <td>...</td>\n      <td>...</td>\n      <td>...</td>\n      <td>...</td>\n      <td>...</td>\n      <td>...</td>\n      <td>...</td>\n      <td>...</td>\n      <td>...</td>\n      <td>...</td>\n      <td>...</td>\n      <td>...</td>\n      <td>...</td>\n      <td>...</td>\n      <td>...</td>\n      <td>...</td>\n      <td>...</td>\n      <td>...</td>\n    </tr>\n    <tr>\n      <th>584</th>\n      <td>585</td>\n      <td>1.000000</td>\n      <td>2.49</td>\n      <td>4.49</td>\n      <td>NaN</td>\n      <td>tc</td>\n      <td>37.000000</td>\n      <td>none</td>\n      <td>NaN</td>\n      <td>5.0</td>\n      <td>yes</td>\n      <td>11.0</td>\n      <td>avg</td>\n      <td>no</td>\n      <td>full</td>\n      <td>yes</td>\n      <td>none</td>\n      <td>bad</td>\n    </tr>\n    <tr>\n      <th>586</th>\n      <td>587</td>\n      <td>3.000000</td>\n      <td>4.34</td>\n      <td>3.97</td>\n      <td>NaN</td>\n      <td>tc</td>\n      <td>37.951557</td>\n      <td>none</td>\n      <td>NaN</td>\n      <td>4.0</td>\n      <td>no</td>\n      <td>12.0</td>\n      <td>ba</td>\n      <td>no</td>\n      <td>half</td>\n      <td>no</td>\n      <td>half</td>\n      <td>bad</td>\n    </tr>\n    <tr>\n      <th>590</th>\n      <td>591</td>\n      <td>2.088285</td>\n      <td>2.96</td>\n      <td>3.99</td>\n      <td>NaN</td>\n      <td>none</td>\n      <td>38.000000</td>\n      <td>none</td>\n      <td>NaN</td>\n      <td>2.0</td>\n      <td>no</td>\n      <td>9.0</td>\n      <td>ba</td>\n      <td>no</td>\n      <td>none</td>\n      <td>yes</td>\n      <td>full</td>\n      <td>good</td>\n    </tr>\n    <tr>\n      <th>591</th>\n      <td>592</td>\n      <td>2.000000</td>\n      <td>4.03</td>\n      <td>4.47</td>\n      <td>NaN</td>\n      <td>none</td>\n      <td>36.000000</td>\n      <td>none</td>\n      <td>NaN</td>\n      <td>4.0</td>\n      <td>no</td>\n      <td>12.0</td>\n      <td>gnr</td>\n      <td>no</td>\n      <td>none</td>\n      <td>yes</td>\n      <td>none</td>\n      <td>good</td>\n    </tr>\n    <tr>\n      <th>593</th>\n      <td>594</td>\n      <td>2.088285</td>\n      <td>2.99</td>\n      <td>4.81</td>\n      <td>2.03</td>\n      <td>tcf</td>\n      <td>36.000000</td>\n      <td>none</td>\n      <td>NaN</td>\n      <td>2.0</td>\n      <td>no</td>\n      <td>12.0</td>\n      <td>ba</td>\n      <td>yes</td>\n      <td>none</td>\n      <td>no</td>\n      <td>half</td>\n      <td>NaN</td>\n    </tr>\n  </tbody>\n</table>\n<p>175 rows × 18 columns</p>\n</div>"
     },
     "execution_count": 767,
     "metadata": {},
     "output_type": "execute_result"
    }
   ],
   "source": [
    "s = pd.Series(df['consent'])\n",
    "others_counter = 0\n",
    "sp_counter = 0\n",
    "print('others: ' + str(others_counter))\n",
    "print(df[['ID', 'consent']].groupby('consent').count())\n",
    "print('Amount of NaN/NULL values: ' + str(s.isna().sum()) + '/' + str(s.isnull().sum()))\n",
    "\n",
    "# replace ?? with NaN\n",
    "df.loc[df.consent == '??', 'consent'] = np.nan\n",
    "print(df[['ID', 'consent']].groupby('consent').count())\n",
    "print('Amount of NaN/NULL values: ' + str(s.isna().sum()) + '/' + str(s.isnull().sum()))\n",
    "\n",
    "df"
   ],
   "metadata": {
    "collapsed": false,
    "pycharm": {
     "name": "#%%\n"
    }
   }
  }
 ],
 "metadata": {
  "kernelspec": {
   "display_name": "Python 3 (ipykernel)",
   "language": "python",
   "name": "python3"
  },
  "language_info": {
   "codemirror_mode": {
    "name": "ipython",
    "version": 3
   },
   "file_extension": ".py",
   "mimetype": "text/x-python",
   "name": "python",
   "nbconvert_exporter": "python",
   "pygments_lexer": "ipython3",
   "version": "3.9.0"
  }
 },
 "nbformat": 4,
 "nbformat_minor": 5
}