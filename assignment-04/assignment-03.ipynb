{
 "cells": [
  {
   "cell_type": "markdown",
   "source": [
    "# Data Mining Assignment 4\n",
    "\n",
    "## Task 1:"
   ],
   "metadata": {
    "collapsed": false
   }
  },
  {
   "cell_type": "code",
   "execution_count": 4,
   "outputs": [
    {
     "name": "stdout",
     "output_type": "stream",
     "text": [
      "   Row.ID         Order.ID Order.Date Ship.Date  Ship.Mode Customer.ID  \\\n",
      "0   42433     AG-2011-2040   1/1/2011  6/1/2011          4    TB-11280   \n",
      "1   22253    IN-2011-47883   1/1/2011  8/1/2011          4    JH-15985   \n",
      "2   48883     HU-2011-1220   1/1/2011  5/1/2011          3      AT-735   \n",
      "3   11731  IT-2011-3647632   1/1/2011  5/1/2011          3    EM-14140   \n",
      "4   22255    IN-2011-47883   1/1/2011  8/1/2011          4    JH-15985   \n",
      "\n",
      "     Customer.Name  Segment         City            State  ... Category  \\\n",
      "0  Toby Braunhardt        1  Constantine      Constantine  ...        2   \n",
      "1      Joseph Holt        1  Wagga Wagga  New South Wales  ...        2   \n",
      "2    Annie Thurman        1     Budapest         Budapest  ...        2   \n",
      "3     Eugene Moren        3    Stockholm        Stockholm  ...        2   \n",
      "4      Joseph Holt        1  Wagga Wagga  New South Wales  ...        1   \n",
      "\n",
      "   Sub.Category                 Product.Name    Sales Quantity  Discount  \\\n",
      "0       Storage          Tenex Lockers, Blue  408.300        2       0.0   \n",
      "1      Supplies     Acme Trimmer, High Speed  120.366        3       0.1   \n",
      "2       Storage      Tenex Box, Single Width   66.120        4       0.0   \n",
      "3         Paper  Enermax Note Cards, Premium   44.865        3       0.5   \n",
      "4   Furnishings   Eldon Light Bulb, Duo Pack  113.670        5       0.1   \n",
      "\n",
      "    Profit Shipping.Cost  Status  Order.Priority  \n",
      "0  106.140         35.46       1               4  \n",
      "1   36.036          9.72       1               4  \n",
      "2   29.640          8.17       1               2  \n",
      "3  -26.055          4.82       1               2  \n",
      "4   37.770          4.70       1               4  \n",
      "\n",
      "[5 rows x 25 columns]\n",
      "Row.ID              int64\n",
      "Order.ID           object\n",
      "Order.Date         object\n",
      "Ship.Date          object\n",
      "Ship.Mode           int64\n",
      "Customer.ID        object\n",
      "Customer.Name      object\n",
      "Segment             int64\n",
      "City               object\n",
      "State              object\n",
      "Country            object\n",
      "Postal.Code       float64\n",
      "Market             object\n",
      "Region             object\n",
      "Product.ID         object\n",
      "Category            int64\n",
      "Sub.Category       object\n",
      "Product.Name       object\n",
      "Sales             float64\n",
      "Quantity            int64\n",
      "Discount          float64\n",
      "Profit            float64\n",
      "Shipping.Cost     float64\n",
      "Status              int64\n",
      "Order.Priority      int64\n",
      "dtype: object\n",
      "\n",
      "Rows=51290\n",
      "\n",
      "Columns=25\n",
      "\n",
      "Number of NaN:\n",
      "\n"
     ]
    },
    {
     "data": {
      "text/plain": "   Row.ID         Order.ID Order.Date Ship.Date  Ship.Mode Customer.ID  \\\n0   42433     AG-2011-2040   1/1/2011  6/1/2011          4    TB-11280   \n1   22253    IN-2011-47883   1/1/2011  8/1/2011          4    JH-15985   \n2   48883     HU-2011-1220   1/1/2011  5/1/2011          3      AT-735   \n3   11731  IT-2011-3647632   1/1/2011  5/1/2011          3    EM-14140   \n4   22255    IN-2011-47883   1/1/2011  8/1/2011          4    JH-15985   \n\n     Customer.Name  Segment         City            State  ... Category  \\\n0  Toby Braunhardt        1  Constantine      Constantine  ...        2   \n1      Joseph Holt        1  Wagga Wagga  New South Wales  ...        2   \n2    Annie Thurman        1     Budapest         Budapest  ...        2   \n3     Eugene Moren        3    Stockholm        Stockholm  ...        2   \n4      Joseph Holt        1  Wagga Wagga  New South Wales  ...        1   \n\n   Sub.Category                 Product.Name    Sales Quantity  Discount  \\\n0       Storage          Tenex Lockers, Blue  408.300        2       0.0   \n1      Supplies     Acme Trimmer, High Speed  120.366        3       0.1   \n2       Storage      Tenex Box, Single Width   66.120        4       0.0   \n3         Paper  Enermax Note Cards, Premium   44.865        3       0.5   \n4   Furnishings   Eldon Light Bulb, Duo Pack  113.670        5       0.1   \n\n    Profit Shipping.Cost  Status  Order.Priority  \n0  106.140         35.46       1               4  \n1   36.036          9.72       1               4  \n2   29.640          8.17       1               2  \n3  -26.055          4.82       1               2  \n4   37.770          4.70       1               4  \n\n[5 rows x 25 columns]",
      "text/html": "<div>\n<style scoped>\n    .dataframe tbody tr th:only-of-type {\n        vertical-align: middle;\n    }\n\n    .dataframe tbody tr th {\n        vertical-align: top;\n    }\n\n    .dataframe thead th {\n        text-align: right;\n    }\n</style>\n<table border=\"1\" class=\"dataframe\">\n  <thead>\n    <tr style=\"text-align: right;\">\n      <th></th>\n      <th>Row.ID</th>\n      <th>Order.ID</th>\n      <th>Order.Date</th>\n      <th>Ship.Date</th>\n      <th>Ship.Mode</th>\n      <th>Customer.ID</th>\n      <th>Customer.Name</th>\n      <th>Segment</th>\n      <th>City</th>\n      <th>State</th>\n      <th>...</th>\n      <th>Category</th>\n      <th>Sub.Category</th>\n      <th>Product.Name</th>\n      <th>Sales</th>\n      <th>Quantity</th>\n      <th>Discount</th>\n      <th>Profit</th>\n      <th>Shipping.Cost</th>\n      <th>Status</th>\n      <th>Order.Priority</th>\n    </tr>\n  </thead>\n  <tbody>\n    <tr>\n      <th>0</th>\n      <td>42433</td>\n      <td>AG-2011-2040</td>\n      <td>1/1/2011</td>\n      <td>6/1/2011</td>\n      <td>4</td>\n      <td>TB-11280</td>\n      <td>Toby Braunhardt</td>\n      <td>1</td>\n      <td>Constantine</td>\n      <td>Constantine</td>\n      <td>...</td>\n      <td>2</td>\n      <td>Storage</td>\n      <td>Tenex Lockers, Blue</td>\n      <td>408.300</td>\n      <td>2</td>\n      <td>0.0</td>\n      <td>106.140</td>\n      <td>35.46</td>\n      <td>1</td>\n      <td>4</td>\n    </tr>\n    <tr>\n      <th>1</th>\n      <td>22253</td>\n      <td>IN-2011-47883</td>\n      <td>1/1/2011</td>\n      <td>8/1/2011</td>\n      <td>4</td>\n      <td>JH-15985</td>\n      <td>Joseph Holt</td>\n      <td>1</td>\n      <td>Wagga Wagga</td>\n      <td>New South Wales</td>\n      <td>...</td>\n      <td>2</td>\n      <td>Supplies</td>\n      <td>Acme Trimmer, High Speed</td>\n      <td>120.366</td>\n      <td>3</td>\n      <td>0.1</td>\n      <td>36.036</td>\n      <td>9.72</td>\n      <td>1</td>\n      <td>4</td>\n    </tr>\n    <tr>\n      <th>2</th>\n      <td>48883</td>\n      <td>HU-2011-1220</td>\n      <td>1/1/2011</td>\n      <td>5/1/2011</td>\n      <td>3</td>\n      <td>AT-735</td>\n      <td>Annie Thurman</td>\n      <td>1</td>\n      <td>Budapest</td>\n      <td>Budapest</td>\n      <td>...</td>\n      <td>2</td>\n      <td>Storage</td>\n      <td>Tenex Box, Single Width</td>\n      <td>66.120</td>\n      <td>4</td>\n      <td>0.0</td>\n      <td>29.640</td>\n      <td>8.17</td>\n      <td>1</td>\n      <td>2</td>\n    </tr>\n    <tr>\n      <th>3</th>\n      <td>11731</td>\n      <td>IT-2011-3647632</td>\n      <td>1/1/2011</td>\n      <td>5/1/2011</td>\n      <td>3</td>\n      <td>EM-14140</td>\n      <td>Eugene Moren</td>\n      <td>3</td>\n      <td>Stockholm</td>\n      <td>Stockholm</td>\n      <td>...</td>\n      <td>2</td>\n      <td>Paper</td>\n      <td>Enermax Note Cards, Premium</td>\n      <td>44.865</td>\n      <td>3</td>\n      <td>0.5</td>\n      <td>-26.055</td>\n      <td>4.82</td>\n      <td>1</td>\n      <td>2</td>\n    </tr>\n    <tr>\n      <th>4</th>\n      <td>22255</td>\n      <td>IN-2011-47883</td>\n      <td>1/1/2011</td>\n      <td>8/1/2011</td>\n      <td>4</td>\n      <td>JH-15985</td>\n      <td>Joseph Holt</td>\n      <td>1</td>\n      <td>Wagga Wagga</td>\n      <td>New South Wales</td>\n      <td>...</td>\n      <td>1</td>\n      <td>Furnishings</td>\n      <td>Eldon Light Bulb, Duo Pack</td>\n      <td>113.670</td>\n      <td>5</td>\n      <td>0.1</td>\n      <td>37.770</td>\n      <td>4.70</td>\n      <td>1</td>\n      <td>4</td>\n    </tr>\n  </tbody>\n</table>\n<p>5 rows × 25 columns</p>\n</div>"
     },
     "execution_count": 4,
     "metadata": {},
     "output_type": "execute_result"
    }
   ],
   "source": [
    "import numpy as np\n",
    "import pandas as pd\n",
    "import matplotlib.pyplot as plt\n",
    "\n",
    "# read in file with semicolon delimiter\n",
    "df = pd.read_csv('data/store.csv', encoding='latin-1')\n",
    "\n",
    "# check how the data looks\n",
    "print(df.head())\n",
    "# check data types\n",
    "print(df.dtypes)\n",
    "print('\\nRows=' + str(len(df.index)) + '\\n')\n",
    "print('Columns=' + str(len(df.columns)) + '\\n')\n",
    "print('Number of NaN:''\\n')\n",
    "df.isna().sum()\n",
    "df.head()"
   ],
   "metadata": {
    "collapsed": false,
    "pycharm": {
     "name": "#%%\n"
    }
   }
  }
 ],
 "metadata": {
  "kernelspec": {
   "display_name": "Python 3 (ipykernel)",
   "language": "python",
   "name": "python3"
  },
  "language_info": {
   "codemirror_mode": {
    "name": "ipython",
    "version": 3
   },
   "file_extension": ".py",
   "mimetype": "text/x-python",
   "name": "python",
   "nbconvert_exporter": "python",
   "pygments_lexer": "ipython3",
   "version": "3.9.0"
  }
 },
 "nbformat": 4,
 "nbformat_minor": 5
}